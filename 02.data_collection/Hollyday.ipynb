{
 "cells": [
  {
   "cell_type": "markdown",
   "id": "351abc7b",
   "metadata": {},
   "source": [
    "# 공휴일 정보 가져오기 #"
   ]
  },
  {
   "cell_type": "code",
   "execution_count": 8,
   "id": "2900309c",
   "metadata": {},
   "outputs": [],
   "source": [
    "import requests\n",
    "from configparser import RawConfigParser    # .ini 형식의 파일에서 정보를 파싱해서 가져오기 위한 모듈\n",
    "import pandas as pd\n",
    "import xml.etree.ElementTree as et          # .xml 형식의 파일에서 정보를 파싱하기 위한 모듈\n",
    "\n",
    "# data.org 사이트에서 API를 사용하기 위한 key를 가져오는 함수 \n",
    "def get_config(config, api_name):\n",
    "    config.read('..\\..\\..\\.ignore\\API.ini')\n",
    "    if 'DATA_ORG' in api_name.upper():\n",
    "        config_data = {\n",
    "            'encode':config.get('DATA_ORG', 'encode').strip(),\n",
    "            'decode':config.get('DATA_ORG', 'decode').strip()\n",
    "            }\n",
    "        return config_data\n",
    "\n",
    "config = RawConfigParser()\n",
    "apikey=get_config(config, 'DATA_ORG')\n",
    "\n",
    "solYear_list = ['2023','2024']\n",
    "solMonth_list = ['01','02','03','04','05','06','07','08','09','10','11','12']\n",
    "\n",
    "all_hollyday_list = []\n",
    "\n",
    "for year in solYear_list:\n",
    "    for month in solMonth_list:\n",
    "        callback_url = 'http://apis.data.go.kr/B090041/openapi/service/SpcdeInfoService/getRestDeInfo'\n",
    "        url_params = {'solYear':year,\n",
    "            'solMonth':month,\n",
    "            'serviceKey':apikey['decode']}\n",
    "        \n",
    "        req = requests.get(callback_url,params=url_params)  # requests로 api 데이터를 받아옴\n",
    "        xml_content = req.content.decode('utf-8')           # req에 저장된 byte 데이터를 문자열 데이터로 변환\n",
    "        xml_root = et.fromstring(xml_content)               # xml 형식을 갖춘 문자열을 xml 객체로 변환\n",
    "        # 키값을 이용하여 데이터 파싱하는 코드\n",
    "        body = xml_root.find('body')\n",
    "        items_element = body.find('items')\n",
    "        if items_element is not None:\n",
    "            for item in items_element.findall('item'):\n",
    "                item_data = {}\n",
    "                for child in item:\n",
    "                    item_data[child.tag] = child.text\n",
    "                all_hollyday_list.append(item_data)\n",
    "            "
   ]
  },
  {
   "cell_type": "code",
   "execution_count": 9,
   "id": "19949c50",
   "metadata": {},
   "outputs": [],
   "source": [
    "df = pd.DataFrame(all_hollyday_list, index=None)\n",
    "df.drop(columns=['dateKind', 'isHoliday', 'seq'], inplace=True)\n",
    "df.to_csv('hollyday_2023-2024.csv', index=False, encoding='utf-8-sig')"
   ]
  }
 ],
 "metadata": {
  "kernelspec": {
   "display_name": "testenv",
   "language": "python",
   "name": "python3"
  },
  "language_info": {
   "codemirror_mode": {
    "name": "ipython",
    "version": 3
   },
   "file_extension": ".py",
   "mimetype": "text/x-python",
   "name": "python",
   "nbconvert_exporter": "python",
   "pygments_lexer": "ipython3",
   "version": "3.11.11"
  }
 },
 "nbformat": 4,
 "nbformat_minor": 5
}
