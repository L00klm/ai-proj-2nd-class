{
 "cells": [
  {
   "cell_type": "code",
   "execution_count": 1,
   "id": "4cd2b861",
   "metadata": {},
   "outputs": [
    {
     "name": "stdout",
     "output_type": "stream",
     "text": [
      "<class 'pandas.core.frame.DataFrame'>\n",
      "RangeIndex: 2072 entries, 0 to 2071\n",
      "Data columns (total 21 columns):\n",
      " #   Column          Non-Null Count  Dtype  \n",
      "---  ------          --------------  -----  \n",
      " 0   game_id         2072 non-null   int64  \n",
      " 1   stadium_code    2072 non-null   object \n",
      " 2   sports_type     2072 non-null   object \n",
      " 3   game_date       2072 non-null   object \n",
      " 4   day_of_week     2072 non-null   object \n",
      " 5   is_holiday      2072 non-null   int64  \n",
      " 6   start_time      2072 non-null   object \n",
      " 7   home_team_win   2072 non-null   int64  \n",
      " 8   audience        2072 non-null   float64\n",
      " 9   region          2072 non-null   object \n",
      " 10  accident_count  2072 non-null   float64\n",
      " 11  injury_count    2072 non-null   float64\n",
      " 12  death_count     2072 non-null   float64\n",
      " 13  temperature     2072 non-null   float64\n",
      " 14  precipitation   2072 non-null   float64\n",
      " 15  snow_depth      2072 non-null   float64\n",
      " 16  start_hour      2072 non-null   int64  \n",
      " 17  match_시범경기      2072 non-null   bool   \n",
      " 18  match_정규시즌      2072 non-null   bool   \n",
      " 19  match_포스트시즌     2072 non-null   bool   \n",
      " 20  accident_score  2072 non-null   float64\n",
      "dtypes: bool(3), float64(8), int64(4), object(6)\n",
      "memory usage: 297.6+ KB\n"
     ]
    }
   ],
   "source": [
    "import pandas as pd\n",
    "import numpy as np\n",
    "import scipy.stats as ss\n",
    "import pingouin as pg\n",
    "from statsmodels.stats.multicomp import pairwise_tukeyhsd\n",
    "from statsmodels.stats.outliers_influence import variance_inflation_factor\n",
    "import statsmodels.formula.api as smf\n",
    "\n",
    "df = pd.read_csv(\"1st-dataset-prepressed-baseball.csv\")     # 1차 데이터셋\n",
    "\n",
    "pd.set_option(\"display.max_columns\", None)\n",
    "\n",
    "# 분석용 편의 함수\n",
    "def pct(n): return f\"{n:.1%}\"\n",
    "\n",
    "# df['accident_score'] = df['accident_count'] + 3 * df['injury_count'] + 10 * df['death_count']\n",
    "df['accident_score'] = df['accident_count'] + 3 * df['injury_count']\n",
    "\n",
    "\n",
    "df.info()"
   ]
  },
  {
   "cell_type": "code",
   "execution_count": 7,
   "id": "87c68dcd",
   "metadata": {},
   "outputs": [
    {
     "name": "stdout",
     "output_type": "stream",
     "text": [
      "Fitting 3 folds for each of 16 candidates, totalling 48 fits\n"
     ]
    },
    {
     "name": "stderr",
     "output_type": "stream",
     "text": [
      "/opt/anaconda3/envs/myFirstProj/lib/python3.13/site-packages/sklearn/linear_model/_linear_loss.py:330: RuntimeWarning: invalid value encountered in matmul\n",
      "  grad[:n_features] = X.T @ grad_pointwise + l2_reg_strength * weights\n",
      "/opt/anaconda3/envs/myFirstProj/lib/python3.13/site-packages/sklearn/linear_model/_linear_loss.py:330: RuntimeWarning: invalid value encountered in matmul\n",
      "  grad[:n_features] = X.T @ grad_pointwise + l2_reg_strength * weights\n",
      "/opt/anaconda3/envs/myFirstProj/lib/python3.13/site-packages/sklearn/linear_model/_linear_loss.py:330: RuntimeWarning: invalid value encountered in matmul\n",
      "  grad[:n_features] = X.T @ grad_pointwise + l2_reg_strength * weights\n"
     ]
    },
    {
     "name": "stdout",
     "output_type": "stream",
     "text": [
      "[CV] END gb__learning_rate=0.05, gb__n_estimators=100, rf__max_depth=5, rf__n_estimators=100; total time=   1.4s\n",
      "[CV] END gb__learning_rate=0.05, gb__n_estimators=100, rf__max_depth=5, rf__n_estimators=100; total time=   1.5s\n",
      "[CV] END gb__learning_rate=0.05, gb__n_estimators=100, rf__max_depth=5, rf__n_estimators=100; total time=   1.6s\n"
     ]
    },
    {
     "name": "stderr",
     "output_type": "stream",
     "text": [
      "/opt/anaconda3/envs/myFirstProj/lib/python3.13/site-packages/sklearn/linear_model/_linear_loss.py:330: RuntimeWarning: invalid value encountered in matmul\n",
      "  grad[:n_features] = X.T @ grad_pointwise + l2_reg_strength * weights\n",
      "/opt/anaconda3/envs/myFirstProj/lib/python3.13/site-packages/sklearn/linear_model/_linear_loss.py:330: RuntimeWarning: invalid value encountered in matmul\n",
      "  grad[:n_features] = X.T @ grad_pointwise + l2_reg_strength * weights\n",
      "/opt/anaconda3/envs/myFirstProj/lib/python3.13/site-packages/sklearn/linear_model/_linear_loss.py:330: RuntimeWarning: invalid value encountered in matmul\n",
      "  grad[:n_features] = X.T @ grad_pointwise + l2_reg_strength * weights\n"
     ]
    },
    {
     "name": "stdout",
     "output_type": "stream",
     "text": [
      "[CV] END gb__learning_rate=0.05, gb__n_estimators=100, rf__max_depth=10, rf__n_estimators=100; total time=   1.9s\n",
      "[CV] END gb__learning_rate=0.05, gb__n_estimators=100, rf__max_depth=10, rf__n_estimators=100; total time=   2.0s\n",
      "[CV] END gb__learning_rate=0.05, gb__n_estimators=100, rf__max_depth=10, rf__n_estimators=100; total time=   2.0s\n"
     ]
    },
    {
     "name": "stderr",
     "output_type": "stream",
     "text": [
      "/opt/anaconda3/envs/myFirstProj/lib/python3.13/site-packages/sklearn/linear_model/_linear_loss.py:330: RuntimeWarning: invalid value encountered in matmul\n",
      "  grad[:n_features] = X.T @ grad_pointwise + l2_reg_strength * weights\n",
      "/opt/anaconda3/envs/myFirstProj/lib/python3.13/site-packages/sklearn/linear_model/_linear_loss.py:330: RuntimeWarning: invalid value encountered in matmul\n",
      "  grad[:n_features] = X.T @ grad_pointwise + l2_reg_strength * weights\n",
      "/opt/anaconda3/envs/myFirstProj/lib/python3.13/site-packages/sklearn/linear_model/_linear_loss.py:330: RuntimeWarning: invalid value encountered in matmul\n",
      "  grad[:n_features] = X.T @ grad_pointwise + l2_reg_strength * weights\n"
     ]
    },
    {
     "name": "stdout",
     "output_type": "stream",
     "text": [
      "[CV] END gb__learning_rate=0.05, gb__n_estimators=100, rf__max_depth=5, rf__n_estimators=200; total time=   2.5s\n",
      "[CV] END gb__learning_rate=0.05, gb__n_estimators=100, rf__max_depth=5, rf__n_estimators=200; total time=   2.6s\n",
      "[CV] END gb__learning_rate=0.05, gb__n_estimators=100, rf__max_depth=5, rf__n_estimators=200; total time=   2.7s\n"
     ]
    },
    {
     "name": "stderr",
     "output_type": "stream",
     "text": [
      "/opt/anaconda3/envs/myFirstProj/lib/python3.13/site-packages/sklearn/linear_model/_linear_loss.py:330: RuntimeWarning: invalid value encountered in matmul\n",
      "  grad[:n_features] = X.T @ grad_pointwise + l2_reg_strength * weights\n",
      "/opt/anaconda3/envs/myFirstProj/lib/python3.13/site-packages/sklearn/linear_model/_linear_loss.py:330: RuntimeWarning: invalid value encountered in matmul\n",
      "  grad[:n_features] = X.T @ grad_pointwise + l2_reg_strength * weights\n"
     ]
    },
    {
     "name": "stdout",
     "output_type": "stream",
     "text": [
      "[CV] END gb__learning_rate=0.05, gb__n_estimators=100, rf__max_depth=10, rf__n_estimators=200; total time=   3.4s\n",
      "[CV] END gb__learning_rate=0.05, gb__n_estimators=150, rf__max_depth=5, rf__n_estimators=100; total time=   1.8s\n"
     ]
    },
    {
     "name": "stderr",
     "output_type": "stream",
     "text": [
      "/opt/anaconda3/envs/myFirstProj/lib/python3.13/site-packages/sklearn/linear_model/_linear_loss.py:330: RuntimeWarning: invalid value encountered in matmul\n",
      "  grad[:n_features] = X.T @ grad_pointwise + l2_reg_strength * weights\n"
     ]
    },
    {
     "name": "stdout",
     "output_type": "stream",
     "text": [
      "[CV] END gb__learning_rate=0.05, gb__n_estimators=150, rf__max_depth=5, rf__n_estimators=100; total time=   1.7s\n"
     ]
    },
    {
     "name": "stderr",
     "output_type": "stream",
     "text": [
      "/opt/anaconda3/envs/myFirstProj/lib/python3.13/site-packages/sklearn/linear_model/_linear_loss.py:330: RuntimeWarning: invalid value encountered in matmul\n",
      "  grad[:n_features] = X.T @ grad_pointwise + l2_reg_strength * weights\n"
     ]
    },
    {
     "name": "stdout",
     "output_type": "stream",
     "text": [
      "[CV] END gb__learning_rate=0.05, gb__n_estimators=150, rf__max_depth=5, rf__n_estimators=100; total time=   1.9s\n"
     ]
    },
    {
     "name": "stderr",
     "output_type": "stream",
     "text": [
      "/opt/anaconda3/envs/myFirstProj/lib/python3.13/site-packages/sklearn/linear_model/_linear_loss.py:330: RuntimeWarning: invalid value encountered in matmul\n",
      "  grad[:n_features] = X.T @ grad_pointwise + l2_reg_strength * weights\n",
      "/opt/anaconda3/envs/myFirstProj/lib/python3.13/site-packages/sklearn/linear_model/_linear_loss.py:330: RuntimeWarning: invalid value encountered in matmul\n",
      "  grad[:n_features] = X.T @ grad_pointwise + l2_reg_strength * weights\n"
     ]
    },
    {
     "name": "stdout",
     "output_type": "stream",
     "text": [
      "[CV] END gb__learning_rate=0.05, gb__n_estimators=150, rf__max_depth=10, rf__n_estimators=100; total time=   2.0s\n",
      "[CV] END gb__learning_rate=0.05, gb__n_estimators=150, rf__max_depth=5, rf__n_estimators=200; total time=   2.7s\n"
     ]
    },
    {
     "name": "stderr",
     "output_type": "stream",
     "text": [
      "/opt/anaconda3/envs/myFirstProj/lib/python3.13/site-packages/sklearn/linear_model/_linear_loss.py:330: RuntimeWarning: invalid value encountered in matmul\n",
      "  grad[:n_features] = X.T @ grad_pointwise + l2_reg_strength * weights\n",
      "/opt/anaconda3/envs/myFirstProj/lib/python3.13/site-packages/sklearn/linear_model/_linear_loss.py:330: RuntimeWarning: invalid value encountered in matmul\n",
      "  grad[:n_features] = X.T @ grad_pointwise + l2_reg_strength * weights\n"
     ]
    },
    {
     "name": "stdout",
     "output_type": "stream",
     "text": [
      "[CV] END gb__learning_rate=0.05, gb__n_estimators=100, rf__max_depth=10, rf__n_estimators=200; total time=   3.6s\n",
      "[CV] END gb__learning_rate=0.05, gb__n_estimators=100, rf__max_depth=10, rf__n_estimators=200; total time=   3.7s\n"
     ]
    },
    {
     "name": "stderr",
     "output_type": "stream",
     "text": [
      "/opt/anaconda3/envs/myFirstProj/lib/python3.13/site-packages/sklearn/linear_model/_linear_loss.py:330: RuntimeWarning: invalid value encountered in matmul\n",
      "  grad[:n_features] = X.T @ grad_pointwise + l2_reg_strength * weights\n",
      "/opt/anaconda3/envs/myFirstProj/lib/python3.13/site-packages/sklearn/linear_model/_linear_loss.py:330: RuntimeWarning: invalid value encountered in matmul\n",
      "  grad[:n_features] = X.T @ grad_pointwise + l2_reg_strength * weights\n"
     ]
    },
    {
     "name": "stdout",
     "output_type": "stream",
     "text": [
      "[CV] END gb__learning_rate=0.05, gb__n_estimators=150, rf__max_depth=5, rf__n_estimators=200; total time=   2.7s\n",
      "[CV] END gb__learning_rate=0.05, gb__n_estimators=150, rf__max_depth=5, rf__n_estimators=200; total time=   2.8s\n"
     ]
    },
    {
     "name": "stderr",
     "output_type": "stream",
     "text": [
      "/opt/anaconda3/envs/myFirstProj/lib/python3.13/site-packages/sklearn/linear_model/_linear_loss.py:330: RuntimeWarning: invalid value encountered in matmul\n",
      "  grad[:n_features] = X.T @ grad_pointwise + l2_reg_strength * weights\n",
      "/opt/anaconda3/envs/myFirstProj/lib/python3.13/site-packages/sklearn/linear_model/_linear_loss.py:330: RuntimeWarning: invalid value encountered in matmul\n",
      "  grad[:n_features] = X.T @ grad_pointwise + l2_reg_strength * weights\n"
     ]
    },
    {
     "name": "stdout",
     "output_type": "stream",
     "text": [
      "[CV] END gb__learning_rate=0.05, gb__n_estimators=150, rf__max_depth=10, rf__n_estimators=100; total time=   2.2s\n",
      "[CV] END gb__learning_rate=0.05, gb__n_estimators=150, rf__max_depth=10, rf__n_estimators=100; total time=   2.2s\n"
     ]
    },
    {
     "name": "stderr",
     "output_type": "stream",
     "text": [
      "/opt/anaconda3/envs/myFirstProj/lib/python3.13/site-packages/sklearn/linear_model/_linear_loss.py:330: RuntimeWarning: invalid value encountered in matmul\n",
      "  grad[:n_features] = X.T @ grad_pointwise + l2_reg_strength * weights\n"
     ]
    },
    {
     "name": "stdout",
     "output_type": "stream",
     "text": [
      "[CV] END gb__learning_rate=0.1, gb__n_estimators=100, rf__max_depth=5, rf__n_estimators=100; total time=   1.5s\n"
     ]
    },
    {
     "name": "stderr",
     "output_type": "stream",
     "text": [
      "/opt/anaconda3/envs/myFirstProj/lib/python3.13/site-packages/sklearn/linear_model/_linear_loss.py:330: RuntimeWarning: invalid value encountered in matmul\n",
      "  grad[:n_features] = X.T @ grad_pointwise + l2_reg_strength * weights\n",
      "/opt/anaconda3/envs/myFirstProj/lib/python3.13/site-packages/sklearn/linear_model/_linear_loss.py:330: RuntimeWarning: invalid value encountered in matmul\n",
      "  grad[:n_features] = X.T @ grad_pointwise + l2_reg_strength * weights\n"
     ]
    },
    {
     "name": "stdout",
     "output_type": "stream",
     "text": [
      "[CV] END gb__learning_rate=0.1, gb__n_estimators=100, rf__max_depth=5, rf__n_estimators=100; total time=   1.7s\n",
      "[CV] END gb__learning_rate=0.1, gb__n_estimators=100, rf__max_depth=5, rf__n_estimators=100; total time=   1.7s\n"
     ]
    },
    {
     "name": "stderr",
     "output_type": "stream",
     "text": [
      "/opt/anaconda3/envs/myFirstProj/lib/python3.13/site-packages/sklearn/linear_model/_linear_loss.py:330: RuntimeWarning: invalid value encountered in matmul\n",
      "  grad[:n_features] = X.T @ grad_pointwise + l2_reg_strength * weights\n",
      "/opt/anaconda3/envs/myFirstProj/lib/python3.13/site-packages/sklearn/linear_model/_linear_loss.py:330: RuntimeWarning: invalid value encountered in matmul\n",
      "  grad[:n_features] = X.T @ grad_pointwise + l2_reg_strength * weights\n",
      "/opt/anaconda3/envs/myFirstProj/lib/python3.13/site-packages/sklearn/linear_model/_linear_loss.py:330: RuntimeWarning: invalid value encountered in matmul\n",
      "  grad[:n_features] = X.T @ grad_pointwise + l2_reg_strength * weights\n"
     ]
    },
    {
     "name": "stdout",
     "output_type": "stream",
     "text": [
      "[CV] END gb__learning_rate=0.1, gb__n_estimators=100, rf__max_depth=10, rf__n_estimators=100; total time=   1.9s\n",
      "[CV] END gb__learning_rate=0.05, gb__n_estimators=150, rf__max_depth=10, rf__n_estimators=200; total time=   4.0s\n",
      "[CV] END gb__learning_rate=0.05, gb__n_estimators=150, rf__max_depth=10, rf__n_estimators=200; total time=   3.8s\n"
     ]
    },
    {
     "name": "stderr",
     "output_type": "stream",
     "text": [
      "/opt/anaconda3/envs/myFirstProj/lib/python3.13/site-packages/sklearn/linear_model/_linear_loss.py:330: RuntimeWarning: invalid value encountered in matmul\n",
      "  grad[:n_features] = X.T @ grad_pointwise + l2_reg_strength * weights\n",
      "/opt/anaconda3/envs/myFirstProj/lib/python3.13/site-packages/sklearn/linear_model/_linear_loss.py:330: RuntimeWarning: invalid value encountered in matmul\n",
      "  grad[:n_features] = X.T @ grad_pointwise + l2_reg_strength * weights\n",
      "/opt/anaconda3/envs/myFirstProj/lib/python3.13/site-packages/sklearn/linear_model/_linear_loss.py:330: RuntimeWarning: invalid value encountered in matmul\n",
      "  grad[:n_features] = X.T @ grad_pointwise + l2_reg_strength * weights\n"
     ]
    },
    {
     "name": "stdout",
     "output_type": "stream",
     "text": [
      "[CV] END gb__learning_rate=0.1, gb__n_estimators=100, rf__max_depth=5, rf__n_estimators=200; total time=   2.6s\n",
      "[CV] END gb__learning_rate=0.1, gb__n_estimators=100, rf__max_depth=5, rf__n_estimators=200; total time=   2.5s\n",
      "[CV] END gb__learning_rate=0.1, gb__n_estimators=100, rf__max_depth=10, rf__n_estimators=100; total time=   1.6s\n"
     ]
    },
    {
     "name": "stderr",
     "output_type": "stream",
     "text": [
      "/opt/anaconda3/envs/myFirstProj/lib/python3.13/site-packages/sklearn/linear_model/_linear_loss.py:330: RuntimeWarning: invalid value encountered in matmul\n",
      "  grad[:n_features] = X.T @ grad_pointwise + l2_reg_strength * weights\n"
     ]
    },
    {
     "name": "stdout",
     "output_type": "stream",
     "text": [
      "[CV] END gb__learning_rate=0.1, gb__n_estimators=100, rf__max_depth=5, rf__n_estimators=200; total time=   2.6s\n"
     ]
    },
    {
     "name": "stderr",
     "output_type": "stream",
     "text": [
      "/opt/anaconda3/envs/myFirstProj/lib/python3.13/site-packages/sklearn/linear_model/_linear_loss.py:330: RuntimeWarning: invalid value encountered in matmul\n",
      "  grad[:n_features] = X.T @ grad_pointwise + l2_reg_strength * weights\n",
      "/opt/anaconda3/envs/myFirstProj/lib/python3.13/site-packages/sklearn/linear_model/_linear_loss.py:330: RuntimeWarning: invalid value encountered in matmul\n",
      "  grad[:n_features] = X.T @ grad_pointwise + l2_reg_strength * weights\n"
     ]
    },
    {
     "name": "stdout",
     "output_type": "stream",
     "text": [
      "[CV] END gb__learning_rate=0.1, gb__n_estimators=100, rf__max_depth=10, rf__n_estimators=100; total time=   1.6s\n",
      "[CV] END gb__learning_rate=0.05, gb__n_estimators=150, rf__max_depth=10, rf__n_estimators=200; total time=   3.8s\n"
     ]
    },
    {
     "name": "stderr",
     "output_type": "stream",
     "text": [
      "/opt/anaconda3/envs/myFirstProj/lib/python3.13/site-packages/sklearn/linear_model/_linear_loss.py:330: RuntimeWarning: invalid value encountered in matmul\n",
      "  grad[:n_features] = X.T @ grad_pointwise + l2_reg_strength * weights\n",
      "/opt/anaconda3/envs/myFirstProj/lib/python3.13/site-packages/sklearn/linear_model/_linear_loss.py:330: RuntimeWarning: invalid value encountered in matmul\n",
      "  grad[:n_features] = X.T @ grad_pointwise + l2_reg_strength * weights\n",
      "/opt/anaconda3/envs/myFirstProj/lib/python3.13/site-packages/sklearn/linear_model/_linear_loss.py:330: RuntimeWarning: invalid value encountered in matmul\n",
      "  grad[:n_features] = X.T @ grad_pointwise + l2_reg_strength * weights\n"
     ]
    },
    {
     "name": "stdout",
     "output_type": "stream",
     "text": [
      "[CV] END gb__learning_rate=0.1, gb__n_estimators=150, rf__max_depth=5, rf__n_estimators=100; total time=   1.8s\n",
      "[CV] END gb__learning_rate=0.1, gb__n_estimators=150, rf__max_depth=5, rf__n_estimators=100; total time=   1.7s\n",
      "[CV] END gb__learning_rate=0.1, gb__n_estimators=150, rf__max_depth=5, rf__n_estimators=100; total time=   1.7s\n"
     ]
    },
    {
     "name": "stderr",
     "output_type": "stream",
     "text": [
      "/opt/anaconda3/envs/myFirstProj/lib/python3.13/site-packages/sklearn/linear_model/_linear_loss.py:330: RuntimeWarning: invalid value encountered in matmul\n",
      "  grad[:n_features] = X.T @ grad_pointwise + l2_reg_strength * weights\n"
     ]
    },
    {
     "name": "stdout",
     "output_type": "stream",
     "text": [
      "[CV] END gb__learning_rate=0.1, gb__n_estimators=100, rf__max_depth=10, rf__n_estimators=200; total time=   3.3s\n"
     ]
    },
    {
     "name": "stderr",
     "output_type": "stream",
     "text": [
      "/opt/anaconda3/envs/myFirstProj/lib/python3.13/site-packages/sklearn/linear_model/_linear_loss.py:330: RuntimeWarning: invalid value encountered in matmul\n",
      "  grad[:n_features] = X.T @ grad_pointwise + l2_reg_strength * weights\n",
      "/opt/anaconda3/envs/myFirstProj/lib/python3.13/site-packages/sklearn/linear_model/_linear_loss.py:330: RuntimeWarning: invalid value encountered in matmul\n",
      "  grad[:n_features] = X.T @ grad_pointwise + l2_reg_strength * weights\n",
      "/opt/anaconda3/envs/myFirstProj/lib/python3.13/site-packages/sklearn/linear_model/_linear_loss.py:330: RuntimeWarning: invalid value encountered in matmul\n",
      "  grad[:n_features] = X.T @ grad_pointwise + l2_reg_strength * weights\n"
     ]
    },
    {
     "name": "stdout",
     "output_type": "stream",
     "text": [
      "[CV] END gb__learning_rate=0.1, gb__n_estimators=150, rf__max_depth=10, rf__n_estimators=100; total time=   1.9s\n",
      "[CV] END gb__learning_rate=0.1, gb__n_estimators=150, rf__max_depth=5, rf__n_estimators=200; total time=   2.5s\n",
      "[CV] END gb__learning_rate=0.1, gb__n_estimators=150, rf__max_depth=5, rf__n_estimators=200; total time=   2.4s\n"
     ]
    },
    {
     "name": "stderr",
     "output_type": "stream",
     "text": [
      "/opt/anaconda3/envs/myFirstProj/lib/python3.13/site-packages/sklearn/linear_model/_linear_loss.py:330: RuntimeWarning: invalid value encountered in matmul\n",
      "  grad[:n_features] = X.T @ grad_pointwise + l2_reg_strength * weights\n",
      "/opt/anaconda3/envs/myFirstProj/lib/python3.13/site-packages/sklearn/linear_model/_linear_loss.py:330: RuntimeWarning: invalid value encountered in matmul\n",
      "  grad[:n_features] = X.T @ grad_pointwise + l2_reg_strength * weights\n",
      "/opt/anaconda3/envs/myFirstProj/lib/python3.13/site-packages/sklearn/linear_model/_linear_loss.py:330: RuntimeWarning: invalid value encountered in matmul\n",
      "  grad[:n_features] = X.T @ grad_pointwise + l2_reg_strength * weights\n"
     ]
    },
    {
     "name": "stdout",
     "output_type": "stream",
     "text": [
      "[CV] END gb__learning_rate=0.1, gb__n_estimators=100, rf__max_depth=10, rf__n_estimators=200; total time=   3.1s\n",
      "[CV] END gb__learning_rate=0.1, gb__n_estimators=150, rf__max_depth=5, rf__n_estimators=200; total time=   2.3s\n",
      "[CV] END gb__learning_rate=0.1, gb__n_estimators=100, rf__max_depth=10, rf__n_estimators=200; total time=   3.0s\n"
     ]
    },
    {
     "name": "stderr",
     "output_type": "stream",
     "text": [
      "/opt/anaconda3/envs/myFirstProj/lib/python3.13/site-packages/sklearn/linear_model/_linear_loss.py:330: RuntimeWarning: invalid value encountered in matmul\n",
      "  grad[:n_features] = X.T @ grad_pointwise + l2_reg_strength * weights\n",
      "/opt/anaconda3/envs/myFirstProj/lib/python3.13/site-packages/sklearn/linear_model/_linear_loss.py:330: RuntimeWarning: invalid value encountered in matmul\n",
      "  grad[:n_features] = X.T @ grad_pointwise + l2_reg_strength * weights\n"
     ]
    },
    {
     "name": "stdout",
     "output_type": "stream",
     "text": [
      "[CV] END gb__learning_rate=0.1, gb__n_estimators=150, rf__max_depth=10, rf__n_estimators=100; total time=   1.6s\n",
      "[CV] END gb__learning_rate=0.1, gb__n_estimators=150, rf__max_depth=10, rf__n_estimators=100; total time=   1.6s\n"
     ]
    },
    {
     "name": "stderr",
     "output_type": "stream",
     "text": [
      "/opt/anaconda3/envs/myFirstProj/lib/python3.13/site-packages/sklearn/linear_model/_linear_loss.py:330: RuntimeWarning: invalid value encountered in matmul\n",
      "  grad[:n_features] = X.T @ grad_pointwise + l2_reg_strength * weights\n"
     ]
    },
    {
     "name": "stdout",
     "output_type": "stream",
     "text": [
      "[CV] END gb__learning_rate=0.1, gb__n_estimators=150, rf__max_depth=10, rf__n_estimators=200; total time=   2.2s\n"
     ]
    },
    {
     "name": "stderr",
     "output_type": "stream",
     "text": [
      "/opt/anaconda3/envs/myFirstProj/lib/python3.13/site-packages/sklearn/linear_model/_linear_loss.py:330: RuntimeWarning: invalid value encountered in matmul\n",
      "  grad[:n_features] = X.T @ grad_pointwise + l2_reg_strength * weights\n",
      "/opt/anaconda3/envs/myFirstProj/lib/python3.13/site-packages/sklearn/linear_model/_linear_loss.py:330: RuntimeWarning: invalid value encountered in matmul\n",
      "  grad[:n_features] = X.T @ grad_pointwise + l2_reg_strength * weights\n"
     ]
    },
    {
     "name": "stdout",
     "output_type": "stream",
     "text": [
      "[CV] END gb__learning_rate=0.1, gb__n_estimators=150, rf__max_depth=10, rf__n_estimators=200; total time=   2.0s\n",
      "[CV] END gb__learning_rate=0.1, gb__n_estimators=150, rf__max_depth=10, rf__n_estimators=200; total time=   1.9s\n",
      "Best Params: {'gb__learning_rate': 0.05, 'gb__n_estimators': 100, 'rf__max_depth': 5, 'rf__n_estimators': 100}\n",
      "MSE: 553.0140\n",
      "R² Score: -0.0048\n"
     ]
    },
    {
     "name": "stderr",
     "output_type": "stream",
     "text": [
      "/opt/anaconda3/envs/myFirstProj/lib/python3.13/site-packages/sklearn/linear_model/_linear_loss.py:330: RuntimeWarning: invalid value encountered in matmul\n",
      "  grad[:n_features] = X.T @ grad_pointwise + l2_reg_strength * weights\n"
     ]
    }
   ],
   "source": [
    "from sklearn.ensemble import RandomForestRegressor, GradientBoostingRegressor, StackingRegressor\n",
    "from sklearn.linear_model import LinearRegression, PoissonRegressor\n",
    "from sklearn.model_selection import train_test_split, GridSearchCV\n",
    "from sklearn.metrics import mean_squared_error, r2_score\n",
    "\n",
    "# 독립 변수와 종속 변수 정의\n",
    "X = df.drop(columns=[\"accident_score\", \"accident_count\", \"injury_count\", \"death_count\", \"game_id\", \"stadium_code\",\"sports_type\",\"game_date\", \"day_of_week\", \"start_time\", \"region\", \"snow_depth\"])\n",
    "y = df['accident_score']\n",
    "\n",
    "X_train, X_test, y_train, y_test = train_test_split(X, y, test_size=0.2, random_state=42)\n",
    "\n",
    "# ▶ 기본 회귀 모델들 정의\n",
    "base_estimators = [\n",
    "    ('rf', RandomForestRegressor(n_estimators=100, max_depth=10, random_state=42)),\n",
    "    ('gb', GradientBoostingRegressor(n_estimators=100, learning_rate=0.1, max_depth=5, random_state=42))\n",
    "]\n",
    "\n",
    "# ▶ 최종 예측기 (Meta-learner): 선형회귀\n",
    "# meta_model = LinearRegression()\n",
    "meta_model = PoissonRegressor(max_iter=1000)\n",
    "\"\"\"\"\n",
    "# ▶ 스태킹 앙상블 모델 생성\n",
    "stacking_model = StackingRegressor(\n",
    "    estimators=base_estimators,\n",
    "    final_estimator=meta_model,\n",
    "    cv=5,  # 5-fold cross-validation for base models\n",
    "    n_jobs=-1\n",
    ")\n",
    "\n",
    "# ▶ 파라미터 그리드 정의 (base estimator에 접근할 때 '__' 사용)\n",
    "param_grid = {\n",
    "    'rf__n_estimators': [100, 200],\n",
    "    'rf__max_depth': [5, 10],\n",
    "    'gb__learning_rate': [0.05, 0.1],\n",
    "    'gb__n_estimators': [100, 150],\n",
    "    # 'final_estimator__alpha': [0.1, 1.0, 10.0]\n",
    "}\n",
    "\n",
    "\n",
    "# ▶ GridSearchCV로 튜닝\n",
    "grid_search = GridSearchCV(\n",
    "    estimator=stacking_model,\n",
    "    param_grid=param_grid,\n",
    "    scoring='r2',\n",
    "    cv=3,\n",
    "    n_jobs=-1,\n",
    "    verbose=2\n",
    ")\n",
    "\"\"\"\n",
    "\n",
    "# ▶ 스태킹 앙상블 모델 생성\n",
    "stacking_model = StackingRegressor(\n",
    "    estimators=base_estimators,\n",
    "    final_estimator=meta_model,\n",
    "    cv=5,\n",
    "    passthrough=True,\n",
    "    n_jobs=-1\n",
    ")\n",
    "\n",
    "# ▶ 파라미터 그리드 정의\n",
    "param_grid = {\n",
    "    'rf__n_estimators': [100, 200],\n",
    "    'rf__max_depth': [5, 10],\n",
    "    'gb__learning_rate': [0.05, 0.1],\n",
    "    'gb__n_estimators': [100, 150]\n",
    "    # meta_model은 PoissonRegressor이며, alpha 등의 파라미터는 제외함 (필요시 추가 가능)\n",
    "}\n",
    "\n",
    "# ▶ GridSearchCV로 튜닝\n",
    "grid_search = GridSearchCV(\n",
    "    estimator=stacking_model,\n",
    "    param_grid=param_grid,\n",
    "    scoring='r2',\n",
    "    cv=3,\n",
    "    n_jobs=-1,\n",
    "    verbose=2\n",
    ")\n",
    "\n",
    "# ▶ 학습\n",
    "grid_search.fit(X_train, y_train)\n",
    "\n",
    "# ▶ 예측\n",
    "best_model = grid_search.best_estimator_\n",
    "y_pred = best_model.predict(X_test)\n",
    "\n",
    "# Best 모델 및 평가 지표 출력\n",
    "print(\"Best Params:\", grid_search.best_params_)\n",
    "print(f\"MSE: {mean_squared_error(y_test, y_pred):.4f}\")\n",
    "print(f\"R² Score: {r2_score(y_test, y_pred):.4f}\")\n"
   ]
  }
 ],
 "metadata": {
  "kernelspec": {
   "display_name": "myFirstProj",
   "language": "python",
   "name": "python3"
  },
  "language_info": {
   "codemirror_mode": {
    "name": "ipython",
    "version": 3
   },
   "file_extension": ".py",
   "mimetype": "text/x-python",
   "name": "python",
   "nbconvert_exporter": "python",
   "pygments_lexer": "ipython3",
   "version": "3.13.2"
  }
 },
 "nbformat": 4,
 "nbformat_minor": 5
}
