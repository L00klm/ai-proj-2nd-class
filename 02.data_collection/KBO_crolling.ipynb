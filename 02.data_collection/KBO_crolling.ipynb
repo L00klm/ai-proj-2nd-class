{
 "cells": [
  {
   "cell_type": "markdown",
   "id": "08ad77d0",
   "metadata": {},
   "source": [
    "# KBO 사이트 데이터 정적크롤링 코드 (2025)"
   ]
  },
  {
   "cell_type": "code",
   "execution_count": 2,
   "id": "fb206067",
   "metadata": {},
   "outputs": [
    {
     "name": "stdout",
     "output_type": "stream",
     "text": [
      "크롤링 시작: https://www.koreabaseball.com/Record/Crowd/GraphDaily.aspx\n",
      "✅ 엑셀(CSV) 저장 완료!\n"
     ]
    }
   ],
   "source": [
    "from bs4 import BeautifulSoup\n",
    "import urllib.request\n",
    "import pandas as pd\n",
    "\n",
    "result = []\n",
    "\n",
    "KBO_url = 'https://www.koreabaseball.com/Record/Crowd/GraphDaily.aspx'\n",
    "\n",
    "print(\"크롤링 시작:\", KBO_url)\n",
    "html = urllib.request.urlopen(KBO_url)\n",
    "soupKBO = BeautifulSoup(html, 'html.parser')\n",
    "\n",
    "# 테이블 본문 추출\n",
    "tag_tbody = soupKBO.find('tbody')\n",
    "\n",
    "# ✅ 잘못된 부분 수정: find_ → find_all\n",
    "for store in tag_tbody.find_all('tr'):\n",
    "    store_td = store.find_all('td')\n",
    "    if len(store_td) < 6:\n",
    "        continue  # 불완전한 행은 스킵\n",
    "\n",
    "    store_date = store_td[0].text.strip()\n",
    "    store_day = store_td[1].text.strip()\n",
    "    store_home = store_td[2].text.strip()\n",
    "    store_go = store_td[3].text.strip()\n",
    "    store_address = store_td[4].text.strip()\n",
    "    store_population = store_td[5].text.strip().replace(\",\", \"\")\n",
    "\n",
    "    result.append([store_date, store_day, store_home, store_go, store_address, int(store_population)])\n",
    "\n",
    "# 데이터프레임 생성\n",
    "KBO_tbl = pd.DataFrame(result, columns=('날짜', '요일', '홈', '방문', '구장', '관중수'))\n",
    "\n",
    "# 저장 (한글 깨짐 방지 위해 cp949 또는 utf-8-sig)\n",
    "KBO_tbl.to_csv(\"C:/ex/Project_KBO.csv\", encoding=\"cp949\", mode=\"w\", index=False)\n",
    "\n",
    "print(\"✅ 엑셀(CSV) 저장 완료!\")"
   ]
  },
  {
   "cell_type": "markdown",
   "id": "ecd10e74",
   "metadata": {},
   "source": [
    "정적크롤링 한계: KBO 사이트의 년도 구분이 페이지가 아닌 클릭 방식으로 이루어져 동적크로링을 해야할 것으로 판단. "
   ]
  },
  {
   "cell_type": "markdown",
   "id": "343513ba",
   "metadata": {},
   "source": [
    "# KBO 사이트 데이터 동적크롤링 코드 (2023-2025)"
   ]
  },
  {
   "cell_type": "code",
   "execution_count": 1,
   "id": "e8d88ab6",
   "metadata": {},
   "outputs": [
    {
     "name": "stdout",
     "output_type": "stream",
     "text": [
      "🔍 2023년 데이터 수집 중...\n",
      "🔍 2024년 데이터 수집 중...\n",
      "🔍 2025년 데이터 수집 중...\n",
      "✅ 전체 연도 데이터 저장 완료!\n"
     ]
    }
   ],
   "source": [
    "from selenium import webdriver\n",
    "from selenium.webdriver.common.by import By\n",
    "from selenium.webdriver.support.ui import Select\n",
    "import pandas as pd\n",
    "import time\n",
    "\n",
    "# 🔧 크롬 드라이버 경로 설정\n",
    "from selenium.webdriver.chrome.service import Service\n",
    "chrome_path = \"C:/Users/USER/Downloads/chromedriver-win64/chromedriver-win64/chromedriver.exe\"\n",
    "service = Service(executable_path=chrome_path)\n",
    "options = webdriver.ChromeOptions()\n",
    "options.add_argument('--headless')  # 창 숨기기\n",
    "\n",
    "driver = webdriver.Chrome(service=service, options=options)\n",
    "url = \"https://www.koreabaseball.com/Record/Crowd/GraphDaily.aspx\"\n",
    "driver.get(url)\n",
    "time.sleep(10)\n",
    "\n",
    "# 🔁 수집할 연도 목록\n",
    "years = ['2023', '2024', '2025']\n",
    "all_data = []\n",
    "\n",
    "for year in years:\n",
    "    print(f\"🔍 {year}년 데이터 수집 중...\")\n",
    "\n",
    "    # 📌 연도 선택 드롭다운 제어\n",
    "    select = Select(driver.find_element(By.ID, \"cphContents_cphContents_cphContents_ddlSeason\"))\n",
    "    select.select_by_visible_text(year)\n",
    "    time.sleep(10)  # 데이터 다시 로딩될 때까지 대기\n",
    "\n",
    "    # 📥 테이블 크롤링\n",
    "    rows = driver.find_elements(By.CSS_SELECTOR, \"#cphContents_cphContents_cphContents_udpRecord > table > tbody > tr\")\n",
    "    \n",
    "    for row in rows:\n",
    "        cols = row.find_elements(By.TAG_NAME, \"td\")\n",
    "        if len(cols) == 6:\n",
    "            date = cols[0].text.strip()\n",
    "            day = cols[1].text.strip()\n",
    "            home = cols[2].text.strip()\n",
    "            away = cols[3].text.strip()\n",
    "            stadium = cols[4].text.strip()\n",
    "            audience = cols[5].text.strip().replace(\",\", \"\")\n",
    "            all_data.append([year, date, day, home, away, stadium, int(audience)])\n",
    "\n",
    "# ✅ 브라우저 종료\n",
    "driver.quit()\n",
    "\n",
    "# ✅ DataFrame으로 저장\n",
    "df = pd.DataFrame(all_data, columns=[\"연도\", \"날짜\", \"요일\", \"홈\", \"방문\", \"구장\", \"관중수\"])\n",
    "df.to_excel(\"KBO_관중수_2023_2025.xlsx\", index=False)\n",
    "\n",
    "print(\"✅ 전체 연도 데이터 저장 완료!\")"
   ]
  }
 ],
 "metadata": {
  "kernelspec": {
   "display_name": "base",
   "language": "python",
   "name": "python3"
  },
  "language_info": {
   "codemirror_mode": {
    "name": "ipython",
    "version": 3
   },
   "file_extension": ".py",
   "mimetype": "text/x-python",
   "name": "python",
   "nbconvert_exporter": "python",
   "pygments_lexer": "ipython3",
   "version": "3.12.7"
  }
 },
 "nbformat": 4,
 "nbformat_minor": 5
}
