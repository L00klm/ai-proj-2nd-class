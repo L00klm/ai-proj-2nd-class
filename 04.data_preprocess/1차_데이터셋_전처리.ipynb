{
 "cells": [
  {
   "cell_type": "code",
   "execution_count": 3,
   "id": "b4477077",
   "metadata": {},
   "outputs": [],
   "source": [
    "import pandas as pd, numpy as np\n",
    "\n",
    "df = pd.read_csv(\"1st-dataset.csv\")     # 1차 데이터셋\n",
    "pd.set_option(\"display.max_columns\", None)\n",
    "\n",
    "# 분석용 편의 함수\n",
    "def pct(n): return f\"{n:.1%}\""
   ]
  },
  {
   "cell_type": "code",
   "execution_count": 4,
   "id": "ab72d86b",
   "metadata": {},
   "outputs": [
    {
     "name": "stdout",
     "output_type": "stream",
     "text": [
      "                건수    비율\n",
      "game_id          0  0.0%\n",
      "audience         0  0.0%\n",
      "precipitation    0  0.0%\n",
      "temperature      0  0.0%\n",
      "death_count      0  0.0%\n",
      "injury_count     0  0.0%\n",
      "accident_count   0  0.0%\n",
      "region           0  0.0%\n",
      "match_type       0  0.0%\n",
      "stadium_code     0  0.0%\n",
      "home_team_win    0  0.0%\n",
      "start_time       0  0.0%\n",
      "is_holiday       0  0.0%\n",
      "day_of_week      0  0.0%\n",
      "game_date        0  0.0%\n",
      "sports_type      0  0.0%\n",
      "snow_depth       0  0.0%\n"
     ]
    }
   ],
   "source": [
    "# 결측치 체크\n",
    "\n",
    "na_cnt   = df.isna().sum()\n",
    "na_rate  = (na_cnt/len(df)).map(pct)\n",
    "na_report = pd.concat([na_cnt, na_rate], axis=1, keys=[\"건수\", \"비율\"])\n",
    "print(na_report.sort_values(\"비율\", ascending=False))"
   ]
  },
  {
   "cell_type": "code",
   "execution_count": 26,
   "id": "f33a77c8",
   "metadata": {},
   "outputs": [
    {
     "name": "stdout",
     "output_type": "stream",
     "text": [
      "['시범경기' '정규시즌' '올스타전' '포스트시즌']\n"
     ]
    }
   ],
   "source": [
    "\n",
    "# 기본 치환: '페넌트레이스'·'순위결정전'(오탈자 '순위결정정' 포함)·'0' --> '정규시즌'\n",
    "df[\"match_type\"] = (\n",
    "    df[\"match_type\"]\n",
    "        .replace({\"페넌트레이스\": \"정규시즌\",\n",
    "                  \"순위결정전\": \"정규시즌\",\n",
    "                  \"순위결정정\": \"정규시즌\",   # 오타까지 함께 처리\n",
    "                  '조별리그' : \"정규시즌\",\n",
    "                  \"0\": \"정규시즌\"})\n",
    "        # ➋ 라운드 표기(1R ~ 33R 등) → 정규시즌\n",
    "        .str.replace(r\"^\\d+R$\", \"정규시즌\", regex=True)\n",
    ")\n",
    "\n",
    "df[\"match_type\"] = (\n",
    "    df[\"match_type\"]\n",
    "        .replace({'와일드카드':\"포스트시즌\",\n",
    "                '준플레이오프':\"포스트시즌\", \n",
    "                '플레이오프':\"포스트시즌\", \n",
    "                '한국시리즈':\"포스트시즌\",\n",
    "                '파이널 라운드A':\"포스트시즌\",\n",
    "                '파이널 라운드B':\"포스트시즌\",\n",
    "                '챔피언결정전':\"포스트시즌\", \n",
    "                '준결승':\"포스트시즌\", \n",
    "                '결승':\"포스트시즌\"})\n",
    ")\n",
    "# 결과 확인\n",
    "print(df[\"match_type\"].unique())\n",
    "\n",
    "\n"
   ]
  },
  {
   "cell_type": "code",
   "execution_count": 8,
   "id": "768f2998",
   "metadata": {},
   "outputs": [
    {
     "name": "stdout",
     "output_type": "stream",
     "text": [
      "0\n",
      "<class 'pandas.core.frame.DataFrame'>\n",
      "RangeIndex: 3577 entries, 0 to 3576\n",
      "Data columns (total 17 columns):\n",
      " #   Column          Non-Null Count  Dtype  \n",
      "---  ------          --------------  -----  \n",
      " 0   game_id         3577 non-null   int64  \n",
      " 1   stadium_code    3577 non-null   object \n",
      " 2   sports_type     3577 non-null   object \n",
      " 3   game_date       3577 non-null   object \n",
      " 4   day_of_week     3577 non-null   object \n",
      " 5   is_holiday      3577 non-null   int64  \n",
      " 6   start_time      3577 non-null   object \n",
      " 7   home_team_win   3577 non-null   int64  \n",
      " 8   match_type      3577 non-null   object \n",
      " 9   audience        3577 non-null   int64  \n",
      " 10  region          3577 non-null   object \n",
      " 11  accident_count  3577 non-null   float64\n",
      " 12  injury_count    3577 non-null   float64\n",
      " 13  death_count     3577 non-null   float64\n",
      " 14  temperature     3577 non-null   float64\n",
      " 15  precipitation   3577 non-null   float64\n",
      " 16  snow_depth      3577 non-null   float64\n",
      "dtypes: float64(6), int64(4), object(7)\n",
      "memory usage: 475.2+ KB\n"
     ]
    }
   ],
   "source": [
    "# 중복성 제거\n",
    "dup_rows = df.duplicated().sum()\n",
    "dup_keys = df.duplicated(subset=[\"game_date\",\"region\",\"game_id\"], keep=False).sum()\n",
    "\n",
    "print(dup_rows)\n",
    "df.info()\n"
   ]
  },
  {
   "cell_type": "code",
   "execution_count": 11,
   "id": "3ee4b0e4",
   "metadata": {},
   "outputs": [
    {
     "name": "stdout",
     "output_type": "stream",
     "text": [
      "sports_type\n",
      "야구      2026\n",
      "농구       563\n",
      "축구       425\n",
      "배구       282\n",
      "여자배구     281\n",
      "Name: count, dtype: int64 \n",
      "\n",
      "day_of_week\n",
      "토    744\n",
      "일    730\n",
      "금    508\n",
      "화    505\n",
      "목    493\n",
      "수    478\n",
      "월    119\n",
      "Name: count, dtype: int64 \n",
      "\n",
      "region\n",
      "서울 송파구     511\n",
      "경기 수원시     403\n",
      "경남 창원시     279\n",
      "대전 중구      276\n",
      "부산 동래구     246\n",
      "광주 북구      205\n",
      "인천 미추홀구    201\n",
      "대구 수성구     185\n",
      "서울 구로구     178\n",
      "대구 동구       90\n",
      "서울 중구       78\n",
      "경기 화성시      73\n",
      "경북 김천시      58\n",
      "울산 중구       58\n",
      "경기 안양시      58\n",
      "강원 원주시      55\n",
      "경기 고양시      54\n",
      "전북 전주시      51\n",
      "울산 남구       50\n",
      "경기 안산시      41\n",
      "Name: count, dtype: int64 \n",
      "\n",
      "match_type\n",
      "페넌트레이스      1851\n",
      "정규시즌        1025\n",
      "시범경기         118\n",
      "플레이오프         60\n",
      "파이널 라운드B      30\n",
      "챔피언결정전        26\n",
      "파이널 라운드A      25\n",
      "조별리그          24\n",
      "0             21\n",
      "29R           12\n",
      "19R           12\n",
      "18R           12\n",
      "16R           12\n",
      "5R            11\n",
      "2R            11\n",
      "한국시리즈         11\n",
      "33R           11\n",
      "31R           11\n",
      "30R           11\n",
      "1R            11\n",
      "Name: count, dtype: int64 \n",
      "\n",
      "<class 'pandas.core.frame.DataFrame'>\n",
      "RangeIndex: 3577 entries, 0 to 3576\n",
      "Data columns (total 17 columns):\n",
      " #   Column          Non-Null Count  Dtype  \n",
      "---  ------          --------------  -----  \n",
      " 0   game_id         3577 non-null   int64  \n",
      " 1   stadium_code    3577 non-null   object \n",
      " 2   sports_type     3577 non-null   object \n",
      " 3   game_date       3577 non-null   object \n",
      " 4   day_of_week     3577 non-null   object \n",
      " 5   is_holiday      3577 non-null   int64  \n",
      " 6   start_time      3577 non-null   object \n",
      " 7   home_team_win   3577 non-null   int64  \n",
      " 8   match_type      3577 non-null   object \n",
      " 9   audience        3577 non-null   int64  \n",
      " 10  region          3577 non-null   object \n",
      " 11  accident_count  3577 non-null   float64\n",
      " 12  injury_count    3577 non-null   float64\n",
      " 13  death_count     3577 non-null   float64\n",
      " 14  temperature     3577 non-null   float64\n",
      " 15  precipitation   3577 non-null   float64\n",
      " 16  snow_depth      3577 non-null   float64\n",
      "dtypes: float64(6), int64(4), object(7)\n",
      "memory usage: 475.2+ KB\n"
     ]
    }
   ],
   "source": [
    "# 범주형 Cardinality & 정제\n",
    "for col in [\"sports_type\", \"day_of_week\", \"region\", \"match_type\"]:\n",
    "    print(df[col].value_counts(dropna=False).head(20), \"\\n\")\n"
   ]
  },
  {
   "cell_type": "code",
   "execution_count": 12,
   "id": "fc11bdc3",
   "metadata": {},
   "outputs": [
    {
     "name": "stdout",
     "output_type": "stream",
     "text": [
      "<class 'pandas.core.frame.DataFrame'>\n",
      "RangeIndex: 3577 entries, 0 to 3576\n",
      "Data columns (total 17 columns):\n",
      " #   Column          Non-Null Count  Dtype  \n",
      "---  ------          --------------  -----  \n",
      " 0   game_id         3577 non-null   int64  \n",
      " 1   stadium_code    3577 non-null   object \n",
      " 2   sports_type     3577 non-null   object \n",
      " 3   game_date       3577 non-null   object \n",
      " 4   day_of_week     3577 non-null   object \n",
      " 5   is_holiday      3577 non-null   int64  \n",
      " 6   start_time      3577 non-null   object \n",
      " 7   home_team_win   3577 non-null   int64  \n",
      " 8   match_type      3577 non-null   object \n",
      " 9   audience        3577 non-null   int64  \n",
      " 10  region          3577 non-null   object \n",
      " 11  accident_count  3577 non-null   float64\n",
      " 12  injury_count    3577 non-null   float64\n",
      " 13  death_count     3577 non-null   float64\n",
      " 14  temperature     3577 non-null   float64\n",
      " 15  precipitation   3577 non-null   float64\n",
      " 16  snow_depth      3577 non-null   float64\n",
      "dtypes: float64(6), int64(4), object(7)\n",
      "memory usage: 475.2+ KB\n"
     ]
    }
   ],
   "source": [
    "df.info()"
   ]
  },
  {
   "cell_type": "code",
   "execution_count": 13,
   "id": "e96b4edd",
   "metadata": {},
   "outputs": [],
   "source": [
    "num_cols = [\"accident_count\",\"injury_count\",\"death_count\"]\n",
    "desc = df[num_cols].describe().T   # min-max, IQR\n",
    "q1,q3 = df[\"accident_count\"].quantile([.25,.75])\n",
    "iqr   = q3-q1\n",
    "out   = df[(df[\"accident_count\"] < q1-1.5*iqr) | (df[\"accident_count\"] > q3+1.5*iqr)]"
   ]
  },
  {
   "cell_type": "code",
   "execution_count": 16,
   "id": "ffe4e0b7",
   "metadata": {},
   "outputs": [
    {
     "name": "stdout",
     "output_type": "stream",
     "text": [
      "accident_count    1.000000\n",
      "injury_count      0.939950\n",
      "death_count       0.100951\n",
      "game_id           0.027119\n",
      "snow_depth        0.025671\n",
      "home_team_win    -0.001627\n",
      "temperature      -0.002274\n",
      "precipitation    -0.031135\n",
      "is_holiday             NaN\n",
      "audience               NaN\n",
      "Name: accident_count, dtype: float64\n"
     ]
    }
   ],
   "source": [
    "# 상관관계·다중공선성 확인\n",
    "corr = df.corr(numeric_only=True)\n",
    "target_corr = corr[\"accident_count\"].sort_values(ascending=False)\n",
    "# print(corr)\n",
    "print(target_corr)"
   ]
  },
  {
   "cell_type": "code",
   "execution_count": 17,
   "id": "9be79205",
   "metadata": {},
   "outputs": [
    {
     "ename": "ModuleNotFoundError",
     "evalue": "No module named 'ydata_profiling'",
     "output_type": "error",
     "traceback": [
      "\u001b[31m---------------------------------------------------------------------------\u001b[39m",
      "\u001b[31mModuleNotFoundError\u001b[39m                       Traceback (most recent call last)",
      "\u001b[36mCell\u001b[39m\u001b[36m \u001b[39m\u001b[32mIn[17]\u001b[39m\u001b[32m, line 1\u001b[39m\n\u001b[32m----> \u001b[39m\u001b[32m1\u001b[39m \u001b[38;5;28;01mfrom\u001b[39;00m\u001b[38;5;250m \u001b[39m\u001b[34;01mydata_profiling\u001b[39;00m\u001b[38;5;250m \u001b[39m\u001b[38;5;28;01mimport\u001b[39;00m ProfileReport\n\u001b[32m      2\u001b[39m ProfileReport(df, title=\u001b[33m\"\u001b[39m\u001b[33m1차 데이터셋 품질 리포트\u001b[39m\u001b[33m\"\u001b[39m).to_file(\u001b[33m\"\u001b[39m\u001b[33meda_quality_report.html\u001b[39m\u001b[33m\"\u001b[39m)\n",
      "\u001b[31mModuleNotFoundError\u001b[39m: No module named 'ydata_profiling'"
     ]
    }
   ],
   "source": [
    "from ydata_profiling import ProfileReport\n",
    "ProfileReport(df, title=\"1차 데이터셋 품질 리포트\").to_file(\"eda_quality_report.html\")"
   ]
  }
 ],
 "metadata": {
  "kernelspec": {
   "display_name": "myFirstProj",
   "language": "python",
   "name": "python3"
  },
  "language_info": {
   "codemirror_mode": {
    "name": "ipython",
    "version": 3
   },
   "file_extension": ".py",
   "mimetype": "text/x-python",
   "name": "python",
   "nbconvert_exporter": "python",
   "pygments_lexer": "ipython3",
   "version": "3.13.2"
  }
 },
 "nbformat": 4,
 "nbformat_minor": 5
}
