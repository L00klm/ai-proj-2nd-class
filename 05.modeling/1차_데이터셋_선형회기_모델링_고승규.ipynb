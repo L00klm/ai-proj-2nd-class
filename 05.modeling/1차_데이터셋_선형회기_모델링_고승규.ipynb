{
 "cells": [
  {
   "cell_type": "code",
   "execution_count": null,
   "id": "2063cdd2",
   "metadata": {},
   "outputs": [],
   "source": [
    "import pandas as pd\n",
    "import numpy as np\n",
    "import scipy.stats as ss\n",
    "import pingouin as pg\n",
    "from statsmodels.stats.multicomp import pairwise_tukeyhsd\n",
    "from statsmodels.stats.outliers_influence import variance_inflation_factor\n",
    "import statsmodels.formula.api as smf\n",
    "\n",
    "df = pd.read_csv(\"1st-dataset-prepressed-baseball.csv\")     # 1차 데이터셋\n",
    "\n",
    "# df = df[df['sports_type'] == \"야구\"]        # 야구 데이타만 가져옴\n",
    "\n",
    "pd.set_option(\"display.max_columns\", None)\n",
    "\n",
    "# 분석용 편의 함수\n",
    "def pct(n): return f\"{n:.1%}\""
   ]
  },
  {
   "cell_type": "code",
   "execution_count": 2,
   "id": "d9731048",
   "metadata": {},
   "outputs": [],
   "source": [
    "from sklearn.linear_model import LinearRegression\n",
    "from sklearn.preprocessing import StandardScaler\n",
    "from sklearn.model_selection import train_test_split\n",
    "from sklearn.metrics import mean_squared_error, r2_score\n",
    "\n",
    "\n",
    "# X-Columes\n",
    "x_cols = ['match_정규시즌', 'match_포스트시즌', 'is_holiday', 'start_hour', 'audience'] \n",
    "\n",
    "# 1. 독립 변수와 종속 변수 정의\n",
    "X = df[x_cols].astype(int)  # bool을 int로 변환\n",
    "y = df['accident_count']\n",
    "\n",
    "# 2. 학습용/테스트용 데이터 분할\n",
    "X_train, X_test, y_train, y_test = train_test_split(X, y, test_size=0.2, random_state=42)\n",
    "\n",
    "scaler = StandardScaler()\n",
    "X_train_scaled = scaler.fit_transform(X_train)\n",
    "X_test_scaled = scaler.transform(X_test)\n"
   ]
  },
  {
   "cell_type": "code",
   "execution_count": 9,
   "id": "6c44212d",
   "metadata": {},
   "outputs": [
    {
     "name": "stdout",
     "output_type": "stream",
     "text": [
      "회귀계수 ( ['match_정규시즌', 'match_포스트시즌', 'is_holiday', 'start_hour', 'audience'] ): [ 0.06828403  0.32522803 -0.48425781  0.26933166  0.68956488]\n",
      "절편 (intercept): 4.833433916716959\n",
      "평균제곱오차 (MSE): 18.251393756378654\n",
      "결정계수 (R²): 0.04765667254865613\n"
     ]
    }
   ],
   "source": [
    "# 3. 선형회귀 모델 생성 및 학습\n",
    "model = LinearRegression()\n",
    "model.fit(X_train_scaled, y_train)\n",
    "\n",
    "# 4. 예측\n",
    "y_pred = model.predict(X_test_scaled)\n",
    "\n",
    "# 5. 평가\n",
    "mse = mean_squared_error(y_test, y_pred)\n",
    "r2 = r2_score(y_test, y_pred)\n",
    "\n",
    "# 6. 결과 출력\n",
    "print(\"회귀계수 (\", x_cols, \"):\", model.coef_)\n",
    "print(\"절편 (intercept):\", model.intercept_)\n",
    "print(\"평균제곱오차 (MSE):\", mse)\n",
    "print(\"결정계수 (R²):\", r2)"
   ]
  },
  {
   "cell_type": "code",
   "execution_count": 4,
   "id": "45636640",
   "metadata": {},
   "outputs": [
    {
     "data": {
      "image/png": "[encoded data removed]",
      "text/plain": [
       "<Figure size 600x400 with 1 Axes>"
      ]
     },
     "metadata": {},
     "output_type": "display_data"
    }
   ],
   "source": [
    "import matplotlib.pyplot as plt\n",
    "import matplotlib as mpl\n",
    "import seaborn as sns\n",
    "\n",
    "# -------------------- 3-4. 범주형 ↔ 사고건수 -----------------\n",
    "# Apple 기본 폰트인 'AppleGothic' 사용\n",
    "mpl.rcParams['font.family'] = 'AppleGothic'\n",
    "\n",
    "# 음수 기호 깨짐 방지\n",
    "mpl.rcParams['axes.unicode_minus'] = False\n",
    "\n",
    "# -------------------------------\n",
    "# 📊 2. 회귀 계수 시각화\n",
    "# -------------------------------\n",
    "coef_df = pd.DataFrame({\n",
    "    'Feature': x_cols,\n",
    "    'Coefficient': model.coef_\n",
    "})\n",
    "\n",
    "plt.figure(figsize=(6, 4))\n",
    "sns.barplot(x='Feature', y='Coefficient', data=coef_df)\n",
    "plt.title('각 경기 유형의 교통사고수에 대한 회귀계수')\n",
    "plt.ylabel(\"회귀계수\")\n",
    "plt.grid(True)\n",
    "plt.tight_layout()\n",
    "plt.show()"
   ]
  },
  {
   "cell_type": "code",
   "execution_count": 6,
   "id": "3a16a9a1",
   "metadata": {},
   "outputs": [
    {
     "name": "stdout",
     "output_type": "stream",
     "text": [
      "                 Generalized Linear Model Regression Results                  \n",
      "==============================================================================\n",
      "Dep. Variable:         accident_count   No. Observations:                 2072\n",
      "Model:                            GLM   Df Residuals:                     2066\n",
      "Model Family:                 Poisson   Df Model:                            5\n",
      "Link Function:                    Log   Scale:                          1.0000\n",
      "Method:                          IRLS   Log-Likelihood:                -7003.7\n",
      "Date:                Wed, 04 Jun 2025   Deviance:                       8393.5\n",
      "Time:                        12:50:33   Pearson chi2:                 7.95e+03\n",
      "No. Iterations:                     5   Pseudo R-squ. (CS):             0.1487\n",
      "Covariance Type:            nonrobust                                         \n",
      "===============================================================================\n",
      "                  coef    std err          z      P>|z|      [0.025      0.975]\n",
      "-------------------------------------------------------------------------------\n",
      "Intercept       0.6007      0.150      4.012      0.000       0.307       0.894\n",
      "match_정규시즌      0.0340      0.062      0.549      0.583      -0.087       0.156\n",
      "match_포스트시즌     0.4069      0.084      4.827      0.000       0.242       0.572\n",
      "is_holiday     -0.2280      0.029     -7.933      0.000      -0.284      -0.172\n",
      "start_hour      0.0377      0.010      3.749      0.000       0.018       0.057\n",
      "audience     2.629e-05   1.94e-06     13.570      0.000    2.25e-05    3.01e-05\n",
      "===============================================================================\n"
     ]
    }
   ],
   "source": [
    "## 포이송 회기 변수 적요\n",
    "import pandas as pd\n",
    "import statsmodels.api as sm\n",
    "import statsmodels.formula.api as smf\n",
    "\n",
    "# 변수 준비: bool → int 변환\n",
    "df_model = df[['accident_count', 'match_정규시즌', 'match_포스트시즌', 'is_holiday', 'start_hour', 'audience']].copy()\n",
    "df_model['match_정규시즌'] = df_model['match_정규시즌'].astype(int)\n",
    "df_model['match_포스트시즌'] = df_model['match_포스트시즌'].astype(int)\n",
    "\n",
    "# 포아송 회귀모델 정의 (GLM - Generalized Linear Model)\n",
    "model = smf.glm(\n",
    "    formula='accident_count ~ match_정규시즌 + match_포스트시즌 + is_holiday + start_hour + audience',\n",
    "    data=df_model,\n",
    "    family=sm.families.Poisson()\n",
    ")\n",
    "\n",
    "# 모델 학습\n",
    "result = model.fit()\n",
    "\n",
    "# 결과 출력\n",
    "print(result.summary())\n"
   ]
  }
 ],
 "metadata": {
  "kernelspec": {
   "display_name": "myFirstProj",
   "language": "python",
   "name": "python3"
  },
  "language_info": {
   "codemirror_mode": {
    "name": "ipython",
    "version": 3
   },
   "file_extension": ".py",
   "mimetype": "text/x-python",
   "name": "python",
   "nbconvert_exporter": "python",
   "pygments_lexer": "ipython3",
   "version": "3.13.2"
  }
 },
 "nbformat": 4,
 "nbformat_minor": 5
}
