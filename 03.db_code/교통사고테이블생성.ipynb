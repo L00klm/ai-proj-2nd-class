{
 "cells": [
  {
   "cell_type": "code",
   "execution_count": 1,
   "id": "0641acf1",
   "metadata": {},
   "outputs": [],
   "source": [
    "import sqlalchemy\n",
    "import json\n",
    "import pandas as pd\n",
    "\n",
    "with open(\"./db_config.json\", \"r\") as f:\n",
    "    config = json.load(f)\n",
    "\n",
    "USER = config[\"DB_USER\"]\n",
    "PW = config[\"DB_PASSWORD\"]\n",
    "HOST = config[\"DB_HOST\"]\n",
    "PORT = config[\"DB_PORT\"]\n",
    "DB = config[\"DB_NAME\"]"
   ]
  },
  {
   "cell_type": "code",
   "execution_count": 2,
   "id": "0f27957f",
   "metadata": {},
   "outputs": [
    {
     "name": "stdout",
     "output_type": "stream",
     "text": [
      "Connect Success. Version is ('8.4.5',)\n"
     ]
    }
   ],
   "source": [
    "# DB 연결\n",
    "engine = sqlalchemy.create_engine(f\"mysql+pymysql://{USER}:{PW}@{HOST}:{PORT}/{DB}\")\n",
    "\n",
    "with engine.connect() as conn:\n",
    "    result = conn.execute(sqlalchemy.text(\"SELECT VERSION();\"))\n",
    "    print(\"Connect Success. Version is\", result.fetchone())"
   ]
  },
  {
   "cell_type": "code",
   "execution_count": 3,
   "id": "b11b5504",
   "metadata": {},
   "outputs": [
    {
     "name": "stdout",
     "output_type": "stream",
     "text": [
      "<class 'pandas.core.frame.DataFrame'>\n",
      "RangeIndex: 34032 entries, 0 to 34031\n",
      "Data columns (total 5 columns):\n",
      " #   Column  Non-Null Count  Dtype \n",
      "---  ------  --------------  ----- \n",
      " 0   지역      34032 non-null  object\n",
      " 1   날짜      34032 non-null  object\n",
      " 2   사고      34032 non-null  int64 \n",
      " 3   사망      34032 non-null  int64 \n",
      " 4   부상      34032 non-null  int64 \n",
      "dtypes: int64(3), object(2)\n",
      "memory usage: 1.3+ MB\n"
     ]
    }
   ],
   "source": [
    "import pandas as pd\n",
    "df_2023_accident = pd.read_csv(\"./dataset/2023년_스포츠경기장주변_교통사고_transformed.csv\")\n",
    "df_2024_accident = pd.read_csv(\"./dataset/2024년_스포츠경기장주변_교통사고_transformed.csv\")\n",
    "\n",
    "df_accident_merged = pd.concat([df_2023_accident, df_2024_accident], join='inner', ignore_index=True)\n",
    "\n",
    "df_accident_merged.info()"
   ]
  },
  {
   "cell_type": "code",
   "execution_count": 4,
   "id": "a5353f81",
   "metadata": {},
   "outputs": [
    {
     "data": {
      "application/vnd.microsoft.datawrangler.viewer.v0+json": {
       "columns": [
        {
         "name": "index",
         "rawType": "int64",
         "type": "integer"
        },
        {
         "name": "region",
         "rawType": "object",
         "type": "string"
        },
        {
         "name": "accident_date",
         "rawType": "object",
         "type": "string"
        },
        {
         "name": "accident_count",
         "rawType": "int64",
         "type": "integer"
        },
        {
         "name": "death_count",
         "rawType": "int64",
         "type": "integer"
        },
        {
         "name": "injury_count",
         "rawType": "int64",
         "type": "integer"
        }
       ],
       "ref": "a781c2a8-67b5-4496-bbcd-93cc5627aa70",
       "rows": [
        [
         "0",
         "강원 강릉시",
         "2023.01.01",
         "5",
         "0",
         "10"
        ],
        [
         "1",
         "강원 강릉시",
         "2023.01.02",
         "2",
         "0",
         "2"
        ],
        [
         "2",
         "강원 강릉시",
         "2023.01.03",
         "3",
         "0",
         "4"
        ],
        [
         "3",
         "강원 강릉시",
         "2023.01.04",
         "3",
         "0",
         "4"
        ],
        [
         "4",
         "강원 강릉시",
         "2023.01.05",
         "1",
         "0",
         "1"
        ]
       ],
       "shape": {
        "columns": 5,
        "rows": 5
       }
      },
      "text/html": [
       "<div>\n",
       "<style scoped>\n",
       "    .dataframe tbody tr th:only-of-type {\n",
       "        vertical-align: middle;\n",
       "    }\n",
       "\n",
       "    .dataframe tbody tr th {\n",
       "        vertical-align: top;\n",
       "    }\n",
       "\n",
       "    .dataframe thead th {\n",
       "        text-align: right;\n",
       "    }\n",
       "</style>\n",
       "<table border=\"1\" class=\"dataframe\">\n",
       "  <thead>\n",
       "    <tr style=\"text-align: right;\">\n",
       "      <th></th>\n",
       "      <th>region</th>\n",
       "      <th>accident_date</th>\n",
       "      <th>accident_count</th>\n",
       "      <th>death_count</th>\n",
       "      <th>injury_count</th>\n",
       "    </tr>\n",
       "  </thead>\n",
       "  <tbody>\n",
       "    <tr>\n",
       "      <th>0</th>\n",
       "      <td>강원 강릉시</td>\n",
       "      <td>2023.01.01</td>\n",
       "      <td>5</td>\n",
       "      <td>0</td>\n",
       "      <td>10</td>\n",
       "    </tr>\n",
       "    <tr>\n",
       "      <th>1</th>\n",
       "      <td>강원 강릉시</td>\n",
       "      <td>2023.01.02</td>\n",
       "      <td>2</td>\n",
       "      <td>0</td>\n",
       "      <td>2</td>\n",
       "    </tr>\n",
       "    <tr>\n",
       "      <th>2</th>\n",
       "      <td>강원 강릉시</td>\n",
       "      <td>2023.01.03</td>\n",
       "      <td>3</td>\n",
       "      <td>0</td>\n",
       "      <td>4</td>\n",
       "    </tr>\n",
       "    <tr>\n",
       "      <th>3</th>\n",
       "      <td>강원 강릉시</td>\n",
       "      <td>2023.01.04</td>\n",
       "      <td>3</td>\n",
       "      <td>0</td>\n",
       "      <td>4</td>\n",
       "    </tr>\n",
       "    <tr>\n",
       "      <th>4</th>\n",
       "      <td>강원 강릉시</td>\n",
       "      <td>2023.01.05</td>\n",
       "      <td>1</td>\n",
       "      <td>0</td>\n",
       "      <td>1</td>\n",
       "    </tr>\n",
       "  </tbody>\n",
       "</table>\n",
       "</div>"
      ],
      "text/plain": [
       "   region accident_date  accident_count  death_count  injury_count\n",
       "0  강원 강릉시    2023.01.01               5            0            10\n",
       "1  강원 강릉시    2023.01.02               2            0             2\n",
       "2  강원 강릉시    2023.01.03               3            0             4\n",
       "3  강원 강릉시    2023.01.04               3            0             4\n",
       "4  강원 강릉시    2023.01.05               1            0             1"
      ]
     },
     "execution_count": 4,
     "metadata": {},
     "output_type": "execute_result"
    }
   ],
   "source": [
    "df_accident_merged = df_accident_merged.rename(columns={\n",
    "    \"지역\": \"region\",\n",
    "    \"날짜\": \"accident_date\",\n",
    "    \"사고\": \"accident_count\",\n",
    "    \"사망\": \"death_count\",\n",
    "    \"부상\": \"injury_count\"\n",
    "})\n",
    "\n",
    "df_accident_merged.head(5)"
   ]
  },
  {
   "cell_type": "code",
   "execution_count": 5,
   "id": "2a7566cf",
   "metadata": {},
   "outputs": [
    {
     "data": {
      "application/vnd.microsoft.datawrangler.viewer.v0+json": {
       "columns": [
        {
         "name": "index",
         "rawType": "int64",
         "type": "integer"
        },
        {
         "name": "region",
         "rawType": "object",
         "type": "string"
        },
        {
         "name": "accident_date",
         "rawType": "object",
         "type": "unknown"
        },
        {
         "name": "accident_count",
         "rawType": "int64",
         "type": "integer"
        },
        {
         "name": "death_count",
         "rawType": "int64",
         "type": "integer"
        },
        {
         "name": "injury_count",
         "rawType": "int64",
         "type": "integer"
        }
       ],
       "ref": "ddeb4a7b-a880-4584-8d7c-0e806c999a7d",
       "rows": [
        [
         "0",
         "강원 강릉시",
         "2023-01-01",
         "5",
         "0",
         "10"
        ],
        [
         "1",
         "강원 강릉시",
         "2023-01-02",
         "2",
         "0",
         "2"
        ],
        [
         "2",
         "강원 강릉시",
         "2023-01-03",
         "3",
         "0",
         "4"
        ],
        [
         "3",
         "강원 강릉시",
         "2023-01-04",
         "3",
         "0",
         "4"
        ],
        [
         "4",
         "강원 강릉시",
         "2023-01-05",
         "1",
         "0",
         "1"
        ]
       ],
       "shape": {
        "columns": 5,
        "rows": 5
       }
      },
      "text/html": [
       "<div>\n",
       "<style scoped>\n",
       "    .dataframe tbody tr th:only-of-type {\n",
       "        vertical-align: middle;\n",
       "    }\n",
       "\n",
       "    .dataframe tbody tr th {\n",
       "        vertical-align: top;\n",
       "    }\n",
       "\n",
       "    .dataframe thead th {\n",
       "        text-align: right;\n",
       "    }\n",
       "</style>\n",
       "<table border=\"1\" class=\"dataframe\">\n",
       "  <thead>\n",
       "    <tr style=\"text-align: right;\">\n",
       "      <th></th>\n",
       "      <th>region</th>\n",
       "      <th>accident_date</th>\n",
       "      <th>accident_count</th>\n",
       "      <th>death_count</th>\n",
       "      <th>injury_count</th>\n",
       "    </tr>\n",
       "  </thead>\n",
       "  <tbody>\n",
       "    <tr>\n",
       "      <th>0</th>\n",
       "      <td>강원 강릉시</td>\n",
       "      <td>2023-01-01</td>\n",
       "      <td>5</td>\n",
       "      <td>0</td>\n",
       "      <td>10</td>\n",
       "    </tr>\n",
       "    <tr>\n",
       "      <th>1</th>\n",
       "      <td>강원 강릉시</td>\n",
       "      <td>2023-01-02</td>\n",
       "      <td>2</td>\n",
       "      <td>0</td>\n",
       "      <td>2</td>\n",
       "    </tr>\n",
       "    <tr>\n",
       "      <th>2</th>\n",
       "      <td>강원 강릉시</td>\n",
       "      <td>2023-01-03</td>\n",
       "      <td>3</td>\n",
       "      <td>0</td>\n",
       "      <td>4</td>\n",
       "    </tr>\n",
       "    <tr>\n",
       "      <th>3</th>\n",
       "      <td>강원 강릉시</td>\n",
       "      <td>2023-01-04</td>\n",
       "      <td>3</td>\n",
       "      <td>0</td>\n",
       "      <td>4</td>\n",
       "    </tr>\n",
       "    <tr>\n",
       "      <th>4</th>\n",
       "      <td>강원 강릉시</td>\n",
       "      <td>2023-01-05</td>\n",
       "      <td>1</td>\n",
       "      <td>0</td>\n",
       "      <td>1</td>\n",
       "    </tr>\n",
       "  </tbody>\n",
       "</table>\n",
       "</div>"
      ],
      "text/plain": [
       "   region accident_date  accident_count  death_count  injury_count\n",
       "0  강원 강릉시    2023-01-01               5            0            10\n",
       "1  강원 강릉시    2023-01-02               2            0             2\n",
       "2  강원 강릉시    2023-01-03               3            0             4\n",
       "3  강원 강릉시    2023-01-04               3            0             4\n",
       "4  강원 강릉시    2023-01-05               1            0             1"
      ]
     },
     "execution_count": 5,
     "metadata": {},
     "output_type": "execute_result"
    }
   ],
   "source": [
    "df_accident_merged['accident_date'] = pd.to_datetime(df_accident_merged['accident_date'], format=\"%Y.%m.%d\").dt.date#\n",
    "df_accident_merged.head(5)                                        "
   ]
  },
  {
   "cell_type": "code",
   "execution_count": 6,
   "id": "403b8e2b",
   "metadata": {},
   "outputs": [],
   "source": [
    "# stadium_code 설정\n",
    "stadium_code_map = {\n",
    "    \"안산상록수체육관\": \"AS01\",\n",
    "    \"안양 정관장 아레나\": \"AY01\",\n",
    "    \"부산 아시아드 경기장\": \"BS01\",\n",
    "    \"사직야구장\": \"BS02\",\n",
    "    \"부산사직체육관\": \"BS03\",\n",
    "    \"천안 종합 운동장\": \"CA01\",\n",
    "    \"천안유관순체육관\": \"CA02\",\n",
    "    \"춘천 송암 스포츠타운\": \"CC01\",\n",
    "    \"청주야구장\": \"CJ01\",\n",
    "    \"창원NC파크\": \"CW01\",\n",
    "    \"창원체육관\": \"CW02\",\n",
    "    \"대구iM뱅크PARK\": \"DG01\",\n",
    "    \"대구 스타디움\": \"DG02\",\n",
    "    \"대구 삼성 라이온즈 파크\": \"DG03\",\n",
    "    \"대구체육관\": \"DG04\",\n",
    "    \"대전 월드컵 경기장\": \"DJ01\",\n",
    "    \"대전 한화생명 볼파크\": \"DJ02\",\n",
    "    \"한화생명 이글스 파크\": \"DJ03\",\n",
    "    \"대전충무체육관\": \"DJ04\",\n",
    "    \"김천 종합 운동장\": \"GC01\",\n",
    "    \"김천실내체육관\": \"GC02\",\n",
    "    \"광주 축구 전용경기장\": \"GJ01\",\n",
    "    \"광주-기아 챔피언스필드\": \"GJ02\",\n",
    "    \"구미박정희체육관\": \"GM01\",\n",
    "    \"강릉 종합 운동장\": \"GN01\",\n",
    "    \"김포솔터축구장\": \"GP01\",\n",
    "    \"군산월명체육관\": \"GS01\",\n",
    "    \"고양 소노 아레나\": \"GY01\",\n",
    "    \"페퍼스타디움\": \"HS01\",\n",
    "    \"화성종합실내체육관\": \"HS02\",\n",
    "    \"인천 축구 전용경기장\": \"IC01\",\n",
    "    \"인천 SSG 랜더스 필드\": \"IC02\",\n",
    "    \"인천계양체육관\": \"IC03\",\n",
    "    \"인천삼산월드체육관\": \"IC04\",\n",
    "    \"두산베어스파크\": \"IH01\",\n",
    "    \"제주 월드컵 경기장\": \"JE01\",\n",
    "    \"전주 월드컵 경기장\": \"JJ01\",\n",
    "    \"전주실내체육관\": \"JJ02\",\n",
    "    \"포항 스틸야드\": \"PH01\",\n",
    "    \"포항야구장\": \"PH02\",\n",
    "    \"서울 월드컵 경기장\": \"SO01\",\n",
    "    \"상암 보조경기장\": \"SO02\",\n",
    "    \"목동 종합 운동장\": \"SO03\",\n",
    "    \"고척 스카이돔\": \"SO04\",\n",
    "    \"잠실야구장\": \"SO05\",\n",
    "    \"잠실실내체육관\": \"SO06\",\n",
    "    \"잠실학생체육관\": \"SO07\",\n",
    "    \"서울장충체육관\": \"SO08\",\n",
    "    \"수원 월드컵 경기장\": \"SU01\",\n",
    "    \"수원 종합 운동장\": \"SU02\",\n",
    "    \"수원 케이티위즈 파크\": \"SU03\",\n",
    "    \"수원 KT 아레나\": \"SU04\",\n",
    "    \"수원체육관\": \"SU05\",\n",
    "    \"의정부체육관\": \"UJ01\",\n",
    "    \"경민대학교 기념관(체육관)\": \"UJ02\",\n",
    "    \"울산 문수 축구경기장\": \"US01\",\n",
    "    \"울산 종합 운동장\": \"US02\",\n",
    "    \"울산문수야구장\": \"US03\",\n",
    "    \"울산동천체육관\": \"US04\",\n",
    "    \"원주종합체육관\": \"WJ01\"\n",
    "}"
   ]
  },
  {
   "cell_type": "code",
   "execution_count": 7,
   "id": "0b0fcf98",
   "metadata": {},
   "outputs": [
    {
     "data": {
      "text/plain": [
       "array(['강원 강릉시', '강원 원주시', '강원 춘천시', '경기 수원시', '경기 안산시', '경기 의정부시',\n",
       "       '경기 이천시', '경기 화성시', '경북 구미시', '경북 김천시', '경북 포항시', '광주 광산구',\n",
       "       '광주 남구', '광주 동구', '광주 북구', '광주 서구', '대구 남구', '대구 동구', '대구 북구',\n",
       "       '대구 서구', '대구 수성구', '대구 중구', '대전 동구', '대전 서구', '대전 유성구', '대전 중구',\n",
       "       '부산 남구', '부산 동구', '부산 동래구', '부산 북구', '부산 서구', '부산 연제구', '부산 중구',\n",
       "       '서울 마포구', '서울 송파구', '서울 양천구', '서울 중구', '울산 남구', '울산 동구', '울산 북구',\n",
       "       '울산 중구', '인천 계양구', '인천 남동구', '인천 동구', '인천 미추홀구', '인천 서구', '인천 중구',\n",
       "       '전북 군산시', '전북 전주시', '제주 제주시', '충남 천안시', '충북 청주시'], dtype=object)"
      ]
     },
     "execution_count": 7,
     "metadata": {},
     "output_type": "execute_result"
    }
   ],
   "source": [
    "df_accident_merged['region'].unique()"
   ]
  },
  {
   "cell_type": "code",
   "execution_count": 8,
   "id": "600f4fa8",
   "metadata": {},
   "outputs": [
    {
     "name": "stdout",
     "output_type": "stream",
     "text": [
      "매핑되지 않은 데이터 수: 0\n"
     ]
    }
   ],
   "source": [
    "# stadium_code 설정\n",
    "stadium_code_dict = {\n",
    "    \"경기 안산시\": [\"AS01\"],\n",
    "    \"안양\": [\"AY01\"],\n",
    "    \"부산 남구\": [\"BS01\", \"BS02\", \"BS03\"],\n",
    "    \"부산 동구\": [\"BS01\", \"BS02\", \"BS03\"],\n",
    "    \"부산 동래구\": [\"BS01\", \"BS02\", \"BS03\"],\n",
    "    \"부산 북구\": [\"BS01\", \"BS02\", \"BS03\"],\n",
    "    \"부산 서구\": [\"BS01\", \"BS02\", \"BS03\"],\n",
    "    \"부산 연제구\": [\"BS01\", \"BS02\", \"BS03\"],\n",
    "    \"부산 중구\": [\"BS01\", \"BS02\", \"BS03\"],\n",
    "    \"충남 천안시\": [\"CA01\", \"CA02\"],\n",
    "    \"강원 춘천시\": [\"CC01\"],\n",
    "    \"충북 청주시\": [\"CJ01\"],\n",
    "    \"창원\": [\"CW01\", \"CW02\"],\n",
    "    \"대구 남구\": [\"DG01\", \"DG02\", \"DG03\", \"DG04\"],\n",
    "    \"대구 동구\": [\"DG01\", \"DG02\", \"DG03\", \"DG04\"],\n",
    "    \"대구 북구\": [\"DG01\", \"DG02\", \"DG03\", \"DG04\"],\n",
    "    \"대구 서구\": [\"DG01\", \"DG02\", \"DG03\", \"DG04\"],\n",
    "    \"대구 수성구\": [\"DG01\", \"DG02\", \"DG03\", \"DG04\"],\n",
    "    \"대구 중구\": [\"DG01\", \"DG02\", \"DG03\", \"DG04\"],\n",
    "    \"대전 동구\": [\"DJ01\", \"DJ02\", \"DJ03\", \"DJ04\"],\n",
    "    \"대전 서구\": [\"DJ01\", \"DJ02\", \"DJ03\", \"DJ04\"],\n",
    "    \"대전 유성구\": [\"DJ01\", \"DJ02\", \"DJ03\", \"DJ04\"],\n",
    "    \"대전 중구\": [\"DJ01\", \"DJ02\", \"DJ03\", \"DJ04\"],\n",
    "    \"경북 김천시\": [\"GC01\", \"GC02\"],\n",
    "    \"광주 광산구\": [\"GJ01\", \"GJ02\"],\n",
    "    \"광주 남구\": [\"GJ01\", \"GJ02\"],\n",
    "    \"광주 동구\": [\"GJ01\", \"GJ02\"],\n",
    "    \"광주 북구\": [\"GJ01\", \"GJ02\"],\n",
    "    \"광주 서구\": [\"GJ01\", \"GJ02\"],\n",
    "    \"경북 구미시\": [\"GM01\"],\n",
    "    \"강원 강릉시\": [\"GN01\"],\n",
    "    \"김포\": [\"GP01\"],\n",
    "    \"전북 군산시\": [\"GS01\"],\n",
    "    \"고양\": [\"GY01\"],\n",
    "    \"경기 화성시\": [\"HS01\", \"HS02\"],\n",
    "    \"인천 계양구\": [\"IC01\", \"IC02\", \"IC03\", \"IC04\"],\n",
    "    \"인천 남동구\": [\"IC01\", \"IC02\", \"IC03\", \"IC04\"],\n",
    "    \"인천 동구\": [\"IC01\", \"IC02\", \"IC03\", \"IC04\"],\n",
    "    \"인천 미추홀구\": [\"IC01\", \"IC02\", \"IC03\", \"IC04\"],\n",
    "    \"인천 서구\": [\"IC01\", \"IC02\", \"IC03\", \"IC04\"],\n",
    "    \"인천 중구\": [\"IC01\", \"IC02\", \"IC03\", \"IC04\"],\n",
    "    \"경기 이천시\": [\"IH01\"],\n",
    "    \"제주 제주시\": [\"JE01\"],\n",
    "    \"전북 전주시\": [\"JJ01\", \"JJ02\"],\n",
    "    \"경북 포항시\": [\"PH01\", \"PH02\"],\n",
    "    \"서울 마포구\": [\"SO01\", \"SO02\", \"SO03\", \"SO04\", \"SO05\", \"SO06\", \"SO07\", \"SO08\"],\n",
    "    \"서울 송파구\": [\"SO01\", \"SO02\", \"SO03\", \"SO04\", \"SO05\", \"SO06\", \"SO07\", \"SO08\"],\n",
    "    \"서울 양천구\": [\"SO01\", \"SO02\", \"SO03\", \"SO04\", \"SO05\", \"SO06\", \"SO07\", \"SO08\"],\n",
    "    \"서울 중구\": [\"SO01\", \"SO02\", \"SO03\", \"SO04\", \"SO05\", \"SO06\", \"SO07\", \"SO08\"],\n",
    "    \"경기 수원시\": [\"SU01\", \"SU02\", \"SU03\", \"SU04\", \"SU05\"],\n",
    "    \"경기 의정부시\": [\"UJ01\", \"UJ02\"],\n",
    "    \"울산 남구\": [\"US01\", \"US02\", \"US03\", \"US04\"],\n",
    "    \"울산 동구\": [\"US01\", \"US02\", \"US03\", \"US04\"],\n",
    "    \"울산 북구\": [\"US01\", \"US02\", \"US03\", \"US04\"],\n",
    "    \"울산 중구\": [\"US01\", \"US02\", \"US03\", \"US04\"],\n",
    "    \"강원 원주시\": [\"WJ01\"]\n",
    "}\n",
    "# '지점명' 컬럼을 기준으로 stadium_code_dict에서 첫 번째 stadium_code 저장\n",
    "df_accident_merged['stadium_code'] = df_accident_merged['region'].map(lambda x: stadium_code_dict.get(x, [None])[0])\n",
    "\n",
    "# 매핑되지 않은 데이터(None) 확인\n",
    "none_count = df_accident_merged['stadium_code'].isnull().sum()\n",
    "print(f\"매핑되지 않은 데이터 수: {none_count}\")\n",
    "\n",
    "if none_count > 0:\n",
    "    print(df_accident_merged[df_accident_merged['stadium_code'].isnull()][['region', 'stadium_code']])"
   ]
  },
  {
   "cell_type": "code",
   "execution_count": 10,
   "id": "ef610e75",
   "metadata": {},
   "outputs": [
    {
     "data": {
      "text/plain": [
       "34032"
      ]
     },
     "execution_count": 10,
     "metadata": {},
     "output_type": "execute_result"
    }
   ],
   "source": [
    "columns_to_insert = [\"region\", \"accident_date\", \"accident_count\", \"death_count\", \"injury_count\", \"stadium_code\"]\n",
    "\n",
    "df_accident_merged[columns_to_insert].to_sql(\n",
    "    name='traffic_accident',\n",
    "    con=engine,\n",
    "    if_exists='append',  # append: 기존 데이터 유지하고 추가\n",
    "    index=False,         # DataFrame의 인덱스는 사용하지 않음\n",
    "    dtype={\n",
    "        \"region\": sqlalchemy.String(20),\n",
    "        \"accident_date\": sqlalchemy.Date,\n",
    "        \"accident_count\": sqlalchemy.Integer,\n",
    "        \"death_count\": sqlalchemy.Integer,\n",
    "        \"injury_count\": sqlalchemy.Integer,\n",
    "        \"stadium_code\": sqlalchemy.String(10)\n",
    "    }\n",
    ")\n",
    "#        를 넣기 위한 딕셔너리를 짜야함."
   ]
  }
 ],
 "metadata": {
  "kernelspec": {
   "display_name": "testenv",
   "language": "python",
   "name": "python3"
  },
  "language_info": {
   "codemirror_mode": {
    "name": "ipython",
    "version": 3
   },
   "file_extension": ".py",
   "mimetype": "text/x-python",
   "name": "python",
   "nbconvert_exporter": "python",
   "pygments_lexer": "ipython3",
   "version": "3.11.11"
  }
 },
 "nbformat": 4,
 "nbformat_minor": 5
}
