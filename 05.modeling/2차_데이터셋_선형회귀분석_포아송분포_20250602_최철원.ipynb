{
 "cells": [
  {
   "cell_type": "markdown",
   "id": "d054ccaa",
   "metadata": {},
   "source": [
    "# 1. 데이터 불러오고 범주형 변수 처리"
   ]
  },
  {
   "cell_type": "code",
   "execution_count": 4,
   "id": "24f8d28e",
   "metadata": {},
   "outputs": [
    {
     "name": "stdout",
     "output_type": "stream",
     "text": [
      "--- 전처리된 데이터 (피처 X) 상위 5행 ---\n",
      "   game_count  is_post_season  temperature  precipitation  snow_depth  \\\n",
      "0           1               0         -2.0            0.0         0.0   \n",
      "1           0               0         -5.2            0.0         0.0   \n",
      "2           0               0         -6.2            0.0         0.0   \n",
      "3           1               0         -3.5            0.0         0.0   \n",
      "4           1               0         -3.6            0.0         0.0   \n",
      "\n",
      "   is_holiday  sports_types_농구,야구  sports_types_야구  sports_types_없음  \\\n",
      "0           1               False            False            False   \n",
      "1           0               False            False             True   \n",
      "2           0               False            False             True   \n",
      "3           0               False            False            False   \n",
      "4           0               False            False            False   \n",
      "\n",
      "   weather_condition_맑음  weather_condition_비/눈  weather_condition_흐림  \\\n",
      "0                  True                  False                 False   \n",
      "1                  True                  False                 False   \n",
      "2                  True                  False                 False   \n",
      "3                  True                  False                 False   \n",
      "4                 False                  False                 False   \n",
      "\n",
      "   weekday_목  weekday_수  weekday_월  weekday_일  weekday_토  weekday_화  \n",
      "0      False      False      False       True      False      False  \n",
      "1      False      False       True      False      False      False  \n",
      "2      False      False      False      False      False       True  \n",
      "3      False       True      False      False      False      False  \n",
      "4       True      False      False      False      False      False  \n",
      "\n",
      "--- 타겟 데이터 (y) 상위 5행 ---\n",
      "0     5\n",
      "1     5\n",
      "2     4\n",
      "3    10\n",
      "4     8\n",
      "Name: accident_count, dtype: int64\n",
      "\n",
      "--- 전처리 후 X 데이터의 컬럼 목록 ---\n",
      "Index(['game_count', 'is_post_season', 'temperature', 'precipitation',\n",
      "       'snow_depth', 'is_holiday', 'sports_types_농구,야구', 'sports_types_야구',\n",
      "       'sports_types_없음', 'weather_condition_맑음', 'weather_condition_비/눈',\n",
      "       'weather_condition_흐림', 'weekday_목', 'weekday_수', 'weekday_월',\n",
      "       'weekday_일', 'weekday_토', 'weekday_화'],\n",
      "      dtype='object')\n"
     ]
    }
   ],
   "source": [
    "import pandas as pd\n",
    "\n",
    "\n",
    "# 1. CSV 데이터 로드\n",
    "df = pd.read_csv('./results/2nd-dataset_서울 송파구_20250602_110023.csv')\n",
    "\n",
    "# 2. 불필요한 컬럼 제거\n",
    "# 'date'와 'region_code'는 현재 모델링에 직접적으로 필요하지 않으므로 제거합니다.\n",
    "df = df.drop(columns=['date', 'region_code'])\n",
    "\n",
    "# 3. 범주형 변수 처리 (원-핫 인코딩)\n",
    "# 'sports_types', 'weather_condition', 'weekday' 컬럼을 원-핫 인코딩합니다.\n",
    "# 'drop_first=True'는 다중 공선성(multicollinearity) 문제를 피하기 위해 첫 번째 카테고리를 제거합니다.\n",
    "# 예를 들어 '맑음', '흐림', '비/눈'이 있다면 '맑음' 컬럼을 만들지 않고 '흐림', '비/눈' 컬럼만 만듭니다.\n",
    "# '흐림'이 0이고 '비/눈'이 0이면 자동으로 '맑음'임을 알 수 있기 때문입니다.\n",
    "df_encoded = pd.get_dummies(df, columns=['sports_types', 'weather_condition', 'weekday'], drop_first=True)\n",
    "\n",
    "# 4. 피처(Feature)와 타겟(Target) 분리\n",
    "# 'accident_count'가 우리가 예측하려는 타겟(y)입니다.\n",
    "y = df_encoded['accident_count']\n",
    "# 나머지 모든 컬럼은 예측에 사용될 피처(X)입니다.\n",
    "X = df_encoded.drop(columns=['accident_count'])\n",
    "\n",
    "print(\"--- 전처리된 데이터 (피처 X) 상위 5행 ---\")\n",
    "print(X.head())\n",
    "print(\"\\n--- 타겟 데이터 (y) 상위 5행 ---\")\n",
    "print(y.head())\n",
    "print(\"\\n--- 전처리 후 X 데이터의 컬럼 목록 ---\")\n",
    "print(X.columns)\n",
    "\n"
   ]
  },
  {
   "cell_type": "markdown",
   "id": "79a50b42",
   "metadata": {},
   "source": [
    "# 2. 데이터 분할"
   ]
  },
  {
   "cell_type": "code",
   "execution_count": null,
   "id": "3dd0be2e",
   "metadata": {},
   "outputs": [
    {
     "name": "stdout",
     "output_type": "stream",
     "text": [
      "훈련 세트 크기 (X_train): (584, 18)\n",
      "테스트 세트 크기 (X_test): (147, 18)\n",
      "훈련 세트 크기 (y_train): (584,)\n",
      "테스트 세트 크기 (y_test): (147,)\n"
     ]
    }
   ],
   "source": [
    "from sklearn.model_selection import train_test_split\n",
    "\n",
    "# X, y가 정의되어 있는지 확인합니다.\n",
    "if 'X' not in locals() or 'y' not in locals():\n",
    "    raise ValueError(\"X 또는 y 데이터가 정의되지 않았습니다. 이전 단계를 먼저 실행해주세요.\")\n",
    "\n",
    "# 데이터를 훈련 세트와 테스트 세트로 분할합니다.\n",
    "# test_size=0.2는 전체 데이터의 20%를 테스트 세트로 사용하겠다는 의미입니다.\n",
    "# random_state는 난수 발생 시드를 고정하여, 매번 같은 결과를 얻을 수 있도록 합니다. 실험의 재현성을 유지\n",
    "X_train, X_test, y_train, y_test = train_test_split(X, y, test_size=0.2, random_state=42)\n",
    "\n",
    "print(f\"훈련 세트 크기 (X_train): {X_train.shape}\")\n",
    "print(f\"테스트 세트 크기 (X_test): {X_test.shape}\")\n",
    "print(f\"훈련 세트 크기 (y_train): {y_train.shape}\")\n",
    "print(f\"테스트 세트 크기 (y_test): {y_test.shape}\")"
   ]
  },
  {
   "cell_type": "markdown",
   "id": "9a46f33d",
   "metadata": {},
   "source": [
    "# 3. 선형회귀"
   ]
  },
  {
   "cell_type": "code",
   "execution_count": null,
   "id": "4bde5ba3",
   "metadata": {},
   "outputs": [
    {
     "name": "stdout",
     "output_type": "stream",
     "text": [
      "선형 회귀 모델 학습 중...\n",
      "선형 회귀 모델 학습 완료!\n",
      "\n",
      "모델의 절편 (Intercept): 6.66\n",
      "\n",
      "모델의 계수 (Coefficients):\n",
      "  game_count: -0.05\n",
      "  is_post_season: 0.05\n",
      "  temperature: 0.05\n",
      "  precipitation: -0.01\n",
      "  snow_depth: 0.01\n",
      "  is_holiday: -1.77\n",
      "  sports_types_농구,야구: -0.82\n",
      "  sports_types_야구: 0.10\n",
      "  sports_types_없음: 0.64\n",
      "  weather_condition_맑음: 0.46\n",
      "  weather_condition_비/눈: 0.18\n",
      "  weather_condition_흐림: -0.40\n",
      "  weekday_목: -0.32\n",
      "  weekday_수: -0.57\n",
      "  weekday_월: -0.96\n",
      "  weekday_일: -0.63\n",
      "  weekday_토: 1.54\n",
      "  weekday_화: -0.04\n"
     ]
    }
   ],
   "source": [
    "from sklearn.linear_model import LinearRegression\n",
    "\n",
    "# 데이터가 정의되어 있는지 다시 확인합니다.\n",
    "if 'X_train' not in locals() or 'y_train' not in locals():\n",
    "    raise ValueError(\"X_train 또는 y_train 데이터가 정의되지 않았습니다. 이전 단계를 먼저 실행해주세요.\")\n",
    "\n",
    "# 1. LinearRegression 모델 객체 생성\n",
    "linear_model = LinearRegression()\n",
    "\n",
    "# 2. 훈련 세트(X_train, y_train)를 사용하여 모델 학습\n",
    "print(\"선형 회귀 모델 학습 중...\")\n",
    "linear_model.fit(X_train, y_train)\n",
    "print(\"선형 회귀 모델 학습 완료!\")\n",
    "\n",
    "# 학습된 모델의 계수(coefficients)와 절편(intercept) 확인\n",
    "print(f\"\\n모델의 절편 (Intercept): {linear_model.intercept_:.2f}\")\n",
    "print(\"\\n모델의 계수 (Coefficients):\")\n",
    "# 각 피처(컬럼)에 해당하는 계수 값을 출력하여 어떤 피처가 사고 건수에 영향을 미치는지 확인합니다.\n",
    "for feature, coef in zip(X_train.columns, linear_model.coef_):\n",
    "    print(f\"  {feature}: {coef:.2f}\")"
   ]
  },
  {
   "cell_type": "markdown",
   "id": "580e4206",
   "metadata": {},
   "source": [
    "### 각 수치가 양으로 차이가 벌어진다면 y(교통사고 건수)에 대해 해당 특성이 영향을 많이 받는다는 의미"
   ]
  },
  {
   "cell_type": "markdown",
   "id": "de3ba3f5",
   "metadata": {},
   "source": [
    "# 포아송 회귀"
   ]
  },
  {
   "cell_type": "code",
   "execution_count": 7,
   "id": "ba368a9e",
   "metadata": {},
   "outputs": [
    {
     "name": "stdout",
     "output_type": "stream",
     "text": [
      "포아송 회귀 모델 학습 중...\n",
      "Optimization terminated successfully.\n",
      "         Current function value: 2.414513\n",
      "         Iterations 5\n",
      "포아송 회귀 모델 학습 완료!\n",
      "\n",
      "--- 포아송 회귀 모델 학습 결과 요약 ---\n",
      "                          Poisson Regression Results                          \n",
      "==============================================================================\n",
      "Dep. Variable:         accident_count   No. Observations:                  584\n",
      "Model:                        Poisson   Df Residuals:                      565\n",
      "Method:                           MLE   Df Model:                           18\n",
      "Date:                Mon, 02 Jun 2025   Pseudo R-squ.:                 0.03088\n",
      "Time:                        12:44:31   Log-Likelihood:                -1410.1\n",
      "converged:                       True   LL-Null:                       -1455.0\n",
      "Covariance Type:            nonrobust   LLR p-value:                 1.531e-11\n",
      "=========================================================================================\n",
      "                            coef    std err          z      P>|z|      [0.025      0.975]\n",
      "-----------------------------------------------------------------------------------------\n",
      "const                     1.8851      0.082     22.927      0.000       1.724       2.046\n",
      "game_count               -0.0081      0.045     -0.181      0.856      -0.096       0.080\n",
      "is_post_season            0.0106      0.108      0.098      0.922      -0.201       0.222\n",
      "temperature               0.0074      0.002      3.374      0.001       0.003       0.012\n",
      "precipitation            -0.0007      0.001     -0.529      0.597      -0.003       0.002\n",
      "snow_depth                0.0009      0.001      1.797      0.072   -8.21e-05       0.002\n",
      "is_holiday               -0.2815      0.094     -3.000      0.003      -0.465      -0.098\n",
      "sports_types_농구,야구       -0.1174      0.163     -0.720      0.471      -0.437       0.202\n",
      "sports_types_야구           0.0225      0.064      0.351      0.726      -0.103       0.148\n",
      "sports_types_없음           0.0975      0.073      1.333      0.183      -0.046       0.241\n",
      "weather_condition_맑음      0.0628      0.043      1.469      0.142      -0.021       0.147\n",
      "weather_condition_비/눈     0.0246      0.046      0.539      0.590      -0.065       0.114\n",
      "weather_condition_흐림     -0.0595      0.061     -0.979      0.327      -0.178       0.060\n",
      "weekday_목                -0.0402      0.057     -0.709      0.478      -0.151       0.071\n",
      "weekday_수                -0.0753      0.056     -1.333      0.183      -0.186       0.035\n",
      "weekday_월                -0.1324      0.058     -2.270      0.023      -0.247      -0.018\n",
      "weekday_일                -0.0890      0.110     -0.811      0.417      -0.304       0.126\n",
      "weekday_토                 0.2526      0.109      2.325      0.020       0.040       0.465\n",
      "weekday_화                -0.0030      0.056     -0.053      0.958      -0.112       0.107\n",
      "=========================================================================================\n"
     ]
    }
   ],
   "source": [
    "import statsmodels.api as sm\n",
    "\n",
    "# X_train, y_train은 이전 단계에서 분할된 훈련 데이터입니다.\n",
    "# 데이터가 정의되어 있는지 다시 확인합니다.\n",
    "if 'X_train' not in locals() or 'y_train' not in locals():\n",
    "    raise ValueError(\"X_train 또는 y_train 데이터가 정의되지 않았습니다. 이전 단계를 먼저 실행해주세요.\")\n",
    "\n",
    "# statsmodels는 기본적으로 절편(intercept)을 포함하지 않으므로, 명시적으로 추가해 줍니다.\n",
    "# 'add_constant' 함수를 사용하여 X_train에 상수 항(constant, 즉 절편)을 추가합니다.\n",
    "X_train_poisson = sm.add_constant(X_train)\n",
    "X_train_poisson = X_train_poisson.astype(float)\n",
    "y_train = y_train.astype(float)\n",
    "\n",
    "# 1. Poisson 모델 정의\n",
    "# sm.Poisson(종속변수, 독립변수) 형태로 모델을 정의합니다.\n",
    "poisson_model = sm.Poisson(y_train, X_train_poisson)\n",
    "\n",
    "# 2. 훈련 세트(X_train_poisson, y_train)를 사용하여 모델 학습\n",
    "print(\"포아송 회귀 모델 학습 중...\")\n",
    "poisson_results = poisson_model.fit() # 학습된 모델의 결과는 'results' 객체에 저장됩니다.\n",
    "print(\"포아송 회귀 모델 학습 완료!\")\n",
    "\n",
    "# 학습된 모델의 요약 정보 출력\n",
    "# .summary() 메서드는 모델의 통계적 결과(계수, p-값, R-squared 등)를 자세히 보여줍니다.\n",
    "print(\"\\n--- 포아송 회귀 모델 학습 결과 요약 ---\")\n",
    "print(poisson_results.summary())"
   ]
  },
  {
   "cell_type": "markdown",
   "id": "427923eb",
   "metadata": {},
   "source": [
    "### 전체적인 모델의 한계 및 고려 사항\n",
    "* 낮은 Pseudo R-squ. (0.03088): 이 모델이 사고 건수의 변동을 설명하는 데 기여하는 바가 매우 낮습니다. 즉, 현재 모델이 설명하지 못하는 accident_count의 변동이 훨씬 크다는 뜻입니다. 이는 우리가 고려하지 않은 다른 중요한 변수들이 있거나, 사고 발생 자체가 예측하기 매우 어려운 무작위성이 크다는 것을 의미할 수 있습니다.\n",
    "* 통계적으로 유의미한 변수가 적음: temperature, is_holiday, weekday_월, weekday_토를 제외한 대부분의 변수들은 유의미한 영향을 미치지 않는 것으로 나타났습니다. 이는 모델의 예측력 향상을 위해 다른 피처를 추가하거나, 현재 피처들을 조합하는 피처 엔지니어링이 필요할 수 있음을 의미합니다."
   ]
  },
  {
   "cell_type": "markdown",
   "id": "8a7efe76",
   "metadata": {},
   "source": [
    "# 모델 평가"
   ]
  },
  {
   "cell_type": "code",
   "execution_count": 8,
   "id": "dea46cd6",
   "metadata": {},
   "outputs": [
    {
     "name": "stdout",
     "output_type": "stream",
     "text": [
      "--- 모델 성능 평가 시작 ---\n",
      "\n",
      "[선형 회귀 모델]\n",
      "  평균 제곱 오차 (MSE): 7.63\n",
      "  평균 절대 오차 (MAE): 2.21\n",
      "\n",
      "[포아송 회귀 모델]\n",
      "  평균 제곱 오차 (MSE): 7.76\n",
      "  평균 절대 오차 (MAE): 2.21\n",
      "\n",
      "--- 모델 성능 평가 완료 ---\n"
     ]
    }
   ],
   "source": [
    "from sklearn.metrics import mean_squared_error, mean_absolute_error\n",
    "import numpy as np # 예측값에 음수가 나오지 않도록 np.maximum 사용을 위해 임포트\n",
    "\n",
    "# X_test, y_test는 이전 단계에서 분할된 테스트 데이터입니다.\n",
    "# linear_model, poisson_results는 이전 단계에서 학습된 모델입니다.\n",
    "# 데이터와 모델이 정의되어 있는지 다시 확인합니다.\n",
    "if 'X_test' not in locals() or 'y_test' not in locals():\n",
    "    raise ValueError(\"X_test 또는 y_test 데이터가 정의되지 않았습니다. 이전 단계를 먼저 실행해주세요.\")\n",
    "if 'linear_model' not in locals():\n",
    "    raise ValueError(\"linear_model이 정의되지 않았습니다. 선형 회귀 모델 학습 단계를 먼저 실행해주세요.\")\n",
    "if 'poisson_results' not in locals():\n",
    "    raise ValueError(\"poisson_results가 정의되지 않았습니다. 포아송 회귀 모델 학습 단계를 먼저 실행해주세요.\")\n",
    "\n",
    "\n",
    "print(\"--- 모델 성능 평가 시작 ---\")\n",
    "\n",
    "# 1. 선형 회귀 모델 예측 및 평가\n",
    "print(\"\\n[선형 회귀 모델]\")\n",
    "y_pred_linear = linear_model.predict(X_test)\n",
    "\n",
    "# 선형 회귀는 음수 값을 예측할 수 있습니다. 사고 건수는 음수가 될 수 없으므로,\n",
    "# 예측값이 음수일 경우 0으로 처리합니다.\n",
    "y_pred_linear_clipped = np.maximum(0, y_pred_linear)\n",
    "\n",
    "mse_linear = mean_squared_error(y_test, y_pred_linear_clipped)\n",
    "mae_linear = mean_absolute_error(y_test, y_pred_linear_clipped)\n",
    "\n",
    "print(f\"  평균 제곱 오차 (MSE): {mse_linear:.2f}\")\n",
    "print(f\"  평균 절대 오차 (MAE): {mae_linear:.2f}\")\n",
    "\n",
    "# 2. 포아송 회귀 모델 예측 및 평가\n",
    "print(\"\\n[포아송 회귀 모델]\")\n",
    "# statsmodels 모델의 예측 시에도 X_test에 상수항을 추가해야 합니다.\n",
    "X_test_poisson = sm.add_constant(X_test)\n",
    "X_test_poisson = X_test_poisson[X_train_poisson.columns]\n",
    "X_test_poisson = X_test_poisson.astype(float)\n",
    "y_pred_poisson = poisson_results.predict(X_test_poisson)\n",
    "\n",
    "mse_poisson = mean_squared_error(y_test, y_pred_poisson)\n",
    "mae_poisson = mean_absolute_error(y_test, y_pred_poisson)\n",
    "\n",
    "print(f\"  평균 제곱 오차 (MSE): {mse_poisson:.2f}\")\n",
    "print(f\"  평균 절대 오차 (MAE): {mae_poisson:.2f}\")\n",
    "\n",
    "print(\"\\n--- 모델 성능 평가 완료 ---\")"
   ]
  },
  {
   "cell_type": "markdown",
   "id": "c6126a36",
   "metadata": {},
   "source": [
    "### MAE 가 동일 2.21로 실제 사고 건수와 약 2.21 정도 차이가 발생을 의미"
   ]
  },
  {
   "cell_type": "markdown",
   "id": "87272b12",
   "metadata": {},
   "source": [
    "# P-value, IRR"
   ]
  },
  {
   "cell_type": "code",
   "execution_count": 10,
   "id": "b360281f",
   "metadata": {},
   "outputs": [
    {
     "name": "stdout",
     "output_type": "stream",
     "text": [
      "                       Coefficient  IRR (exp(coef))        P-value  \\\n",
      "const                     1.885056         6.586727  2.503277e-116   \n",
      "game_count               -0.008127         0.991906   8.562067e-01   \n",
      "is_post_season            0.010636         1.010693   9.215603e-01   \n",
      "temperature               0.007389         1.007416   7.403984e-04   \n",
      "precipitation            -0.000703         0.999297   5.970975e-01   \n",
      "snow_depth                0.000904         1.000905   7.236056e-02   \n",
      "is_holiday               -0.281515         0.754640   2.697863e-03   \n",
      "sports_types_농구,야구       -0.117360         0.889265   4.714211e-01   \n",
      "sports_types_야구           0.022529         1.022785   7.255653e-01   \n",
      "sports_types_없음           0.097546         1.102462   1.826948e-01   \n",
      "weather_condition_맑음      0.062818         1.064833   1.417349e-01   \n",
      "weather_condition_비/눈     0.024564         1.024868   5.896321e-01   \n",
      "weather_condition_흐림     -0.059474         0.942260   3.273843e-01   \n",
      "weekday_목                -0.040176         0.960620   4.780947e-01   \n",
      "weekday_수                -0.075306         0.927460   1.825720e-01   \n",
      "weekday_월                -0.132429         0.875965   2.323118e-02   \n",
      "weekday_일                -0.088975         0.914868   4.174099e-01   \n",
      "weekday_토                 0.252578         1.287340   2.006434e-02   \n",
      "weekday_화                -0.002960         0.997044   9.577356e-01   \n",
      "\n",
      "                      Significance  \n",
      "const                          ***  \n",
      "game_count                          \n",
      "is_post_season                      \n",
      "temperature                    ***  \n",
      "precipitation                       \n",
      "snow_depth                          \n",
      "is_holiday                      **  \n",
      "sports_types_농구,야구                  \n",
      "sports_types_야구                     \n",
      "sports_types_없음                     \n",
      "weather_condition_맑음                \n",
      "weather_condition_비/눈               \n",
      "weather_condition_흐림                \n",
      "weekday_목                           \n",
      "weekday_수                           \n",
      "weekday_월                        *  \n",
      "weekday_일                           \n",
      "weekday_토                        *  \n",
      "weekday_화                           \n",
      "\n",
      "--- 유의성 표시: *** (p <= 0.001), ** (p <= 0.01), * (p <= 0.05) ---\n"
     ]
    }
   ],
   "source": [
    "# 1. 계수 (coef) 추출\n",
    "coefficients = poisson_results.params\n",
    "\n",
    "# 2. IRR (Incidence Rate Ratio) 계산\n",
    "irr = np.exp(coefficients)\n",
    "\n",
    "# 3. p-값 (p-value) 추출\n",
    "p_values = poisson_results.pvalues\n",
    "\n",
    "# 결과를 DataFrame으로 만들어 보기 좋게 출력\n",
    "results_df = pd.DataFrame({\n",
    "    'Coefficient': coefficients,\n",
    "    'IRR (exp(coef))': irr,\n",
    "    'P-value': p_values\n",
    "})\n",
    "\n",
    "# p-값에 따라 통계적 유의성 표시 (0.05 기준)\n",
    "results_df['Significance'] = ['***' if p <= 0.001 else '**' if p <= 0.01 else '*' if p <= 0.05 else '' for p in p_values]\n",
    "\n",
    "print(results_df)\n",
    "\n",
    "print(\"\\n--- 유의성 표시: *** (p <= 0.001), ** (p <= 0.01), * (p <= 0.05) ---\")"
   ]
  }
 ],
 "metadata": {
  "kernelspec": {
   "display_name": "testenv",
   "language": "python",
   "name": "python3"
  },
  "language_info": {
   "codemirror_mode": {
    "name": "ipython",
    "version": 3
   },
   "file_extension": ".py",
   "mimetype": "text/x-python",
   "name": "python",
   "nbconvert_exporter": "python",
   "pygments_lexer": "ipython3",
   "version": "3.11.11"
  }
 },
 "nbformat": 4,
 "nbformat_minor": 5
}
