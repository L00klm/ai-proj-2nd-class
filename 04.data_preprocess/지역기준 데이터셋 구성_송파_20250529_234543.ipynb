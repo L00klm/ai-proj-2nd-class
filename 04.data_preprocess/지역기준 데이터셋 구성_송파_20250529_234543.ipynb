{
 "cells": [
  {
   "cell_type": "markdown",
   "id": "92fc2a49",
   "metadata": {},
   "source": [
    "# 지역기준 데이터셋 구성 (송파) v.0.2"
   ]
  },
  {
   "cell_type": "code",
   "execution_count": 69,
   "id": "acc2d5d4",
   "metadata": {},
   "outputs": [
    {
     "name": "stdout",
     "output_type": "stream",
     "text": [
      "MySQL 데이터베이스에 성공적으로 연결되었습니다.\n"
     ]
    }
   ],
   "source": [
    "import pandas as pd\n",
    "from sqlalchemy import create_engine, text\n",
    "from datetime import date, timedelta, time # date, time은 sports_game_df 샘플에서만 사용했었음\n",
    "import pymysql\n",
    "\n",
    "DB_USER = config[\"DB_USER\"]\n",
    "DB_PASSWORD = config[\"DB_PASSWORD\"]\n",
    "DB_HOST = config[\"DB_HOST\"]\n",
    "DB_NAME = config[\"DB_NAME\"]\n",
    "DB_PORT = config[\"DB_PORT\"]\n",
    "\n",
    "# SQLAlchemy 엔진 생성\n",
    "engine_url = f\"mysql+pymysql://{DB_USER}:{DB_PASSWORD}@{DB_HOST}:{DB_PORT}/{DB_NAME}\"\n",
    "\n",
    "try:\n",
    "    engine = create_engine(engine_url)\n",
    "    print(\"MySQL 데이터베이스에 성공적으로 연결되었습니다.\")\n",
    "except Exception as e:\n",
    "    print(f\"데이터베이스 연결 오류: {e}\")\n",
    "    exit()"
   ]
  },
  {
   "cell_type": "code",
   "execution_count": 70,
   "id": "8202ad35",
   "metadata": {},
   "outputs": [
    {
     "name": "stdout",
     "output_type": "stream",
     "text": [
      "'stadium' 테이블 로드 완료. 60 행.\n",
      "'sports_game' 테이블 로드 완료. 3631 행.\n",
      "'traffic_accident' 테이블 로드 완료. 34032 행.\n",
      "'weather' 테이블 로드 완료. 450811 행.\n"
     ]
    }
   ],
   "source": [
    "# --- 데이터베이스에서 데이터 로드하는 함수 ---\n",
    "def load_table_to_df(table_name, engine):\n",
    "    \"\"\"지정된 테이블에서 모든 데이터를 Pandas DataFrame으로 로드합니다.\"\"\"\n",
    "    try:\n",
    "        query = f\"SELECT * FROM {table_name}\"\n",
    "        df = pd.read_sql(query, engine)\n",
    "        print(f\"'{table_name}' 테이블 로드 완료. {len(df)} 행.\")\n",
    "        # 날짜/시간 컬럼 타입 변환 (필요시)\n",
    "        if 'game_date' in df.columns:\n",
    "            df['game_date'] = pd.to_datetime(df['game_date'])\n",
    "        if 'accident_date' in df.columns:\n",
    "            df['accident_date'] = pd.to_datetime(df['accident_date'])\n",
    "        if 'weather_date' in df.columns:\n",
    "            df['weather_date'] = pd.to_datetime(df['weather_date'])\n",
    "        # start_time, end_time, weather_time은 문자열로 로드될 수 있으므로, 필요시 time 객체로 변환\n",
    "        return df\n",
    "    except Exception as e:\n",
    "        print(f\"'{table_name}' 테이블 로드 중 오류 발생: {e}\")\n",
    "        return pd.DataFrame() # 오류 발생 시 빈 DataFrame 반환\n",
    "\n",
    "# --- 데이터 로드 ---\n",
    "stadium_df = load_table_to_df('stadium', engine)\n",
    "sports_game_df = load_table_to_df('sports_game', engine)\n",
    "traffic_accident_df = load_table_to_df('traffic_accident', engine)\n",
    "weather_df = load_table_to_df('weather', engine)"
   ]
  },
  {
   "cell_type": "code",
   "execution_count": 71,
   "id": "957b5cdf",
   "metadata": {},
   "outputs": [
    {
     "data": {
      "application/vnd.microsoft.datawrangler.viewer.v0+json": {
       "columns": [
        {
         "name": "index",
         "rawType": "int64",
         "type": "integer"
        },
        {
         "name": "region",
         "rawType": "object",
         "type": "string"
        }
       ],
       "ref": "9623bf7e-1478-4b4a-b018-8f30652650a5",
       "rows": [
        [
         "0",
         "경기_안산시"
        ],
        [
         "1",
         "경기_안양시"
        ],
        [
         "2",
         "부산_연제구"
        ],
        [
         "3",
         "부산_동래구"
        ],
        [
         "4",
         "부산_동래구"
        ],
        [
         "5",
         "충남_천안시"
        ],
        [
         "6",
         "충남_천안시"
        ],
        [
         "7",
         "강원_춘천시"
        ],
        [
         "8",
         "충북_청주시"
        ],
        [
         "9",
         "경남_창원시"
        ],
        [
         "10",
         "경남_창원시"
        ],
        [
         "11",
         "대구_동구"
        ],
        [
         "12",
         "대구_수성구"
        ],
        [
         "13",
         "대구_수성구"
        ],
        [
         "14",
         "대구_동구"
        ],
        [
         "15",
         "대전_유성구"
        ],
        [
         "16",
         "대전_중구"
        ],
        [
         "17",
         "대전_중구"
        ],
        [
         "18",
         "대전_중구"
        ],
        [
         "19",
         "경북_김천시"
        ],
        [
         "20",
         "경북_김천시"
        ],
        [
         "21",
         "광주_광산구"
        ],
        [
         "22",
         "광주_북구"
        ],
        [
         "23",
         "경북_구미시"
        ],
        [
         "24",
         "강원_강릉시"
        ],
        [
         "25",
         "경기_김포시"
        ],
        [
         "26",
         "전북_군산시"
        ],
        [
         "27",
         "경기_고양시"
        ],
        [
         "28",
         "경기_화성시"
        ],
        [
         "29",
         "경기_화성시"
        ],
        [
         "30",
         "인천_서구"
        ],
        [
         "31",
         "인천_미추홀구"
        ],
        [
         "32",
         "인천_계양구"
        ],
        [
         "33",
         "인천_남동구"
        ],
        [
         "34",
         "경기_이천시"
        ],
        [
         "35",
         "제주_제주시"
        ],
        [
         "36",
         "전북_전주시"
        ],
        [
         "37",
         "전북_전주시"
        ],
        [
         "38",
         "경북_포항시"
        ],
        [
         "39",
         "경북_포항시"
        ],
        [
         "40",
         "서울_마포구"
        ],
        [
         "41",
         "서울_마포구"
        ],
        [
         "42",
         "서울_양천구"
        ],
        [
         "43",
         "서울_구로구"
        ],
        [
         "44",
         "서울_송파구"
        ],
        [
         "45",
         "서울_송파구"
        ],
        [
         "46",
         "서울_송파구"
        ],
        [
         "47",
         "서울_중구"
        ],
        [
         "48",
         "경기_수원시"
        ],
        [
         "49",
         "경기_수원시"
        ]
       ],
       "shape": {
        "columns": 1,
        "rows": 60
       }
      },
      "text/plain": [
       "0      경기_안산시\n",
       "1      경기_안양시\n",
       "2      부산_연제구\n",
       "3      부산_동래구\n",
       "4      부산_동래구\n",
       "5      충남_천안시\n",
       "6      충남_천안시\n",
       "7      강원_춘천시\n",
       "8      충북_청주시\n",
       "9      경남_창원시\n",
       "10     경남_창원시\n",
       "11      대구_동구\n",
       "12     대구_수성구\n",
       "13     대구_수성구\n",
       "14      대구_동구\n",
       "15     대전_유성구\n",
       "16      대전_중구\n",
       "17      대전_중구\n",
       "18      대전_중구\n",
       "19     경북_김천시\n",
       "20     경북_김천시\n",
       "21     광주_광산구\n",
       "22      광주_북구\n",
       "23     경북_구미시\n",
       "24     강원_강릉시\n",
       "25     경기_김포시\n",
       "26     전북_군산시\n",
       "27     경기_고양시\n",
       "28     경기_화성시\n",
       "29     경기_화성시\n",
       "30      인천_서구\n",
       "31    인천_미추홀구\n",
       "32     인천_계양구\n",
       "33     인천_남동구\n",
       "34     경기_이천시\n",
       "35     제주_제주시\n",
       "36     전북_전주시\n",
       "37     전북_전주시\n",
       "38     경북_포항시\n",
       "39     경북_포항시\n",
       "40     서울_마포구\n",
       "41     서울_마포구\n",
       "42     서울_양천구\n",
       "43     서울_구로구\n",
       "44     서울_송파구\n",
       "45     서울_송파구\n",
       "46     서울_송파구\n",
       "47      서울_중구\n",
       "48     경기_수원시\n",
       "49     경기_수원시\n",
       "50     경기_수원시\n",
       "51     경기_수원시\n",
       "52     경기_수원시\n",
       "53    경기_의정부시\n",
       "54    경기_의정부시\n",
       "55      울산_남구\n",
       "56      울산_남구\n",
       "57      울산_남구\n",
       "58      울산_중구\n",
       "59     강원_원주시\n",
       "Name: region, dtype: object"
      ]
     },
     "execution_count": 71,
     "metadata": {},
     "output_type": "execute_result"
    }
   ],
   "source": [
    "# stadium_df의 'region' 컬럼 형식이 \"도시_구\" 형태(예: \"서울_송파구\")인지 확인 및 필요시 변환\n",
    "if not stadium_df.empty and 'region' in stadium_df.columns:\n",
    "    stadium_df['region'] = stadium_df['region'].str.replace(' ', '_', n=1)\n",
    "stadium_df['region']"
   ]
  },
  {
   "cell_type": "code",
   "execution_count": 72,
   "id": "d19addcf",
   "metadata": {},
   "outputs": [
    {
     "data": {
      "application/vnd.microsoft.datawrangler.viewer.v0+json": {
       "columns": [
        {
         "name": "index",
         "rawType": "int64",
         "type": "integer"
        },
        {
         "name": "date",
         "rawType": "datetime64[ns]",
         "type": "datetime"
        },
        {
         "name": "region_code",
         "rawType": "object",
         "type": "string"
        }
       ],
       "ref": "30bc4f05-1025-4c18-843d-0990280245d0",
       "rows": [
        [
         "0",
         "2023-01-01 00:00:00",
         "서울_송파구"
        ],
        [
         "1",
         "2023-01-02 00:00:00",
         "서울_송파구"
        ],
        [
         "2",
         "2023-01-03 00:00:00",
         "서울_송파구"
        ],
        [
         "3",
         "2023-01-04 00:00:00",
         "서울_송파구"
        ],
        [
         "4",
         "2023-01-05 00:00:00",
         "서울_송파구"
        ],
        [
         "5",
         "2023-01-06 00:00:00",
         "서울_송파구"
        ],
        [
         "6",
         "2023-01-07 00:00:00",
         "서울_송파구"
        ],
        [
         "7",
         "2023-01-08 00:00:00",
         "서울_송파구"
        ],
        [
         "8",
         "2023-01-09 00:00:00",
         "서울_송파구"
        ],
        [
         "9",
         "2023-01-10 00:00:00",
         "서울_송파구"
        ],
        [
         "10",
         "2023-01-11 00:00:00",
         "서울_송파구"
        ],
        [
         "11",
         "2023-01-12 00:00:00",
         "서울_송파구"
        ],
        [
         "12",
         "2023-01-13 00:00:00",
         "서울_송파구"
        ],
        [
         "13",
         "2023-01-14 00:00:00",
         "서울_송파구"
        ],
        [
         "14",
         "2023-01-15 00:00:00",
         "서울_송파구"
        ],
        [
         "15",
         "2023-01-16 00:00:00",
         "서울_송파구"
        ],
        [
         "16",
         "2023-01-17 00:00:00",
         "서울_송파구"
        ],
        [
         "17",
         "2023-01-18 00:00:00",
         "서울_송파구"
        ],
        [
         "18",
         "2023-01-19 00:00:00",
         "서울_송파구"
        ],
        [
         "19",
         "2023-01-20 00:00:00",
         "서울_송파구"
        ],
        [
         "20",
         "2023-01-21 00:00:00",
         "서울_송파구"
        ],
        [
         "21",
         "2023-01-22 00:00:00",
         "서울_송파구"
        ],
        [
         "22",
         "2023-01-23 00:00:00",
         "서울_송파구"
        ],
        [
         "23",
         "2023-01-24 00:00:00",
         "서울_송파구"
        ],
        [
         "24",
         "2023-01-25 00:00:00",
         "서울_송파구"
        ],
        [
         "25",
         "2023-01-26 00:00:00",
         "서울_송파구"
        ],
        [
         "26",
         "2023-01-27 00:00:00",
         "서울_송파구"
        ],
        [
         "27",
         "2023-01-28 00:00:00",
         "서울_송파구"
        ],
        [
         "28",
         "2023-01-29 00:00:00",
         "서울_송파구"
        ],
        [
         "29",
         "2023-01-30 00:00:00",
         "서울_송파구"
        ],
        [
         "30",
         "2023-01-31 00:00:00",
         "서울_송파구"
        ],
        [
         "31",
         "2023-02-01 00:00:00",
         "서울_송파구"
        ],
        [
         "32",
         "2023-02-02 00:00:00",
         "서울_송파구"
        ],
        [
         "33",
         "2023-02-03 00:00:00",
         "서울_송파구"
        ],
        [
         "34",
         "2023-02-04 00:00:00",
         "서울_송파구"
        ],
        [
         "35",
         "2023-02-05 00:00:00",
         "서울_송파구"
        ],
        [
         "36",
         "2023-02-06 00:00:00",
         "서울_송파구"
        ],
        [
         "37",
         "2023-02-07 00:00:00",
         "서울_송파구"
        ],
        [
         "38",
         "2023-02-08 00:00:00",
         "서울_송파구"
        ],
        [
         "39",
         "2023-02-09 00:00:00",
         "서울_송파구"
        ],
        [
         "40",
         "2023-02-10 00:00:00",
         "서울_송파구"
        ],
        [
         "41",
         "2023-02-11 00:00:00",
         "서울_송파구"
        ],
        [
         "42",
         "2023-02-12 00:00:00",
         "서울_송파구"
        ],
        [
         "43",
         "2023-02-13 00:00:00",
         "서울_송파구"
        ],
        [
         "44",
         "2023-02-14 00:00:00",
         "서울_송파구"
        ],
        [
         "45",
         "2023-02-15 00:00:00",
         "서울_송파구"
        ],
        [
         "46",
         "2023-02-16 00:00:00",
         "서울_송파구"
        ],
        [
         "47",
         "2023-02-17 00:00:00",
         "서울_송파구"
        ],
        [
         "48",
         "2023-02-18 00:00:00",
         "서울_송파구"
        ],
        [
         "49",
         "2023-02-19 00:00:00",
         "서울_송파구"
        ]
       ],
       "shape": {
        "columns": 2,
        "rows": 731
       }
      },
      "text/html": [
       "<div>\n",
       "<style scoped>\n",
       "    .dataframe tbody tr th:only-of-type {\n",
       "        vertical-align: middle;\n",
       "    }\n",
       "\n",
       "    .dataframe tbody tr th {\n",
       "        vertical-align: top;\n",
       "    }\n",
       "\n",
       "    .dataframe thead th {\n",
       "        text-align: right;\n",
       "    }\n",
       "</style>\n",
       "<table border=\"1\" class=\"dataframe\">\n",
       "  <thead>\n",
       "    <tr style=\"text-align: right;\">\n",
       "      <th></th>\n",
       "      <th>date</th>\n",
       "      <th>region_code</th>\n",
       "    </tr>\n",
       "  </thead>\n",
       "  <tbody>\n",
       "    <tr>\n",
       "      <th>0</th>\n",
       "      <td>2023-01-01</td>\n",
       "      <td>서울_송파구</td>\n",
       "    </tr>\n",
       "    <tr>\n",
       "      <th>1</th>\n",
       "      <td>2023-01-02</td>\n",
       "      <td>서울_송파구</td>\n",
       "    </tr>\n",
       "    <tr>\n",
       "      <th>2</th>\n",
       "      <td>2023-01-03</td>\n",
       "      <td>서울_송파구</td>\n",
       "    </tr>\n",
       "    <tr>\n",
       "      <th>3</th>\n",
       "      <td>2023-01-04</td>\n",
       "      <td>서울_송파구</td>\n",
       "    </tr>\n",
       "    <tr>\n",
       "      <th>4</th>\n",
       "      <td>2023-01-05</td>\n",
       "      <td>서울_송파구</td>\n",
       "    </tr>\n",
       "    <tr>\n",
       "      <th>...</th>\n",
       "      <td>...</td>\n",
       "      <td>...</td>\n",
       "    </tr>\n",
       "    <tr>\n",
       "      <th>726</th>\n",
       "      <td>2024-12-27</td>\n",
       "      <td>서울_송파구</td>\n",
       "    </tr>\n",
       "    <tr>\n",
       "      <th>727</th>\n",
       "      <td>2024-12-28</td>\n",
       "      <td>서울_송파구</td>\n",
       "    </tr>\n",
       "    <tr>\n",
       "      <th>728</th>\n",
       "      <td>2024-12-29</td>\n",
       "      <td>서울_송파구</td>\n",
       "    </tr>\n",
       "    <tr>\n",
       "      <th>729</th>\n",
       "      <td>2024-12-30</td>\n",
       "      <td>서울_송파구</td>\n",
       "    </tr>\n",
       "    <tr>\n",
       "      <th>730</th>\n",
       "      <td>2024-12-31</td>\n",
       "      <td>서울_송파구</td>\n",
       "    </tr>\n",
       "  </tbody>\n",
       "</table>\n",
       "<p>731 rows × 2 columns</p>\n",
       "</div>"
      ],
      "text/plain": [
       "          date region_code\n",
       "0   2023-01-01      서울_송파구\n",
       "1   2023-01-02      서울_송파구\n",
       "2   2023-01-03      서울_송파구\n",
       "3   2023-01-04      서울_송파구\n",
       "4   2023-01-05      서울_송파구\n",
       "..         ...         ...\n",
       "726 2024-12-27      서울_송파구\n",
       "727 2024-12-28      서울_송파구\n",
       "728 2024-12-29      서울_송파구\n",
       "729 2024-12-30      서울_송파구\n",
       "730 2024-12-31      서울_송파구\n",
       "\n",
       "[731 rows x 2 columns]"
      ]
     },
     "execution_count": 72,
     "metadata": {},
     "output_type": "execute_result"
    }
   ],
   "source": [
    "# 1. 서울 송파구를 기준으로 데이터 셋 생성\n",
    "TARGET_REGION = \"서울_송파구\" # 예시: 분석 대상 지역\n",
    "START_DATE = pd.to_datetime(\"2023-01-01\") # 분석 시작일\n",
    "END_DATE = pd.to_datetime(\"2024-12-31\")   # 분석 종료일\n",
    "\n",
    "# 2. 날짜를 기준으로 데이터프레임 생성\n",
    "date_range = pd.date_range(start=START_DATE, end=END_DATE, freq='D')\n",
    "base_df = pd.DataFrame({'date': date_range})\n",
    "base_df['region_code'] = TARGET_REGION\n",
    "\n",
    "base_df"
   ]
  },
  {
   "cell_type": "code",
   "execution_count": 73,
   "id": "dcfd97f4",
   "metadata": {},
   "outputs": [
    {
     "name": "stdout",
     "output_type": "stream",
     "text": [
      "\n",
      "서울_송파구 내 경기장 코드: ['SO05', 'SO06', 'SO07']\n"
     ]
    }
   ],
   "source": [
    "# 3. target region의 Stadium code 가져오기 \n",
    "if not stadium_df.empty:\n",
    "    stadium_df['region'] = stadium_df['region'].str.replace(' ', '_', n=1)\n",
    "    stadiums_in_target_region = stadium_df[stadium_df['region'] == TARGET_REGION]\n",
    "    stadium_codes_in_region = stadiums_in_target_region['stadium_code'].unique().tolist()\n",
    "    print(f\"\\n{TARGET_REGION} 내 경기장 코드: {stadium_codes_in_region}\")\n",
    "else:\n",
    "    stadium_codes_in_region = []\n",
    "    print(f\"\\n{TARGET_REGION} 내 경기장 정보 없음 또는 stadium 테이블 로드 실패.\")"
   ]
  },
  {
   "cell_type": "code",
   "execution_count": 74,
   "id": "0d771fa8",
   "metadata": {},
   "outputs": [
    {
     "data": {
      "application/vnd.microsoft.datawrangler.viewer.v0+json": {
       "columns": [
        {
         "name": "index",
         "rawType": "int64",
         "type": "integer"
        },
        {
         "name": "date",
         "rawType": "datetime64[ns]",
         "type": "datetime"
        },
        {
         "name": "region_code",
         "rawType": "object",
         "type": "string"
        },
        {
         "name": "game_count",
         "rawType": "int32",
         "type": "integer"
        },
        {
         "name": "sport_types",
         "rawType": "object",
         "type": "string"
        },
        {
         "name": "has_playoff",
         "rawType": "int32",
         "type": "integer"
        }
       ],
       "ref": "00f8a837-013f-4f7b-b276-979f973d86f1",
       "rows": [
        [
         "0",
         "2023-01-01 00:00:00",
         "서울_송파구",
         "1",
         "농구",
         "0"
        ],
        [
         "1",
         "2023-01-02 00:00:00",
         "서울_송파구",
         "0",
         "없음",
         "0"
        ],
        [
         "2",
         "2023-01-03 00:00:00",
         "서울_송파구",
         "0",
         "없음",
         "0"
        ],
        [
         "3",
         "2023-01-04 00:00:00",
         "서울_송파구",
         "1",
         "농구",
         "0"
        ],
        [
         "4",
         "2023-01-05 00:00:00",
         "서울_송파구",
         "1",
         "농구",
         "0"
        ],
        [
         "5",
         "2023-01-06 00:00:00",
         "서울_송파구",
         "0",
         "없음",
         "0"
        ],
        [
         "6",
         "2023-01-07 00:00:00",
         "서울_송파구",
         "0",
         "없음",
         "0"
        ],
        [
         "7",
         "2023-01-08 00:00:00",
         "서울_송파구",
         "1",
         "농구",
         "0"
        ],
        [
         "8",
         "2023-01-09 00:00:00",
         "서울_송파구",
         "0",
         "없음",
         "0"
        ],
        [
         "9",
         "2023-01-10 00:00:00",
         "서울_송파구",
         "1",
         "농구",
         "0"
        ],
        [
         "10",
         "2023-01-11 00:00:00",
         "서울_송파구",
         "0",
         "없음",
         "0"
        ],
        [
         "11",
         "2023-01-12 00:00:00",
         "서울_송파구",
         "0",
         "없음",
         "0"
        ],
        [
         "12",
         "2023-01-13 00:00:00",
         "서울_송파구",
         "0",
         "없음",
         "0"
        ],
        [
         "13",
         "2023-01-14 00:00:00",
         "서울_송파구",
         "0",
         "없음",
         "0"
        ],
        [
         "14",
         "2023-01-15 00:00:00",
         "서울_송파구",
         "0",
         "없음",
         "0"
        ],
        [
         "15",
         "2023-01-16 00:00:00",
         "서울_송파구",
         "0",
         "없음",
         "0"
        ],
        [
         "16",
         "2023-01-17 00:00:00",
         "서울_송파구",
         "0",
         "없음",
         "0"
        ],
        [
         "17",
         "2023-01-18 00:00:00",
         "서울_송파구",
         "0",
         "없음",
         "0"
        ],
        [
         "18",
         "2023-01-19 00:00:00",
         "서울_송파구",
         "1",
         "농구",
         "0"
        ],
        [
         "19",
         "2023-01-20 00:00:00",
         "서울_송파구",
         "0",
         "없음",
         "0"
        ],
        [
         "20",
         "2023-01-21 00:00:00",
         "서울_송파구",
         "1",
         "농구",
         "0"
        ],
        [
         "21",
         "2023-01-22 00:00:00",
         "서울_송파구",
         "0",
         "없음",
         "0"
        ],
        [
         "22",
         "2023-01-23 00:00:00",
         "서울_송파구",
         "1",
         "농구",
         "0"
        ],
        [
         "23",
         "2023-01-24 00:00:00",
         "서울_송파구",
         "0",
         "없음",
         "0"
        ],
        [
         "24",
         "2023-01-25 00:00:00",
         "서울_송파구",
         "0",
         "없음",
         "0"
        ],
        [
         "25",
         "2023-01-26 00:00:00",
         "서울_송파구",
         "0",
         "없음",
         "0"
        ],
        [
         "26",
         "2023-01-27 00:00:00",
         "서울_송파구",
         "1",
         "농구",
         "0"
        ],
        [
         "27",
         "2023-01-28 00:00:00",
         "서울_송파구",
         "1",
         "농구",
         "0"
        ],
        [
         "28",
         "2023-01-29 00:00:00",
         "서울_송파구",
         "0",
         "없음",
         "0"
        ],
        [
         "29",
         "2023-01-30 00:00:00",
         "서울_송파구",
         "0",
         "없음",
         "0"
        ],
        [
         "30",
         "2023-01-31 00:00:00",
         "서울_송파구",
         "0",
         "없음",
         "0"
        ],
        [
         "31",
         "2023-02-01 00:00:00",
         "서울_송파구",
         "1",
         "농구",
         "0"
        ],
        [
         "32",
         "2023-02-02 00:00:00",
         "서울_송파구",
         "1",
         "농구",
         "0"
        ],
        [
         "33",
         "2023-02-03 00:00:00",
         "서울_송파구",
         "0",
         "없음",
         "0"
        ],
        [
         "34",
         "2023-02-04 00:00:00",
         "서울_송파구",
         "0",
         "없음",
         "0"
        ],
        [
         "35",
         "2023-02-05 00:00:00",
         "서울_송파구",
         "1",
         "농구",
         "0"
        ],
        [
         "36",
         "2023-02-06 00:00:00",
         "서울_송파구",
         "0",
         "없음",
         "0"
        ],
        [
         "37",
         "2023-02-07 00:00:00",
         "서울_송파구",
         "1",
         "농구",
         "0"
        ],
        [
         "38",
         "2023-02-08 00:00:00",
         "서울_송파구",
         "0",
         "없음",
         "0"
        ],
        [
         "39",
         "2023-02-09 00:00:00",
         "서울_송파구",
         "0",
         "없음",
         "0"
        ],
        [
         "40",
         "2023-02-10 00:00:00",
         "서울_송파구",
         "0",
         "없음",
         "0"
        ],
        [
         "41",
         "2023-02-11 00:00:00",
         "서울_송파구",
         "1",
         "농구",
         "0"
        ],
        [
         "42",
         "2023-02-12 00:00:00",
         "서울_송파구",
         "1",
         "농구",
         "0"
        ],
        [
         "43",
         "2023-02-13 00:00:00",
         "서울_송파구",
         "1",
         "농구",
         "0"
        ],
        [
         "44",
         "2023-02-14 00:00:00",
         "서울_송파구",
         "1",
         "농구",
         "0"
        ],
        [
         "45",
         "2023-02-15 00:00:00",
         "서울_송파구",
         "0",
         "없음",
         "0"
        ],
        [
         "46",
         "2023-02-16 00:00:00",
         "서울_송파구",
         "1",
         "농구",
         "0"
        ],
        [
         "47",
         "2023-02-17 00:00:00",
         "서울_송파구",
         "0",
         "없음",
         "0"
        ],
        [
         "48",
         "2023-02-18 00:00:00",
         "서울_송파구",
         "1",
         "농구",
         "0"
        ],
        [
         "49",
         "2023-02-19 00:00:00",
         "서울_송파구",
         "1",
         "농구",
         "0"
        ]
       ],
       "shape": {
        "columns": 5,
        "rows": 731
       }
      },
      "text/html": [
       "<div>\n",
       "<style scoped>\n",
       "    .dataframe tbody tr th:only-of-type {\n",
       "        vertical-align: middle;\n",
       "    }\n",
       "\n",
       "    .dataframe tbody tr th {\n",
       "        vertical-align: top;\n",
       "    }\n",
       "\n",
       "    .dataframe thead th {\n",
       "        text-align: right;\n",
       "    }\n",
       "</style>\n",
       "<table border=\"1\" class=\"dataframe\">\n",
       "  <thead>\n",
       "    <tr style=\"text-align: right;\">\n",
       "      <th></th>\n",
       "      <th>date</th>\n",
       "      <th>region_code</th>\n",
       "      <th>game_count</th>\n",
       "      <th>sport_types</th>\n",
       "      <th>has_playoff</th>\n",
       "    </tr>\n",
       "  </thead>\n",
       "  <tbody>\n",
       "    <tr>\n",
       "      <th>0</th>\n",
       "      <td>2023-01-01</td>\n",
       "      <td>서울_송파구</td>\n",
       "      <td>1</td>\n",
       "      <td>농구</td>\n",
       "      <td>0</td>\n",
       "    </tr>\n",
       "    <tr>\n",
       "      <th>1</th>\n",
       "      <td>2023-01-02</td>\n",
       "      <td>서울_송파구</td>\n",
       "      <td>0</td>\n",
       "      <td>없음</td>\n",
       "      <td>0</td>\n",
       "    </tr>\n",
       "    <tr>\n",
       "      <th>2</th>\n",
       "      <td>2023-01-03</td>\n",
       "      <td>서울_송파구</td>\n",
       "      <td>0</td>\n",
       "      <td>없음</td>\n",
       "      <td>0</td>\n",
       "    </tr>\n",
       "    <tr>\n",
       "      <th>3</th>\n",
       "      <td>2023-01-04</td>\n",
       "      <td>서울_송파구</td>\n",
       "      <td>1</td>\n",
       "      <td>농구</td>\n",
       "      <td>0</td>\n",
       "    </tr>\n",
       "    <tr>\n",
       "      <th>4</th>\n",
       "      <td>2023-01-05</td>\n",
       "      <td>서울_송파구</td>\n",
       "      <td>1</td>\n",
       "      <td>농구</td>\n",
       "      <td>0</td>\n",
       "    </tr>\n",
       "    <tr>\n",
       "      <th>...</th>\n",
       "      <td>...</td>\n",
       "      <td>...</td>\n",
       "      <td>...</td>\n",
       "      <td>...</td>\n",
       "      <td>...</td>\n",
       "    </tr>\n",
       "    <tr>\n",
       "      <th>726</th>\n",
       "      <td>2024-12-27</td>\n",
       "      <td>서울_송파구</td>\n",
       "      <td>0</td>\n",
       "      <td>없음</td>\n",
       "      <td>0</td>\n",
       "    </tr>\n",
       "    <tr>\n",
       "      <th>727</th>\n",
       "      <td>2024-12-28</td>\n",
       "      <td>서울_송파구</td>\n",
       "      <td>0</td>\n",
       "      <td>없음</td>\n",
       "      <td>0</td>\n",
       "    </tr>\n",
       "    <tr>\n",
       "      <th>728</th>\n",
       "      <td>2024-12-29</td>\n",
       "      <td>서울_송파구</td>\n",
       "      <td>0</td>\n",
       "      <td>없음</td>\n",
       "      <td>0</td>\n",
       "    </tr>\n",
       "    <tr>\n",
       "      <th>729</th>\n",
       "      <td>2024-12-30</td>\n",
       "      <td>서울_송파구</td>\n",
       "      <td>0</td>\n",
       "      <td>없음</td>\n",
       "      <td>0</td>\n",
       "    </tr>\n",
       "    <tr>\n",
       "      <th>730</th>\n",
       "      <td>2024-12-31</td>\n",
       "      <td>서울_송파구</td>\n",
       "      <td>0</td>\n",
       "      <td>없음</td>\n",
       "      <td>0</td>\n",
       "    </tr>\n",
       "  </tbody>\n",
       "</table>\n",
       "<p>731 rows × 5 columns</p>\n",
       "</div>"
      ],
      "text/plain": [
       "          date region_code  game_count sport_types  has_playoff\n",
       "0   2023-01-01      서울_송파구           1          농구            0\n",
       "1   2023-01-02      서울_송파구           0          없음            0\n",
       "2   2023-01-03      서울_송파구           0          없음            0\n",
       "3   2023-01-04      서울_송파구           1          농구            0\n",
       "4   2023-01-05      서울_송파구           1          농구            0\n",
       "..         ...         ...         ...         ...          ...\n",
       "726 2024-12-27      서울_송파구           0          없음            0\n",
       "727 2024-12-28      서울_송파구           0          없음            0\n",
       "728 2024-12-29      서울_송파구           0          없음            0\n",
       "729 2024-12-30      서울_송파구           0          없음            0\n",
       "730 2024-12-31      서울_송파구           0          없음            0\n",
       "\n",
       "[731 rows x 5 columns]"
      ]
     },
     "execution_count": 74,
     "metadata": {},
     "output_type": "execute_result"
    }
   ],
   "source": [
    "# 4. 스포츠 데이터 처리\n",
    "if not sports_game_df.empty and stadium_codes_in_region:\n",
    "    games_in_region_df = sports_game_df[sports_game_df['stadium_code'].isin(stadium_codes_in_region)]\n",
    "    games_in_region_df = games_in_region_df.rename(columns={'game_date': 'date'})\n",
    "    #print(games_in_region_df)\n",
    "    if not games_in_region_df.empty:\n",
    "        game_summary_df = games_in_region_df.groupby('date').agg(\n",
    "            game_count=('stadium_code', 'count'),\n",
    "            sport_types_list=('sport_type', lambda x: list(set(x))),\n",
    "            has_playoff_list=('match_type', lambda x: 1 if any('플레이오프' in str(mt).lower() for mt in x) else 0)\n",
    "        ).reset_index()\n",
    "        \n",
    "        game_summary_df['sport_types'] = game_summary_df['sport_types_list'].apply(lambda x: ','.join(sorted(x)) if x else '없음')\n",
    "        game_summary_df['has_playoff'] = game_summary_df['has_playoff_list']\n",
    "        game_summary_df = game_summary_df[['date', 'game_count', 'sport_types', 'has_playoff']]\n",
    "        base_df = pd.merge(base_df, game_summary_df, on='date', how='left')\n",
    "    else:\n",
    "        print(f\"{TARGET_REGION} 내 해당 기간 경기 정보 없음.\")\n",
    "        base_df['game_count'] = 0\n",
    "        base_df['sport_types'] = '없음'\n",
    "        base_df['has_playoff'] = 0\n",
    "else:\n",
    "    print(\"sports_game_df 로드 실패 또는 대상 지역 내 경기장 없음.\")\n",
    "    base_df['game_count'] = 0\n",
    "    base_df['sport_types'] = '없음'\n",
    "    base_df['has_playoff'] = 0\n",
    "\n",
    "base_df['game_count'] = base_df['game_count'].fillna(0).astype(int)\n",
    "base_df['sport_types'] = base_df['sport_types'].fillna('없음')\n",
    "base_df['has_playoff'] = base_df['has_playoff'].fillna(0).astype(int)\n",
    "\n",
    "base_df"
   ]
  },
  {
   "cell_type": "code",
   "execution_count": 75,
   "id": "17985206",
   "metadata": {},
   "outputs": [],
   "source": [
    "# 5. 사고데이터 처리\n",
    "if not traffic_accident_df.empty:\n",
    "    # traffic_accident_df의 'region' 컬럼도 TARGET_REGION과 동일한 형식이어야 함.\n",
    "    # 예: \"서울_송파구\"\n",
    "    traffic_accident_df['region'] = traffic_accident_df['region'].str.replace(' ', '_', n=1)\n",
    "    accidents_in_region_df = traffic_accident_df[traffic_accident_df['region'] == TARGET_REGION]\n",
    "    accidents_in_region_df = accidents_in_region_df.rename(columns={'accident_date': 'date'})\n",
    "    if not accidents_in_region_df.empty:\n",
    "        accident_summary_df = accidents_in_region_df.groupby('date').agg(\n",
    "            accident_count_sum=('accident_count', 'sum')\n",
    "        ).reset_index()\n",
    "        accident_summary_df = accident_summary_df.rename(columns={'accident_count_sum': 'accident_count'})\n",
    "        \n",
    "        base_df = pd.merge(base_df, accident_summary_df, on='date', how='left')\n",
    "    else:\n",
    "        print(f\"{TARGET_REGION} 내 해당 기간 교통사고 정보 없음.\")\n",
    "        base_df['accident_count'] = 0\n",
    "else:\n",
    "    print(\"traffic_accident_df 로드 실패.\")\n",
    "    base_df['accident_count'] = 0\n",
    "    \n",
    "base_df['accident_count'] = base_df['accident_count'].fillna(0).astype(int)"
   ]
  },
  {
   "cell_type": "code",
   "execution_count": 76,
   "id": "96fa47fe",
   "metadata": {},
   "outputs": [
    {
     "data": {
      "application/vnd.microsoft.datawrangler.viewer.v0+json": {
       "columns": [
        {
         "name": "index",
         "rawType": "int64",
         "type": "integer"
        },
        {
         "name": "date",
         "rawType": "datetime64[ns]",
         "type": "datetime"
        },
        {
         "name": "region_code",
         "rawType": "object",
         "type": "string"
        },
        {
         "name": "game_count",
         "rawType": "int32",
         "type": "integer"
        },
        {
         "name": "sport_types",
         "rawType": "object",
         "type": "string"
        },
        {
         "name": "has_playoff",
         "rawType": "int32",
         "type": "integer"
        },
        {
         "name": "accident_count",
         "rawType": "int32",
         "type": "integer"
        }
       ],
       "ref": "9b917501-dd62-4d30-a2ad-71f0789fffdf",
       "rows": [
        [
         "0",
         "2023-01-01 00:00:00",
         "서울_송파구",
         "1",
         "농구",
         "0",
         "5"
        ],
        [
         "1",
         "2023-01-02 00:00:00",
         "서울_송파구",
         "0",
         "없음",
         "0",
         "5"
        ],
        [
         "2",
         "2023-01-03 00:00:00",
         "서울_송파구",
         "0",
         "없음",
         "0",
         "4"
        ],
        [
         "3",
         "2023-01-04 00:00:00",
         "서울_송파구",
         "1",
         "농구",
         "0",
         "10"
        ],
        [
         "4",
         "2023-01-05 00:00:00",
         "서울_송파구",
         "1",
         "농구",
         "0",
         "8"
        ],
        [
         "5",
         "2023-01-06 00:00:00",
         "서울_송파구",
         "0",
         "없음",
         "0",
         "10"
        ],
        [
         "6",
         "2023-01-07 00:00:00",
         "서울_송파구",
         "0",
         "없음",
         "0",
         "4"
        ],
        [
         "7",
         "2023-01-08 00:00:00",
         "서울_송파구",
         "1",
         "농구",
         "0",
         "4"
        ],
        [
         "8",
         "2023-01-09 00:00:00",
         "서울_송파구",
         "0",
         "없음",
         "0",
         "3"
        ],
        [
         "9",
         "2023-01-10 00:00:00",
         "서울_송파구",
         "1",
         "농구",
         "0",
         "5"
        ],
        [
         "10",
         "2023-01-11 00:00:00",
         "서울_송파구",
         "0",
         "없음",
         "0",
         "11"
        ],
        [
         "11",
         "2023-01-12 00:00:00",
         "서울_송파구",
         "0",
         "없음",
         "0",
         "8"
        ],
        [
         "12",
         "2023-01-13 00:00:00",
         "서울_송파구",
         "0",
         "없음",
         "0",
         "9"
        ],
        [
         "13",
         "2023-01-14 00:00:00",
         "서울_송파구",
         "0",
         "없음",
         "0",
         "8"
        ],
        [
         "14",
         "2023-01-15 00:00:00",
         "서울_송파구",
         "0",
         "없음",
         "0",
         "6"
        ],
        [
         "15",
         "2023-01-16 00:00:00",
         "서울_송파구",
         "0",
         "없음",
         "0",
         "7"
        ],
        [
         "16",
         "2023-01-17 00:00:00",
         "서울_송파구",
         "0",
         "없음",
         "0",
         "8"
        ],
        [
         "17",
         "2023-01-18 00:00:00",
         "서울_송파구",
         "0",
         "없음",
         "0",
         "4"
        ],
        [
         "18",
         "2023-01-19 00:00:00",
         "서울_송파구",
         "1",
         "농구",
         "0",
         "8"
        ],
        [
         "19",
         "2023-01-20 00:00:00",
         "서울_송파구",
         "0",
         "없음",
         "0",
         "7"
        ],
        [
         "20",
         "2023-01-21 00:00:00",
         "서울_송파구",
         "1",
         "농구",
         "0",
         "6"
        ],
        [
         "21",
         "2023-01-22 00:00:00",
         "서울_송파구",
         "0",
         "없음",
         "0",
         "6"
        ],
        [
         "22",
         "2023-01-23 00:00:00",
         "서울_송파구",
         "1",
         "농구",
         "0",
         "3"
        ],
        [
         "23",
         "2023-01-24 00:00:00",
         "서울_송파구",
         "0",
         "없음",
         "0",
         "4"
        ],
        [
         "24",
         "2023-01-25 00:00:00",
         "서울_송파구",
         "0",
         "없음",
         "0",
         "6"
        ],
        [
         "25",
         "2023-01-26 00:00:00",
         "서울_송파구",
         "0",
         "없음",
         "0",
         "7"
        ],
        [
         "26",
         "2023-01-27 00:00:00",
         "서울_송파구",
         "1",
         "농구",
         "0",
         "9"
        ],
        [
         "27",
         "2023-01-28 00:00:00",
         "서울_송파구",
         "1",
         "농구",
         "0",
         "8"
        ],
        [
         "28",
         "2023-01-29 00:00:00",
         "서울_송파구",
         "0",
         "없음",
         "0",
         "6"
        ],
        [
         "29",
         "2023-01-30 00:00:00",
         "서울_송파구",
         "0",
         "없음",
         "0",
         "7"
        ],
        [
         "30",
         "2023-01-31 00:00:00",
         "서울_송파구",
         "0",
         "없음",
         "0",
         "5"
        ],
        [
         "31",
         "2023-02-01 00:00:00",
         "서울_송파구",
         "1",
         "농구",
         "0",
         "8"
        ],
        [
         "32",
         "2023-02-02 00:00:00",
         "서울_송파구",
         "1",
         "농구",
         "0",
         "3"
        ],
        [
         "33",
         "2023-02-03 00:00:00",
         "서울_송파구",
         "0",
         "없음",
         "0",
         "7"
        ],
        [
         "34",
         "2023-02-04 00:00:00",
         "서울_송파구",
         "0",
         "없음",
         "0",
         "10"
        ],
        [
         "35",
         "2023-02-05 00:00:00",
         "서울_송파구",
         "1",
         "농구",
         "0",
         "3"
        ],
        [
         "36",
         "2023-02-06 00:00:00",
         "서울_송파구",
         "0",
         "없음",
         "0",
         "7"
        ],
        [
         "37",
         "2023-02-07 00:00:00",
         "서울_송파구",
         "1",
         "농구",
         "0",
         "10"
        ],
        [
         "38",
         "2023-02-08 00:00:00",
         "서울_송파구",
         "0",
         "없음",
         "0",
         "11"
        ],
        [
         "39",
         "2023-02-09 00:00:00",
         "서울_송파구",
         "0",
         "없음",
         "0",
         "3"
        ],
        [
         "40",
         "2023-02-10 00:00:00",
         "서울_송파구",
         "0",
         "없음",
         "0",
         "7"
        ],
        [
         "41",
         "2023-02-11 00:00:00",
         "서울_송파구",
         "1",
         "농구",
         "0",
         "7"
        ],
        [
         "42",
         "2023-02-12 00:00:00",
         "서울_송파구",
         "1",
         "농구",
         "0",
         "2"
        ],
        [
         "43",
         "2023-02-13 00:00:00",
         "서울_송파구",
         "1",
         "농구",
         "0",
         "3"
        ],
        [
         "44",
         "2023-02-14 00:00:00",
         "서울_송파구",
         "1",
         "농구",
         "0",
         "9"
        ],
        [
         "45",
         "2023-02-15 00:00:00",
         "서울_송파구",
         "0",
         "없음",
         "0",
         "7"
        ],
        [
         "46",
         "2023-02-16 00:00:00",
         "서울_송파구",
         "1",
         "농구",
         "0",
         "3"
        ],
        [
         "47",
         "2023-02-17 00:00:00",
         "서울_송파구",
         "0",
         "없음",
         "0",
         "8"
        ],
        [
         "48",
         "2023-02-18 00:00:00",
         "서울_송파구",
         "1",
         "농구",
         "0",
         "8"
        ],
        [
         "49",
         "2023-02-19 00:00:00",
         "서울_송파구",
         "1",
         "농구",
         "0",
         "3"
        ]
       ],
       "shape": {
        "columns": 6,
        "rows": 731
       }
      },
      "text/html": [
       "<div>\n",
       "<style scoped>\n",
       "    .dataframe tbody tr th:only-of-type {\n",
       "        vertical-align: middle;\n",
       "    }\n",
       "\n",
       "    .dataframe tbody tr th {\n",
       "        vertical-align: top;\n",
       "    }\n",
       "\n",
       "    .dataframe thead th {\n",
       "        text-align: right;\n",
       "    }\n",
       "</style>\n",
       "<table border=\"1\" class=\"dataframe\">\n",
       "  <thead>\n",
       "    <tr style=\"text-align: right;\">\n",
       "      <th></th>\n",
       "      <th>date</th>\n",
       "      <th>region_code</th>\n",
       "      <th>game_count</th>\n",
       "      <th>sport_types</th>\n",
       "      <th>has_playoff</th>\n",
       "      <th>accident_count</th>\n",
       "    </tr>\n",
       "  </thead>\n",
       "  <tbody>\n",
       "    <tr>\n",
       "      <th>0</th>\n",
       "      <td>2023-01-01</td>\n",
       "      <td>서울_송파구</td>\n",
       "      <td>1</td>\n",
       "      <td>농구</td>\n",
       "      <td>0</td>\n",
       "      <td>5</td>\n",
       "    </tr>\n",
       "    <tr>\n",
       "      <th>1</th>\n",
       "      <td>2023-01-02</td>\n",
       "      <td>서울_송파구</td>\n",
       "      <td>0</td>\n",
       "      <td>없음</td>\n",
       "      <td>0</td>\n",
       "      <td>5</td>\n",
       "    </tr>\n",
       "    <tr>\n",
       "      <th>2</th>\n",
       "      <td>2023-01-03</td>\n",
       "      <td>서울_송파구</td>\n",
       "      <td>0</td>\n",
       "      <td>없음</td>\n",
       "      <td>0</td>\n",
       "      <td>4</td>\n",
       "    </tr>\n",
       "    <tr>\n",
       "      <th>3</th>\n",
       "      <td>2023-01-04</td>\n",
       "      <td>서울_송파구</td>\n",
       "      <td>1</td>\n",
       "      <td>농구</td>\n",
       "      <td>0</td>\n",
       "      <td>10</td>\n",
       "    </tr>\n",
       "    <tr>\n",
       "      <th>4</th>\n",
       "      <td>2023-01-05</td>\n",
       "      <td>서울_송파구</td>\n",
       "      <td>1</td>\n",
       "      <td>농구</td>\n",
       "      <td>0</td>\n",
       "      <td>8</td>\n",
       "    </tr>\n",
       "    <tr>\n",
       "      <th>...</th>\n",
       "      <td>...</td>\n",
       "      <td>...</td>\n",
       "      <td>...</td>\n",
       "      <td>...</td>\n",
       "      <td>...</td>\n",
       "      <td>...</td>\n",
       "    </tr>\n",
       "    <tr>\n",
       "      <th>726</th>\n",
       "      <td>2024-12-27</td>\n",
       "      <td>서울_송파구</td>\n",
       "      <td>0</td>\n",
       "      <td>없음</td>\n",
       "      <td>0</td>\n",
       "      <td>4</td>\n",
       "    </tr>\n",
       "    <tr>\n",
       "      <th>727</th>\n",
       "      <td>2024-12-28</td>\n",
       "      <td>서울_송파구</td>\n",
       "      <td>0</td>\n",
       "      <td>없음</td>\n",
       "      <td>0</td>\n",
       "      <td>6</td>\n",
       "    </tr>\n",
       "    <tr>\n",
       "      <th>728</th>\n",
       "      <td>2024-12-29</td>\n",
       "      <td>서울_송파구</td>\n",
       "      <td>0</td>\n",
       "      <td>없음</td>\n",
       "      <td>0</td>\n",
       "      <td>5</td>\n",
       "    </tr>\n",
       "    <tr>\n",
       "      <th>729</th>\n",
       "      <td>2024-12-30</td>\n",
       "      <td>서울_송파구</td>\n",
       "      <td>0</td>\n",
       "      <td>없음</td>\n",
       "      <td>0</td>\n",
       "      <td>4</td>\n",
       "    </tr>\n",
       "    <tr>\n",
       "      <th>730</th>\n",
       "      <td>2024-12-31</td>\n",
       "      <td>서울_송파구</td>\n",
       "      <td>0</td>\n",
       "      <td>없음</td>\n",
       "      <td>0</td>\n",
       "      <td>8</td>\n",
       "    </tr>\n",
       "  </tbody>\n",
       "</table>\n",
       "<p>731 rows × 6 columns</p>\n",
       "</div>"
      ],
      "text/plain": [
       "          date region_code  game_count sport_types  has_playoff  \\\n",
       "0   2023-01-01      서울_송파구           1          농구            0   \n",
       "1   2023-01-02      서울_송파구           0          없음            0   \n",
       "2   2023-01-03      서울_송파구           0          없음            0   \n",
       "3   2023-01-04      서울_송파구           1          농구            0   \n",
       "4   2023-01-05      서울_송파구           1          농구            0   \n",
       "..         ...         ...         ...         ...          ...   \n",
       "726 2024-12-27      서울_송파구           0          없음            0   \n",
       "727 2024-12-28      서울_송파구           0          없음            0   \n",
       "728 2024-12-29      서울_송파구           0          없음            0   \n",
       "729 2024-12-30      서울_송파구           0          없음            0   \n",
       "730 2024-12-31      서울_송파구           0          없음            0   \n",
       "\n",
       "     accident_count  \n",
       "0                 5  \n",
       "1                 5  \n",
       "2                 4  \n",
       "3                10  \n",
       "4                 8  \n",
       "..              ...  \n",
       "726               4  \n",
       "727               6  \n",
       "728               5  \n",
       "729               4  \n",
       "730               8  \n",
       "\n",
       "[731 rows x 6 columns]"
      ]
     },
     "execution_count": 76,
     "metadata": {},
     "output_type": "execute_result"
    }
   ],
   "source": [
    "base_df"
   ]
  },
  {
   "cell_type": "code",
   "execution_count": 77,
   "id": "f6678305",
   "metadata": {},
   "outputs": [],
   "source": [
    "# 6. 날씨 데이터 처리\n",
    "if not weather_df.empty:\n",
    "    # weather_df의 'region' 컬럼도 TARGET_REGION과 동일한 형식이어야 함.\n",
    "    weather_region_df = weather_df[weather_df['region'] == \"서울\"]\n",
    "    weather_region_df = weather_region_df.rename(columns={'weather_date': 'date'})\n",
    "\n",
    "    if not weather_region_df.empty:\n",
    "        # 날씨 데이터는 하루에 여러 번 기록될 수 있으므로, 일별 집계 필요\n",
    "        # (문서 예시에는 평균 기온, 총 강수량이므로 이를 따름)\n",
    "        weather_summary_df = weather_region_df.groupby('date').agg(\n",
    "            temperature=('temperature', 'mean'),\n",
    "            precipitation=('precipitation', 'sum'),\n",
    "            avg_cloud_amount=('cloud_amount', 'mean') # 대표 날씨 상태 추론용\n",
    "        ).reset_index()\n",
    "\n",
    "        def get_weather_condition(row):\n",
    "            if pd.isna(row['precipitation']) and pd.isna(row['avg_cloud_amount']):\n",
    "                return '정보없음' # 데이터가 없는 경우\n",
    "            if row['precipitation'] > 0:\n",
    "                return '비/눈'\n",
    "            elif pd.notna(row['avg_cloud_amount']):\n",
    "                if row['avg_cloud_amount'] >= 7: # (0-10 기준)\n",
    "                    return '흐림'\n",
    "                elif row['avg_cloud_amount'] >= 3:\n",
    "                    return '구름조금' # 또는 '약간흐림' 등\n",
    "                else:\n",
    "                    return '맑음'\n",
    "            return '정보없음' # 강수량 없고 구름 정보도 없는 경우\n",
    "            \n",
    "        weather_summary_df['weather_condition'] = weather_summary_df.apply(get_weather_condition, axis=1)\n",
    "        weather_summary_df = weather_summary_df[['date', 'temperature', 'precipitation', 'weather_condition']]\n",
    "        \n",
    "        base_df = pd.merge(base_df, weather_summary_df, on='date', how='left')\n",
    "    else:\n",
    "        print(f\"{TARGET_REGION} 내 해당 기간 날씨 정보 없음.\")\n",
    "        base_df['temperature'] = pd.NA\n",
    "        base_df['precipitation'] = pd.NA\n",
    "        base_df['weather_condition'] = '정보없음'\n",
    "else:\n",
    "    print(\"weather_df 로드 실패.\")\n",
    "    base_df['temperature'] = pd.NA\n",
    "    base_df['precipitation'] = pd.NA\n",
    "    base_df['weather_condition'] = '정보없음'"
   ]
  },
  {
   "cell_type": "code",
   "execution_count": 78,
   "id": "b009aaae",
   "metadata": {},
   "outputs": [
    {
     "data": {
      "application/vnd.microsoft.datawrangler.viewer.v0+json": {
       "columns": [
        {
         "name": "index",
         "rawType": "int64",
         "type": "integer"
        },
        {
         "name": "date",
         "rawType": "datetime64[ns]",
         "type": "datetime"
        },
        {
         "name": "region_code",
         "rawType": "object",
         "type": "string"
        },
        {
         "name": "game_count",
         "rawType": "int32",
         "type": "integer"
        },
        {
         "name": "sport_types",
         "rawType": "object",
         "type": "string"
        },
        {
         "name": "has_playoff",
         "rawType": "int32",
         "type": "integer"
        },
        {
         "name": "accident_count",
         "rawType": "int32",
         "type": "integer"
        },
        {
         "name": "temperature",
         "rawType": "float64",
         "type": "float"
        },
        {
         "name": "precipitation",
         "rawType": "float64",
         "type": "float"
        },
        {
         "name": "weather_condition",
         "rawType": "object",
         "type": "string"
        }
       ],
       "ref": "69eb3d5c-6048-4381-bd88-0e3ea2e9b80c",
       "rows": [
        [
         "0",
         "2023-01-01 00:00:00",
         "서울_송파구",
         "1",
         "농구",
         "0",
         "5",
         "0.33749999999999997",
         "0.0",
         "맑음"
        ],
        [
         "1",
         "2023-01-02 00:00:00",
         "서울_송파구",
         "0",
         "없음",
         "0",
         "5",
         "-4.379166666666666",
         "0.0",
         "맑음"
        ],
        [
         "2",
         "2023-01-03 00:00:00",
         "서울_송파구",
         "0",
         "없음",
         "0",
         "4",
         "-4.9624999999999995",
         "0.0",
         "맑음"
        ],
        [
         "3",
         "2023-01-04 00:00:00",
         "서울_송파구",
         "1",
         "농구",
         "0",
         "10",
         "-1.9083333333333332",
         "0.0",
         "맑음"
        ],
        [
         "4",
         "2023-01-05 00:00:00",
         "서울_송파구",
         "1",
         "농구",
         "0",
         "8",
         "-1.7166666666666668",
         "0.0",
         "구름조금"
        ],
        [
         "5",
         "2023-01-06 00:00:00",
         "서울_송파구",
         "0",
         "없음",
         "0",
         "10",
         "0.325",
         "1.0",
         "비/눈"
        ],
        [
         "6",
         "2023-01-07 00:00:00",
         "서울_송파구",
         "0",
         "없음",
         "0",
         "4",
         "1.7458333333333333",
         "3.0",
         "비/눈"
        ],
        [
         "7",
         "2023-01-08 00:00:00",
         "서울_송파구",
         "1",
         "농구",
         "0",
         "4",
         "0.8958333333333334",
         "0.0",
         "맑음"
        ],
        [
         "8",
         "2023-01-09 00:00:00",
         "서울_송파구",
         "0",
         "없음",
         "0",
         "3",
         "3.5208333333333335",
         "0.0",
         "구름조금"
        ],
        [
         "9",
         "2023-01-10 00:00:00",
         "서울_송파구",
         "1",
         "농구",
         "0",
         "5",
         "1.4583333333333333",
         "0.0",
         "맑음"
        ],
        [
         "10",
         "2023-01-11 00:00:00",
         "서울_송파구",
         "0",
         "없음",
         "0",
         "11",
         "2.6875",
         "0.0",
         "맑음"
        ],
        [
         "11",
         "2023-01-12 00:00:00",
         "서울_송파구",
         "0",
         "없음",
         "0",
         "8",
         "5.316666666666667",
         "0.0",
         "맑음"
        ],
        [
         "12",
         "2023-01-13 00:00:00",
         "서울_송파구",
         "0",
         "없음",
         "0",
         "9",
         "8.320833333333333",
         "37.2",
         "비/눈"
        ],
        [
         "13",
         "2023-01-14 00:00:00",
         "서울_송파구",
         "0",
         "없음",
         "0",
         "8",
         "7.0125",
         "1.7000000000000002",
         "비/눈"
        ],
        [
         "14",
         "2023-01-15 00:00:00",
         "서울_송파구",
         "0",
         "없음",
         "0",
         "6",
         "0.3666666666666667",
         "3.2",
         "비/눈"
        ],
        [
         "15",
         "2023-01-16 00:00:00",
         "서울_송파구",
         "0",
         "없음",
         "0",
         "7",
         "-4.2375",
         "0.0",
         "구름조금"
        ],
        [
         "16",
         "2023-01-17 00:00:00",
         "서울_송파구",
         "0",
         "없음",
         "0",
         "8",
         "-3.8708333333333336",
         "0.0",
         "흐림"
        ],
        [
         "17",
         "2023-01-18 00:00:00",
         "서울_송파구",
         "0",
         "없음",
         "0",
         "4",
         "-1.8041666666666665",
         "0.0",
         "맑음"
        ],
        [
         "18",
         "2023-01-19 00:00:00",
         "서울_송파구",
         "1",
         "농구",
         "0",
         "8",
         "-0.6958333333333333",
         "0.1",
         "비/눈"
        ],
        [
         "19",
         "2023-01-20 00:00:00",
         "서울_송파구",
         "0",
         "없음",
         "0",
         "7",
         "-2.4499999999999997",
         "0.9",
         "비/눈"
        ],
        [
         "20",
         "2023-01-21 00:00:00",
         "서울_송파구",
         "1",
         "농구",
         "0",
         "6",
         "-4.879166666666666",
         "0.0",
         "맑음"
        ],
        [
         "21",
         "2023-01-22 00:00:00",
         "서울_송파구",
         "0",
         "없음",
         "0",
         "6",
         "-0.7083333333333334",
         "0.0",
         "흐림"
        ],
        [
         "22",
         "2023-01-23 00:00:00",
         "서울_송파구",
         "1",
         "농구",
         "0",
         "3",
         "-0.19999999999999996",
         "0.0",
         "구름조금"
        ],
        [
         "23",
         "2023-01-24 00:00:00",
         "서울_송파구",
         "0",
         "없음",
         "0",
         "4",
         "-13.8375",
         "0.0",
         "맑음"
        ],
        [
         "24",
         "2023-01-25 00:00:00",
         "서울_송파구",
         "0",
         "없음",
         "0",
         "6",
         "-12.008333333333333",
         "0.0",
         "맑음"
        ],
        [
         "25",
         "2023-01-26 00:00:00",
         "서울_송파구",
         "0",
         "없음",
         "0",
         "7",
         "-6.2",
         "0.8",
         "비/눈"
        ],
        [
         "26",
         "2023-01-27 00:00:00",
         "서울_송파구",
         "1",
         "농구",
         "0",
         "9",
         "-6.941666666666666",
         "0.0",
         "맑음"
        ],
        [
         "27",
         "2023-01-28 00:00:00",
         "서울_송파구",
         "1",
         "농구",
         "0",
         "8",
         "-6.091666666666666",
         "0.0",
         "맑음"
        ],
        [
         "28",
         "2023-01-29 00:00:00",
         "서울_송파구",
         "0",
         "없음",
         "0",
         "6",
         "-2.2208333333333337",
         "0.0",
         "구름조금"
        ],
        [
         "29",
         "2023-01-30 00:00:00",
         "서울_송파구",
         "0",
         "없음",
         "0",
         "7",
         "-0.7958333333333333",
         "0.0",
         "맑음"
        ],
        [
         "30",
         "2023-01-31 00:00:00",
         "서울_송파구",
         "0",
         "없음",
         "0",
         "5",
         "1.8291666666666666",
         "0.0",
         "구름조금"
        ],
        [
         "31",
         "2023-02-01 00:00:00",
         "서울_송파구",
         "1",
         "농구",
         "0",
         "8",
         "1.6333333333333335",
         "0.0",
         "구름조금"
        ],
        [
         "32",
         "2023-02-02 00:00:00",
         "서울_송파구",
         "1",
         "농구",
         "0",
         "3",
         "-2.3208333333333333",
         "0.0",
         "구름조금"
        ],
        [
         "33",
         "2023-02-03 00:00:00",
         "서울_송파구",
         "0",
         "없음",
         "0",
         "7",
         "-1.5458333333333334",
         "0.0",
         "구름조금"
        ],
        [
         "34",
         "2023-02-04 00:00:00",
         "서울_송파구",
         "0",
         "없음",
         "0",
         "10",
         "-0.33749999999999997",
         "0.0",
         "맑음"
        ],
        [
         "35",
         "2023-02-05 00:00:00",
         "서울_송파구",
         "1",
         "농구",
         "0",
         "3",
         "1.4416666666666667",
         "0.0",
         "맑음"
        ],
        [
         "36",
         "2023-02-06 00:00:00",
         "서울_송파구",
         "0",
         "없음",
         "0",
         "7",
         "2.9499999999999997",
         "0.0",
         "구름조금"
        ],
        [
         "37",
         "2023-02-07 00:00:00",
         "서울_송파구",
         "1",
         "농구",
         "0",
         "10",
         "3.475",
         "0.0",
         "구름조금"
        ],
        [
         "38",
         "2023-02-08 00:00:00",
         "서울_송파구",
         "0",
         "없음",
         "0",
         "11",
         "2.3874999999999997",
         "0.0",
         "맑음"
        ],
        [
         "39",
         "2023-02-09 00:00:00",
         "서울_송파구",
         "0",
         "없음",
         "0",
         "3",
         "3.533333333333333",
         "0.0",
         "구름조금"
        ],
        [
         "40",
         "2023-02-10 00:00:00",
         "서울_송파구",
         "0",
         "없음",
         "0",
         "7",
         "4.208333333333333",
         "0.6000000000000001",
         "비/눈"
        ],
        [
         "41",
         "2023-02-11 00:00:00",
         "서울_송파구",
         "1",
         "농구",
         "0",
         "7",
         "2.783333333333333",
         "0.0",
         "구름조금"
        ],
        [
         "42",
         "2023-02-12 00:00:00",
         "서울_송파구",
         "1",
         "농구",
         "0",
         "2",
         "3.358333333333333",
         "0.0",
         "구름조금"
        ],
        [
         "43",
         "2023-02-13 00:00:00",
         "서울_송파구",
         "1",
         "농구",
         "0",
         "3",
         "6.125",
         "0.0",
         "흐림"
        ],
        [
         "44",
         "2023-02-14 00:00:00",
         "서울_송파구",
         "1",
         "농구",
         "0",
         "9",
         "1.9291666666666665",
         "0.0",
         "맑음"
        ],
        [
         "45",
         "2023-02-15 00:00:00",
         "서울_송파구",
         "0",
         "없음",
         "0",
         "7",
         "3.0666666666666664",
         "0.0",
         "구름조금"
        ],
        [
         "46",
         "2023-02-16 00:00:00",
         "서울_송파구",
         "1",
         "농구",
         "0",
         "3",
         "2.5208333333333335",
         "0.0",
         "구름조금"
        ],
        [
         "47",
         "2023-02-17 00:00:00",
         "서울_송파구",
         "0",
         "없음",
         "0",
         "8",
         "3.1750000000000003",
         "0.0",
         "구름조금"
        ],
        [
         "48",
         "2023-02-18 00:00:00",
         "서울_송파구",
         "1",
         "농구",
         "0",
         "8",
         "5.4875",
         "0.0",
         "흐림"
        ],
        [
         "49",
         "2023-02-19 00:00:00",
         "서울_송파구",
         "1",
         "농구",
         "0",
         "3",
         "3.9458333333333333",
         "0.4",
         "비/눈"
        ]
       ],
       "shape": {
        "columns": 9,
        "rows": 731
       }
      },
      "text/html": [
       "<div>\n",
       "<style scoped>\n",
       "    .dataframe tbody tr th:only-of-type {\n",
       "        vertical-align: middle;\n",
       "    }\n",
       "\n",
       "    .dataframe tbody tr th {\n",
       "        vertical-align: top;\n",
       "    }\n",
       "\n",
       "    .dataframe thead th {\n",
       "        text-align: right;\n",
       "    }\n",
       "</style>\n",
       "<table border=\"1\" class=\"dataframe\">\n",
       "  <thead>\n",
       "    <tr style=\"text-align: right;\">\n",
       "      <th></th>\n",
       "      <th>date</th>\n",
       "      <th>region_code</th>\n",
       "      <th>game_count</th>\n",
       "      <th>sport_types</th>\n",
       "      <th>has_playoff</th>\n",
       "      <th>accident_count</th>\n",
       "      <th>temperature</th>\n",
       "      <th>precipitation</th>\n",
       "      <th>weather_condition</th>\n",
       "    </tr>\n",
       "  </thead>\n",
       "  <tbody>\n",
       "    <tr>\n",
       "      <th>0</th>\n",
       "      <td>2023-01-01</td>\n",
       "      <td>서울_송파구</td>\n",
       "      <td>1</td>\n",
       "      <td>농구</td>\n",
       "      <td>0</td>\n",
       "      <td>5</td>\n",
       "      <td>0.337500</td>\n",
       "      <td>0.0</td>\n",
       "      <td>맑음</td>\n",
       "    </tr>\n",
       "    <tr>\n",
       "      <th>1</th>\n",
       "      <td>2023-01-02</td>\n",
       "      <td>서울_송파구</td>\n",
       "      <td>0</td>\n",
       "      <td>없음</td>\n",
       "      <td>0</td>\n",
       "      <td>5</td>\n",
       "      <td>-4.379167</td>\n",
       "      <td>0.0</td>\n",
       "      <td>맑음</td>\n",
       "    </tr>\n",
       "    <tr>\n",
       "      <th>2</th>\n",
       "      <td>2023-01-03</td>\n",
       "      <td>서울_송파구</td>\n",
       "      <td>0</td>\n",
       "      <td>없음</td>\n",
       "      <td>0</td>\n",
       "      <td>4</td>\n",
       "      <td>-4.962500</td>\n",
       "      <td>0.0</td>\n",
       "      <td>맑음</td>\n",
       "    </tr>\n",
       "    <tr>\n",
       "      <th>3</th>\n",
       "      <td>2023-01-04</td>\n",
       "      <td>서울_송파구</td>\n",
       "      <td>1</td>\n",
       "      <td>농구</td>\n",
       "      <td>0</td>\n",
       "      <td>10</td>\n",
       "      <td>-1.908333</td>\n",
       "      <td>0.0</td>\n",
       "      <td>맑음</td>\n",
       "    </tr>\n",
       "    <tr>\n",
       "      <th>4</th>\n",
       "      <td>2023-01-05</td>\n",
       "      <td>서울_송파구</td>\n",
       "      <td>1</td>\n",
       "      <td>농구</td>\n",
       "      <td>0</td>\n",
       "      <td>8</td>\n",
       "      <td>-1.716667</td>\n",
       "      <td>0.0</td>\n",
       "      <td>구름조금</td>\n",
       "    </tr>\n",
       "    <tr>\n",
       "      <th>...</th>\n",
       "      <td>...</td>\n",
       "      <td>...</td>\n",
       "      <td>...</td>\n",
       "      <td>...</td>\n",
       "      <td>...</td>\n",
       "      <td>...</td>\n",
       "      <td>...</td>\n",
       "      <td>...</td>\n",
       "      <td>...</td>\n",
       "    </tr>\n",
       "    <tr>\n",
       "      <th>726</th>\n",
       "      <td>2024-12-27</td>\n",
       "      <td>서울_송파구</td>\n",
       "      <td>0</td>\n",
       "      <td>없음</td>\n",
       "      <td>0</td>\n",
       "      <td>4</td>\n",
       "      <td>-2.541667</td>\n",
       "      <td>0.0</td>\n",
       "      <td>맑음</td>\n",
       "    </tr>\n",
       "    <tr>\n",
       "      <th>727</th>\n",
       "      <td>2024-12-28</td>\n",
       "      <td>서울_송파구</td>\n",
       "      <td>0</td>\n",
       "      <td>없음</td>\n",
       "      <td>0</td>\n",
       "      <td>6</td>\n",
       "      <td>-3.154167</td>\n",
       "      <td>0.0</td>\n",
       "      <td>맑음</td>\n",
       "    </tr>\n",
       "    <tr>\n",
       "      <th>728</th>\n",
       "      <td>2024-12-29</td>\n",
       "      <td>서울_송파구</td>\n",
       "      <td>0</td>\n",
       "      <td>없음</td>\n",
       "      <td>0</td>\n",
       "      <td>5</td>\n",
       "      <td>0.783333</td>\n",
       "      <td>0.0</td>\n",
       "      <td>구름조금</td>\n",
       "    </tr>\n",
       "    <tr>\n",
       "      <th>729</th>\n",
       "      <td>2024-12-30</td>\n",
       "      <td>서울_송파구</td>\n",
       "      <td>0</td>\n",
       "      <td>없음</td>\n",
       "      <td>0</td>\n",
       "      <td>4</td>\n",
       "      <td>5.170833</td>\n",
       "      <td>0.0</td>\n",
       "      <td>구름조금</td>\n",
       "    </tr>\n",
       "    <tr>\n",
       "      <th>730</th>\n",
       "      <td>2024-12-31</td>\n",
       "      <td>서울_송파구</td>\n",
       "      <td>0</td>\n",
       "      <td>없음</td>\n",
       "      <td>0</td>\n",
       "      <td>8</td>\n",
       "      <td>1.158333</td>\n",
       "      <td>0.0</td>\n",
       "      <td>맑음</td>\n",
       "    </tr>\n",
       "  </tbody>\n",
       "</table>\n",
       "<p>731 rows × 9 columns</p>\n",
       "</div>"
      ],
      "text/plain": [
       "          date region_code  game_count sport_types  has_playoff  \\\n",
       "0   2023-01-01      서울_송파구           1          농구            0   \n",
       "1   2023-01-02      서울_송파구           0          없음            0   \n",
       "2   2023-01-03      서울_송파구           0          없음            0   \n",
       "3   2023-01-04      서울_송파구           1          농구            0   \n",
       "4   2023-01-05      서울_송파구           1          농구            0   \n",
       "..         ...         ...         ...         ...          ...   \n",
       "726 2024-12-27      서울_송파구           0          없음            0   \n",
       "727 2024-12-28      서울_송파구           0          없음            0   \n",
       "728 2024-12-29      서울_송파구           0          없음            0   \n",
       "729 2024-12-30      서울_송파구           0          없음            0   \n",
       "730 2024-12-31      서울_송파구           0          없음            0   \n",
       "\n",
       "     accident_count  temperature  precipitation weather_condition  \n",
       "0                 5     0.337500            0.0                맑음  \n",
       "1                 5    -4.379167            0.0                맑음  \n",
       "2                 4    -4.962500            0.0                맑음  \n",
       "3                10    -1.908333            0.0                맑음  \n",
       "4                 8    -1.716667            0.0              구름조금  \n",
       "..              ...          ...            ...               ...  \n",
       "726               4    -2.541667            0.0                맑음  \n",
       "727               6    -3.154167            0.0                맑음  \n",
       "728               5     0.783333            0.0              구름조금  \n",
       "729               4     5.170833            0.0              구름조금  \n",
       "730               8     1.158333            0.0                맑음  \n",
       "\n",
       "[731 rows x 9 columns]"
      ]
     },
     "execution_count": 78,
     "metadata": {},
     "output_type": "execute_result"
    }
   ],
   "source": [
    "base_df"
   ]
  },
  {
   "cell_type": "code",
   "execution_count": 79,
   "id": "2e0cbab2",
   "metadata": {},
   "outputs": [
    {
     "name": "stdout",
     "output_type": "stream",
     "text": [
      "Collecting holidays\n",
      "  Downloading holidays-0.73-py3-none-any.whl.metadata (38 kB)\n",
      "Requirement already satisfied: python-dateutil in c:\\users\\stagv\\anaconda3\\envs\\testenv\\lib\\site-packages (from holidays) (2.9.0.post0)\n",
      "Requirement already satisfied: six>=1.5 in c:\\users\\stagv\\anaconda3\\envs\\testenv\\lib\\site-packages (from python-dateutil->holidays) (1.17.0)\n",
      "Downloading holidays-0.73-py3-none-any.whl (954 kB)\n",
      "   ---------------------------------------- 0.0/954.8 kB ? eta -:--:--\n",
      "   ---------- ----------------------------- 262.1/954.8 kB ? eta -:--:--\n",
      "   --------------------- ------------------ 524.3/954.8 kB 1.4 MB/s eta 0:00:01\n",
      "   ---------------------------------------- 954.8/954.8 kB 1.8 MB/s eta 0:00:00\n",
      "Installing collected packages: holidays\n",
      "Successfully installed holidays-0.73\n",
      "Note: you may need to restart the kernel to use updated packages.\n"
     ]
    }
   ],
   "source": [
    "%pip install holidays"
   ]
  },
  {
   "cell_type": "code",
   "execution_count": null,
   "id": "7451de5b",
   "metadata": {},
   "outputs": [],
   "source": [
    "# 7. 휴일처리\n",
    "weekday_map_kr = {0: '월', 1: '화', 2: '수', 3: '목', 4: '금', 5: '토', 6: '일'}\n",
    "base_df['weekday'] = base_df['date'].dt.dayofweek.map(weekday_map_kr)\n",
    "\n",
    "try:\n",
    "    import holidays\n",
    "    kr_holidays = holidays.KR(years=base_df['date'].dt.year.unique().tolist()) # base_df['date']에서 연도를 뽑아와서 unique 값으로 추출\n",
    "    base_df['is_holiday'] = 0\n",
    "    base_df.loc[base_df['date'].apply(lambda d: d in kr_holidays), 'is_holiday'] = 1\n",
    "    base_df.loc[base_df['weekday'] == '토', 'is_holiday'] = 1\n",
    "    base_df.loc[base_df['weekday'] == '일', 'is_holiday'] = 1\n",
    "except ImportError:\n",
    "    print(\"`holidays` 라이브러리가 설치되지 않았습니다. `pip install holidays`로 설치해주세요. 'is_holiday'는 0으로 처리됩니다.\")\n",
    "    base_df['is_holiday'] = 0\n",
    "except Exception as e:\n",
    "    print(f\"공휴일 정보 처리 중 오류: {e}. 'is_holiday'는 0으로 처리됩니다.\")\n",
    "    base_df['is_holiday'] = 0"
   ]
  },
  {
   "cell_type": "code",
   "execution_count": 96,
   "id": "607dc0c2",
   "metadata": {},
   "outputs": [
    {
     "data": {
      "text/plain": [
       "{datetime.date(2024, 1, 1): '신정연휴', datetime.date(2024, 2, 10): '설날', datetime.date(2024, 2, 9): '설날 전날', datetime.date(2024, 2, 11): '설날 다음날', datetime.date(2024, 3, 1): '삼일절', datetime.date(2024, 5, 15): '부처님오신날', datetime.date(2024, 5, 5): '어린이날', datetime.date(2024, 6, 6): '현충일', datetime.date(2024, 8, 15): '광복절', datetime.date(2024, 10, 3): '개천절', datetime.date(2024, 10, 9): '한글날', datetime.date(2024, 9, 17): '추석', datetime.date(2024, 9, 16): '추석 전날', datetime.date(2024, 9, 18): '추석 다음날', datetime.date(2024, 12, 25): '기독탄신일', datetime.date(2024, 4, 10): '국회의원 선거일', datetime.date(2024, 2, 12): '설날 대체 휴일', datetime.date(2024, 5, 6): '어린이날 대체 휴일', datetime.date(2024, 10, 1): '국군의 날', datetime.date(2023, 1, 1): '신정연휴', datetime.date(2023, 1, 22): '설날', datetime.date(2023, 1, 21): '설날 전날', datetime.date(2023, 1, 23): '설날 다음날', datetime.date(2023, 3, 1): '삼일절', datetime.date(2023, 5, 27): '부처님오신날', datetime.date(2023, 5, 5): '어린이날', datetime.date(2023, 6, 6): '현충일', datetime.date(2023, 8, 15): '광복절', datetime.date(2023, 10, 3): '개천절', datetime.date(2023, 10, 9): '한글날', datetime.date(2023, 9, 29): '추석', datetime.date(2023, 9, 28): '추석 전날', datetime.date(2023, 9, 30): '추석 다음날', datetime.date(2023, 12, 25): '기독탄신일', datetime.date(2023, 1, 24): '설날 대체 휴일', datetime.date(2023, 5, 29): '부처님오신날 대체 휴일', datetime.date(2023, 10, 2): '임시공휴일'}"
      ]
     },
     "execution_count": 96,
     "metadata": {},
     "output_type": "execute_result"
    }
   ],
   "source": [
    "kr_holidays"
   ]
  },
  {
   "cell_type": "code",
   "execution_count": null,
   "id": "838aae37",
   "metadata": {},
   "outputs": [
    {
     "name": "stdout",
     "output_type": "stream",
     "text": [
      "\n",
      "--- Final Dataset ---\n",
      "           date region_code  accident_count  game_count sport_types  \\\n",
      "0    2023-01-01      서울_송파구               5           1          농구   \n",
      "1    2023-01-02      서울_송파구               5           0          없음   \n",
      "2    2023-01-03      서울_송파구               4           0          없음   \n",
      "3    2023-01-04      서울_송파구              10           1          농구   \n",
      "4    2023-01-05      서울_송파구               8           1          농구   \n",
      "..          ...         ...             ...         ...         ...   \n",
      "726  2024-12-27      서울_송파구               4           0          없음   \n",
      "727  2024-12-28      서울_송파구               6           0          없음   \n",
      "728  2024-12-29      서울_송파구               5           0          없음   \n",
      "729  2024-12-30      서울_송파구               4           0          없음   \n",
      "730  2024-12-31      서울_송파구               8           0          없음   \n",
      "\n",
      "     has_playoff  temperature  precipitation weather_condition  is_holiday  \\\n",
      "0              0          0.3            0.0                맑음           1   \n",
      "1              0         -4.4            0.0                맑음           0   \n",
      "2              0         -5.0            0.0                맑음           0   \n",
      "3              0         -1.9            0.0                맑음           0   \n",
      "4              0         -1.7            0.0              구름조금           0   \n",
      "..           ...          ...            ...               ...         ...   \n",
      "726            0         -2.5            0.0                맑음           0   \n",
      "727            0         -3.2            0.0                맑음           1   \n",
      "728            0          0.8            0.0              구름조금           1   \n",
      "729            0          5.2            0.0              구름조금           0   \n",
      "730            0          1.2            0.0                맑음           0   \n",
      "\n",
      "    weekday  \n",
      "0         일  \n",
      "1         월  \n",
      "2         화  \n",
      "3         수  \n",
      "4         목  \n",
      "..      ...  \n",
      "726       금  \n",
      "727       토  \n",
      "728       일  \n",
      "729       월  \n",
      "730       화  \n",
      "\n",
      "[731 rows x 11 columns]\n",
      "\n",
      "--- 활용 가능 분석 예시 ---\n",
      "평균 사고 건수 (경기 있는 날): 6.91\n",
      "평균 사고 건수 (경기 없는 날): 7.13\n",
      "평균 사고 건수 (플레이오프 경기 있는 날): 6.36\n",
      "\n",
      "데이터베이스 연결이 종료되었습니다.\n"
     ]
    }
   ],
   "source": [
    "# 8. Finalize\n",
    "final_df = base_df[[\n",
    "    'date', 'region_code', 'accident_count', 'game_count', 'sport_types',\n",
    "    'has_playoff', 'temperature', 'precipitation', 'weather_condition',\n",
    "    'is_holiday', 'weekday'\n",
    "]].copy() # SettingWithCopyWarning 방지를 위해 .copy() 사용\n",
    "\n",
    "final_df['date'] = final_df['date'].dt.strftime('%Y-%m-%d')\n",
    "final_df['temperature'] = pd.to_numeric(final_df['temperature'], errors='coerce').round(1)\n",
    "final_df['precipitation'] = pd.to_numeric(final_df['precipitation'], errors='coerce').round(1)\n",
    "\n",
    "print(\"\\n--- Final Dataset ---\")\n",
    "print(final_df)\n",
    "\n",
    "# --- 활용 가능 분석 예시 ---\n",
    "print(\"\\n--- 활용 가능 분석 예시 ---\")\n",
    "if not final_df.empty:\n",
    "    avg_accidents_game_day = final_df[final_df['game_count'] > 0]['accident_count'].mean()\n",
    "    avg_accidents_no_game_day = final_df[final_df['game_count'] == 0]['accident_count'].mean()\n",
    "    if pd.notna(avg_accidents_game_day):\n",
    "        print(f\"평균 사고 건수 (경기 있는 날): {avg_accidents_game_day:.2f}\") \n",
    "    else :\n",
    "        print(f\"평균 사고 건수 (경기 있는 날): N/A\") \n",
    "    if pd.notna(avg_accidents_no_game_day):   \n",
    "        print(f\"평균 사고 건수 (경기 없는 날): {avg_accidents_no_game_day:.2f}\")\n",
    "    else :\n",
    "        print(f\"평균 사고 건수 (경기 없는 날): N/A\")\n",
    "    playoff_days_df = final_df[(final_df['game_count'] > 0) & (final_df['has_playoff'] == 1)]\n",
    "    if not playoff_days_df.empty:\n",
    "        avg_accidents_playoff_day = playoff_days_df['accident_count'].mean()\n",
    "        if pd.notna(avg_accidents_playoff_day):\n",
    "            print(f\"평균 사고 건수 (플레이오프 경기 있는 날): {avg_accidents_playoff_day:.2f}\")\n",
    "        else:\n",
    "            print(\"평균 사고 건수 (플레이오프 경기 있는 날): N/A\")\n",
    "    else:\n",
    "        print(\"분석 기간/지역 내 플레이오프 경기 데이터 없음.\")\n",
    "else:\n",
    "    print(\"생성된 최종 데이터셋이 비어있어 분석을 수행할 수 없습니다.\")\n",
    "\n",
    "# 데이터베이스 엔진 연결 종료 (스크립트가 끝나면 자동으로 닫히지만 명시적으로 호출 가능)\n",
    "if 'engine' in locals() and engine:\n",
    "    engine.dispose()\n",
    "    print(\"\\n데이터베이스 연결이 종료되었습니다.\")"
   ]
  },
  {
   "cell_type": "code",
   "execution_count": 92,
   "id": "ea9461b1",
   "metadata": {},
   "outputs": [],
   "source": [
    "from datetime import datetime\n",
    "\n",
    "final_df.to_csv(f\"2차데이터셋_송파구_{datetime.now().strftime('%Y%m%d_%H%M%S')}.csv\", index=False)"
   ]
  },
  {
   "cell_type": "code",
   "execution_count": 93,
   "id": "1e2c8a79",
   "metadata": {},
   "outputs": [
    {
     "name": "stdout",
     "output_type": "stream",
     "text": [
      "<class 'pandas.core.frame.DataFrame'>\n",
      "RangeIndex: 731 entries, 0 to 730\n",
      "Data columns (total 11 columns):\n",
      " #   Column             Non-Null Count  Dtype  \n",
      "---  ------             --------------  -----  \n",
      " 0   date               731 non-null    object \n",
      " 1   region_code        731 non-null    object \n",
      " 2   accident_count     731 non-null    int32  \n",
      " 3   game_count         731 non-null    int32  \n",
      " 4   sport_types        731 non-null    object \n",
      " 5   has_playoff        731 non-null    int32  \n",
      " 6   temperature        731 non-null    float64\n",
      " 7   precipitation      731 non-null    float64\n",
      " 8   weather_condition  731 non-null    object \n",
      " 9   is_holiday         731 non-null    int64  \n",
      " 10  weekday            731 non-null    object \n",
      "dtypes: float64(2), int32(3), int64(1), object(5)\n",
      "memory usage: 54.4+ KB\n"
     ]
    }
   ],
   "source": [
    "final_df.info()"
   ]
  }
 ],
 "metadata": {
  "kernelspec": {
   "display_name": "testenv",
   "language": "python",
   "name": "python3"
  },
  "language_info": {
   "codemirror_mode": {
    "name": "ipython",
    "version": 3
   },
   "file_extension": ".py",
   "mimetype": "text/x-python",
   "name": "python",
   "nbconvert_exporter": "python",
   "pygments_lexer": "ipython3",
   "version": "3.11.11"
  }
 },
 "nbformat": 4,
 "nbformat_minor": 5
}
